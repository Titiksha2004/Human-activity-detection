Human Activity Recognition
This experiment is the classification of human activities using a 2D pose time series dataset and an LSTM RNN. The idea is to prove the concept that using a series of 2D poses, rather than 3D poses or a raw 2D images, can produce an accurate estimation of the behaviour of a person or animal. This is a step towards creating a method of classifying an animal's current behaviour state and predicting it's likely next state, allowing for better interaction with an autonomous mobile robot. Objectives

The aims of this experiment are:

To determine if 2D pose has comparable accuracy to 3D pose for use in activity recognition. This would allow the use of RGB only cameras for human and animal pose estimation, as opposed to RGBD or a large motion capture dataset.

To determine if 2D pose has comparable accuracy to using raw RGB images for use in activity recognition. This is based on the idea that limiting the input feature vector can help to deal with a limited dataset, as is likely to occur in animal activity recognition, by allowing for a smaller model to be used (citation required).

To verify the concept for use in future works involving behaviour prediction from motion in 2D images.

The network used in this experiment is based on that of Guillaume Chevalier, 'LSTMs for Human Activity Recognition, 2016' https://github.com/guillaume-chevalier/LSTM-Human-Activity-Recognition, available under the MIT License. Notable changes that have been made (other than accounting for dataset sizes) are:

Adapting for use with a large dataset ordered by class, using random sampling without replacement for mini-batch.
This allows for use of smaller batch sizes when using a dataset ordered by class. "It has been observed in practice that when using a larger batch there is a significant degradation in the quality of the model, as measured by its ability to generalize"
Dataset overview
The dataset consists of pose estimations, made using the software OpenPose (https://github.com/CMU-Perceptual-Computing-Lab/openpose's) on a subset of the Berkeley Multimodal Human Action Database (MHAD) dataset http://tele-immersion.citris-uc.org/berkeley_mhad.

This dataset is comprised of 12 subjects doing the following 6 actions for 5 repetitions, filmed from 4 angles, repeated 5 times each.

JUMPING,
JUMPING_JACKS,
BOXING,
WAVING_2HANDS,
WAVING_1HAND,
CLAPPING_HANDS.
In total, there are 1438 videos (2 were missing) made up of 211200 individual frames.


%tensorflow_version 1.x
     
TensorFlow 1.x selected.
importing libraries



import numpy as np
import matplotlib
import matplotlib.pyplot as plt
import tensorflow as tf  # Version 1.0.0 (some previous versions are used in past commits)
# import tensorflow.compat.v1 as tf
#tf.disable_v2_behavior()
from sklearn import metrics
import random
from random import randint
import time
import os



     
Preparing dataset:


!wget -O RNN-HAR-2D-Pose-database.zip https://drive.google.com/u/1/uc?id=1IuZlyNjg6DMQE3iaO1Px6h1yLKgatynt
     
--2022-03-30 17:50:14--  https://drive.google.com/u/1/uc?id=1IuZlyNjg6DMQE3iaO1Px6h1yLKgatynt
Resolving drive.google.com (drive.google.com)... 142.250.141.113, 142.250.141.100, 142.250.141.139, ...
Connecting to drive.google.com (drive.google.com)|142.250.141.113|:443... connected.
HTTP request sent, awaiting response... 302 Found
Location: https://drive.google.com/uc?id=1IuZlyNjg6DMQE3iaO1Px6h1yLKgatynt [following]
--2022-03-30 17:50:14--  https://drive.google.com/uc?id=1IuZlyNjg6DMQE3iaO1Px6h1yLKgatynt
Reusing existing connection to drive.google.com:443.
HTTP request sent, awaiting response... 303 See Other
Location: https://doc-10-00-docs.googleusercontent.com/docs/securesc/ha0ro937gcuc7l7deffksulhg5h7mbp1/j8d0vocrb1sh2cd0slo9e774h5trk8is/1648662600000/01198563878503023152/*/1IuZlyNjg6DMQE3iaO1Px6h1yLKgatynt [following]
Warning: wildcards not supported in HTTP.
--2022-03-30 17:50:19--  https://doc-10-00-docs.googleusercontent.com/docs/securesc/ha0ro937gcuc7l7deffksulhg5h7mbp1/j8d0vocrb1sh2cd0slo9e774h5trk8is/1648662600000/01198563878503023152/*/1IuZlyNjg6DMQE3iaO1Px6h1yLKgatynt
Resolving doc-10-00-docs.googleusercontent.com (doc-10-00-docs.googleusercontent.com)... 142.250.141.132, 2607:f8b0:4023:c0b::84
Connecting to doc-10-00-docs.googleusercontent.com (doc-10-00-docs.googleusercontent.com)|142.250.141.132|:443... connected.
HTTP request sent, awaiting response... 200 OK
Length: 20132856 (19M) [application/zip]
Saving to: ‘RNN-HAR-2D-Pose-database.zip’

RNN-HAR-2D-Pose-dat 100%[===================>]  19.20M  55.3MB/s    in 0.3s    

2022-03-30 17:50:19 (55.3 MB/s) - ‘RNN-HAR-2D-Pose-database.zip’ saved [20132856/20132856]


!unzip RNN-HAR-2D-Pose-database.zip
     

!head -2 /content/RNN-HAR-2D-Pose-database/X_train.txt
     
295.914,161.579,307.693,203.413,281.546,203.368,274.997,251.562,267.194,293.253,337.619,204.669,347.958,255.443,341.541,295.866,286.81,289.393,297.196,355.832,297.22,405.371,321.967,291.959,327.143,358.408,328.528,411.922,294.546,156.42,305.002,156.418,0,0,318.083,161.632
295.855,161.6,307.684,203.408,281.529,203.385,274.989,251.574,267.191,291.961,337.615,204.646,347.974,254.209,344.093,295.816,286.803,289.377,297.165,355.827,297.205,404.095,323.248,290.652,324.564,358.409,328.493,410.63,293.252,157.686,303.706,157.706,0,0,318.024,161.654

# Useful Constants

# Output classes to learn how to classify
LABELS = [    
    "JUMPING",
    "JUMPING_JACKS",
    "BOXING",
    "WAVING_2HANDS",
    "WAVING_1HAND",
    "CLAPPING_HANDS"

] 
DATASET_PATH = "/content/RNN-HAR-2D-Pose-database/"

X_train_path = DATASET_PATH + "X_train.txt"
X_test_path = DATASET_PATH + "X_test.txt"

y_train_path = DATASET_PATH + "Y_train.txt"
y_test_path = DATASET_PATH + "Y_test.txt"

n_steps = 32 # 32 timesteps per series
     

# Load the networks inputs

def load_X(X_path):
    file = open(X_path, 'r')
    X_ = np.array(
        [elem for elem in [
            row.split(',') for row in file
        ]], 
        dtype=np.float32
    )
    file.close()
    blocks = int(len(X_) / n_steps)
    
    X_ = np.array(np.split(X_,blocks))

    return X_ 

# Load the networks outputs

def load_y(y_path):
    file = open(y_path, 'r')
    y_ = np.array(
        [elem for elem in [
            row.replace('  ', ' ').strip().split(' ') for row in file
        ]], 
        dtype=np.int32
    )
    file.close()
    
    # for 0-based indexing 
    return y_ - 1

X_train = load_X(X_train_path)
X_test = load_X(X_test_path)
#print X_test

y_train = load_y(y_train_path)
y_test = load_y(y_test_path)
# proof that it actually works for the skeptical: replace labelled classes with random classes to train on
#for i in range(len(y_train)):
#    y_train[i] = randint(0, 5)
     
Set Parameters:

# Input Data 

training_data_count = len(X_train)  # 4519 training series (with 50% overlap between each serie)
test_data_count = len(X_test)  # 1197 test series
n_input = len(X_train[0][0])  # num input parameters per timestep

n_hidden = 34 # Hidden layer num of features
n_classes = 6 

#updated for learning-rate decay
# calculated as: decayed_learning_rate = learning_rate * decay_rate ^ (global_step / decay_steps)
decaying_learning_rate = True
learning_rate = 0.0025 #used if decaying_learning_rate set to False
init_learning_rate = 0.005
decay_rate = 0.96 #the base of the exponential in the decay
decay_steps = 100000 #used in decay every 60000 steps with a base of 0.96

global_step = tf.Variable(0, trainable=False)
lambda_loss_amount = 0.0015

training_iters = training_data_count *300  # Loop 300 times on the dataset, ie 300 epochs
batch_size = 512
display_iter = batch_size*8  # To show test set accuracy during training

print("(X shape, y shape, every X's mean, every X's standard deviation)")
print(X_train.shape, y_test.shape, np.mean(X_test), np.std(X_test))
print("\nThe dataset has not been preprocessed, is not normalised etc")
     
(X shape, y shape, every X's mean, every X's standard deviation)
(22625, 32, 36) (5751, 1) 251.01117 126.12204

The dataset has not been preprocessed, is not normalised etc
Utility functions for training:



def LSTM_RNN(_X, _weights, _biases):
    # model architecture based on "guillaume-chevalier" and "aymericdamien" under the MIT license.

    _X = tf.transpose(_X, [1, 0, 2])  # permute n_steps and batch_size
    _X = tf.reshape(_X, [-1, n_input])   
    # Rectifies Linear Unit activation function used
    _X = tf.nn.relu(tf.matmul(_X, _weights['hidden']) + _biases['hidden'])
    # Split data because rnn cell needs a list of inputs for the RNN inner loop
    _X = tf.split(_X, n_steps, 0) 

    # Define two stacked LSTM cells (two recurrent layers deep) with tensorflow
    lstm_cell_1 = tf.contrib.rnn.BasicLSTMCell(n_hidden, forget_bias=1.0, state_is_tuple=True)
    lstm_cell_2 = tf.contrib.rnn.BasicLSTMCell(n_hidden, forget_bias=1.0, state_is_tuple=True)
    lstm_cells = tf.contrib.rnn.MultiRNNCell([lstm_cell_1, lstm_cell_2], state_is_tuple=True)
    outputs, states = tf.contrib.rnn.static_rnn(lstm_cells, _X, dtype=tf.float32)

    # A single output is produced, in style of "many to one" classifier, refer to http://karpathy.github.io/2015/05/21/rnn-effectiveness/ for details
    lstm_last_output = outputs[-1]
    
    # Linear activation
    return tf.matmul(lstm_last_output, _weights['out']) + _biases['out']


def extract_batch_size(_train, _labels, _unsampled, batch_size):
    # Fetch a "batch_size" amount of data and labels from "(X|y)_train" data. 
    # Elements of each batch are chosen randomly, without replacement, from X_train with corresponding label from Y_train
    # unsampled_indices keeps track of sampled data ensuring non-replacement. Resets when remaining datapoints < batch_size    
    
    shape = list(_train.shape)
    shape[0] = batch_size
    batch_s = np.empty(shape)
    batch_labels = np.empty((batch_size,1)) 

    for i in range(batch_size):
        # Loop index
        # index = random sample from _unsampled (indices)
        index = random.choice(_unsampled)
        batch_s[i] = _train[index] 
        batch_labels[i] = _labels[index]
        _unsampled.remove(index)


    return batch_s, batch_labels, _unsampled


def one_hot(y_):
    # One hot encoding of the network outputs
    # e.g.: [[5], [0], [3]] --> [[0, 0, 0, 0, 0, 1], [1, 0, 0, 0, 0, 0], [0, 0, 0, 1, 0, 0]]
    
    y_ = y_.reshape(len(y_))
    n_values = int(np.max(y_)) + 1
    return np.eye(n_values)[np.array(y_, dtype=np.int32)]  # Returns FLOATS


     

#tf.compat.v1.disable_eager_execution()
     
Build the network:

# Graph input/output
x = tf.placeholder(tf.float32, [None, n_steps, n_input])
y = tf.placeholder(tf.float32, [None, n_classes])

# Graph weights
weights = {
    'hidden': tf.Variable(tf.random_normal([n_input, n_hidden])), # Hidden layer weights
    'out': tf.Variable(tf.random_normal([n_hidden, n_classes], mean=1.0))
}
biases = {
    'hidden': tf.Variable(tf.random_normal([n_hidden])),
    'out': tf.Variable(tf.random_normal([n_classes]))
}

pred = LSTM_RNN(x, weights, biases)

# Loss, optimizer and evaluation
l2 = lambda_loss_amount * sum(
    tf.nn.l2_loss(tf_var) for tf_var in tf.trainable_variables()
) # L2 loss prevents this overkill neural network to overfit the data
cost = tf.reduce_mean(tf.nn.softmax_cross_entropy_with_logits(labels=y, logits=pred)) + l2 # Softmax loss
if decaying_learning_rate:
    learning_rate = tf.train.exponential_decay(init_learning_rate, global_step*batch_size, decay_steps, decay_rate, staircase=True)


#decayed_learning_rate = learning_rate * decay_rate ^ (global_step / decay_steps) #exponentially decayed learning rate
optimizer = tf.train.AdamOptimizer(learning_rate=learning_rate).minimize(cost,global_step=global_step) # Adam Optimizer

correct_pred = tf.equal(tf.argmax(pred,1), tf.argmax(y,1))
accuracy = tf.reduce_mean(tf.cast(correct_pred, tf.float32))
     
WARNING:tensorflow:
The TensorFlow contrib module will not be included in TensorFlow 2.0.
For more information, please see:
  * https://github.com/tensorflow/community/blob/master/rfcs/20180907-contrib-sunset.md
  * https://github.com/tensorflow/addons
  * https://github.com/tensorflow/io (for I/O related ops)
If you depend on functionality not listed there, please file an issue.

WARNING:tensorflow:From <ipython-input-6-604cdc46ddc3>:14: BasicLSTMCell.__init__ (from tensorflow.python.ops.rnn_cell_impl) is deprecated and will be removed in a future version.
Instructions for updating:
This class is equivalent as tf.keras.layers.LSTMCell, and will be replaced by that in Tensorflow 2.0.
WARNING:tensorflow:From <ipython-input-6-604cdc46ddc3>:16: MultiRNNCell.__init__ (from tensorflow.python.ops.rnn_cell_impl) is deprecated and will be removed in a future version.
Instructions for updating:
This class is equivalent as tf.keras.layers.StackedRNNCells, and will be replaced by that in Tensorflow 2.0.
WARNING:tensorflow:From <ipython-input-6-604cdc46ddc3>:17: static_rnn (from tensorflow.python.ops.rnn) is deprecated and will be removed in a future version.
Instructions for updating:
Please use `keras.layers.RNN(cell, unroll=True)`, which is equivalent to this API
WARNING:tensorflow:From /tensorflow-1.15.2/python3.7/tensorflow_core/python/ops/rnn_cell_impl.py:735: Layer.add_variable (from tensorflow.python.keras.engine.base_layer) is deprecated and will be removed in a future version.
Instructions for updating:
Please use `layer.add_weight` method instead.
WARNING:tensorflow:From /tensorflow-1.15.2/python3.7/tensorflow_core/python/ops/rnn_cell_impl.py:739: calling Zeros.__init__ (from tensorflow.python.ops.init_ops) with dtype is deprecated and will be removed in a future version.
Instructions for updating:
Call initializer instance with the dtype argument instead of passing it to the constructor
WARNING:tensorflow:From <ipython-input-7-54c3d276d670>:21: softmax_cross_entropy_with_logits (from tensorflow.python.ops.nn_ops) is deprecated and will be removed in a future version.
Instructions for updating:

Future major versions of TensorFlow will allow gradients to flow
into the labels input on backprop by default.

See `tf.nn.softmax_cross_entropy_with_logits_v2`.

Train the network:

test_losses = []
test_accuracies = []
train_losses = []
train_accuracies = []
sess = tf.InteractiveSession(config=tf.ConfigProto(log_device_placement=True))
init = tf.global_variables_initializer()
sess.run(init)

# Perform Training steps with "batch_size" amount of data at each loop. 
# Elements of each batch are chosen randomly, without replacement, from X_train, 
# restarting when remaining datapoints < batch_size
step = 1
time_start = time.time()
unsampled_indices = list(range(0,len(X_train)))

while step * batch_size <= training_iters:
    #print (sess.run(learning_rate)) #decaying learning rate
    #print (sess.run(global_step)) # global number of iterations
    if len(unsampled_indices) < batch_size:
        unsampled_indices = list(range(0,len(X_train))) 
    batch_xs, raw_labels, unsampled_indicies = extract_batch_size(X_train, y_train, unsampled_indices, batch_size)
    batch_ys = one_hot(raw_labels)
    # check that encoded output is same length as num_classes, if not, pad it 
    if len(batch_ys[0]) < n_classes:
        temp_ys = np.zeros((batch_size, n_classes))
        temp_ys[:batch_ys.shape[0],:batch_ys.shape[1]] = batch_ys
        batch_ys = temp_ys
       
    

    # Fit training using batch data
    _, loss, acc = sess.run(
        [optimizer, cost, accuracy],
        feed_dict={
            x: batch_xs, 
            y: batch_ys
        }
    )
    train_losses.append(loss)
    train_accuracies.append(acc)
    
    # Evaluate network only at some steps for faster training: 
    if (step*batch_size % display_iter == 0) or (step == 1) or (step * batch_size > training_iters):
        
        # To not spam console, show training accuracy/loss in this "if"
        print("Iter #" + str(step*batch_size) + \
              ":  Learning rate = " + "{:.6f}".format(sess.run(learning_rate)) + \
              ":   Batch Loss = " + "{:.6f}".format(loss) + \
              ", Accuracy = {}".format(acc))
        
        # Evaluation on the test set (no learning made here - just evaluation for diagnosis)
        loss, acc = sess.run(
            [cost, accuracy], 
            feed_dict={
                x: X_test,
                y: one_hot(y_test)
            }
        )
        test_losses.append(loss)
        test_accuracies.append(acc)
        print("PERFORMANCE ON TEST SET:             " + \
              "Batch Loss = {}".format(loss) + \
              ", Accuracy = {}".format(acc))

    step += 1

print("Optimization Finished!")

# Accuracy for test data

one_hot_predictions, accuracy, final_loss = sess.run(
    [pred, accuracy, cost],
    feed_dict={
        x: X_test,
        y: one_hot(y_test)
    }
)

test_losses.append(final_loss)
test_accuracies.append(accuracy)

print("FINAL RESULT: " + \
      "Batch Loss = {}".format(final_loss) + \
      ", Accuracy = {}".format(accuracy))
time_stop = time.time()
print("TOTAL TIME:  {}".format(time_stop - time_start))
     
Device mapping:
/job:localhost/replica:0/task:0/device:XLA_CPU:0 -> device: XLA_CPU device

Iter #512:  Learning rate = 0.005000:   Batch Loss = 3.796316, Accuracy = 0.216796875
PERFORMANCE ON TEST SET:             Batch Loss = 3.3051443099975586, Accuracy = 0.24326203763484955
Iter #4096:  Learning rate = 0.005000:   Batch Loss = 3.083028, Accuracy = 0.216796875
PERFORMANCE ON TEST SET:             Batch Loss = 3.108384132385254, Accuracy = 0.21631020307540894
Iter #8192:  Learning rate = 0.005000:   Batch Loss = 2.987861, Accuracy = 0.28125
PERFORMANCE ON TEST SET:             Batch Loss = 2.9821269512176514, Accuracy = 0.26291078329086304
Iter #12288:  Learning rate = 0.005000:   Batch Loss = 2.895537, Accuracy = 0.34765625
PERFORMANCE ON TEST SET:             Batch Loss = 2.831143617630005, Accuracy = 0.3780212104320526
Iter #16384:  Learning rate = 0.005000:   Batch Loss = 2.766108, Accuracy = 0.404296875
PERFORMANCE ON TEST SET:             Batch Loss = 2.6993703842163086, Accuracy = 0.4310554563999176
Iter #20480:  Learning rate = 0.005000:   Batch Loss = 3.004162, Accuracy = 0.228515625
PERFORMANCE ON TEST SET:             Batch Loss = 2.993819236755371, Accuracy = 0.23213353753089905
Iter #24576:  Learning rate = 0.005000:   Batch Loss = 2.917283, Accuracy = 0.263671875
PERFORMANCE ON TEST SET:             Batch Loss = 2.8761556148529053, Accuracy = 0.27004000544548035
Iter #28672:  Learning rate = 0.005000:   Batch Loss = 2.777232, Accuracy = 0.32421875
PERFORMANCE ON TEST SET:             Batch Loss = 2.7359511852264404, Accuracy = 0.342375248670578
Iter #32768:  Learning rate = 0.005000:   Batch Loss = 2.775743, Accuracy = 0.296875
PERFORMANCE ON TEST SET:             Batch Loss = 2.7268269062042236, Accuracy = 0.2401321530342102
Iter #36864:  Learning rate = 0.005000:   Batch Loss = 2.647457, Accuracy = 0.396484375
PERFORMANCE ON TEST SET:             Batch Loss = 2.6655173301696777, Accuracy = 0.3776734471321106
Iter #40960:  Learning rate = 0.005000:   Batch Loss = 2.511765, Accuracy = 0.421875
PERFORMANCE ON TEST SET:             Batch Loss = 2.485929012298584, Accuracy = 0.42601287364959717
Iter #45056:  Learning rate = 0.005000:   Batch Loss = 2.512536, Accuracy = 0.392578125
PERFORMANCE ON TEST SET:             Batch Loss = 2.489109516143799, Accuracy = 0.4420100748538971
Iter #49152:  Learning rate = 0.005000:   Batch Loss = 2.436126, Accuracy = 0.45703125
PERFORMANCE ON TEST SET:             Batch Loss = 2.404195785522461, Accuracy = 0.5009563565254211
Iter #53248:  Learning rate = 0.005000:   Batch Loss = 2.428219, Accuracy = 0.439453125
PERFORMANCE ON TEST SET:             Batch Loss = 2.3535208702087402, Accuracy = 0.471396267414093
Iter #57344:  Learning rate = 0.005000:   Batch Loss = 2.328549, Accuracy = 0.400390625
PERFORMANCE ON TEST SET:             Batch Loss = 2.3296990394592285, Accuracy = 0.4287949800491333
Iter #61440:  Learning rate = 0.005000:   Batch Loss = 2.206345, Accuracy = 0.541015625
PERFORMANCE ON TEST SET:             Batch Loss = 2.3517467975616455, Accuracy = 0.46304991841316223
Iter #65536:  Learning rate = 0.005000:   Batch Loss = 2.439918, Accuracy = 0.43359375
PERFORMANCE ON TEST SET:             Batch Loss = 2.4725589752197266, Accuracy = 0.40149539709091187
Iter #69632:  Learning rate = 0.005000:   Batch Loss = 2.306525, Accuracy = 0.455078125
PERFORMANCE ON TEST SET:             Batch Loss = 2.2536895275115967, Accuracy = 0.47696053981781006
Iter #73728:  Learning rate = 0.005000:   Batch Loss = 2.214752, Accuracy = 0.505859375
PERFORMANCE ON TEST SET:             Batch Loss = 2.2089953422546387, Accuracy = 0.49278387427330017
Iter #77824:  Learning rate = 0.005000:   Batch Loss = 2.208514, Accuracy = 0.49609375
PERFORMANCE ON TEST SET:             Batch Loss = 2.1890461444854736, Accuracy = 0.4959137439727783
Iter #81920:  Learning rate = 0.005000:   Batch Loss = 2.357244, Accuracy = 0.423828125
PERFORMANCE ON TEST SET:             Batch Loss = 2.2216432094573975, Accuracy = 0.4818292558193207
Iter #86016:  Learning rate = 0.005000:   Batch Loss = 2.230088, Accuracy = 0.47265625
PERFORMANCE ON TEST SET:             Batch Loss = 2.4780707359313965, Accuracy = 0.3818466365337372
Iter #90112:  Learning rate = 0.005000:   Batch Loss = 2.397430, Accuracy = 0.392578125
PERFORMANCE ON TEST SET:             Batch Loss = 2.4057188034057617, Accuracy = 0.44548773765563965
Iter #94208:  Learning rate = 0.005000:   Batch Loss = 2.302198, Accuracy = 0.43359375
PERFORMANCE ON TEST SET:             Batch Loss = 2.247032880783081, Accuracy = 0.46739697456359863
Iter #98304:  Learning rate = 0.005000:   Batch Loss = 2.190436, Accuracy = 0.455078125
PERFORMANCE ON TEST SET:             Batch Loss = 2.1388144493103027, Accuracy = 0.4576595425605774
Iter #102400:  Learning rate = 0.004800:   Batch Loss = 2.242598, Accuracy = 0.40234375
PERFORMANCE ON TEST SET:             Batch Loss = 2.1763885021209717, Accuracy = 0.4559206962585449
Iter #106496:  Learning rate = 0.004800:   Batch Loss = 2.239812, Accuracy = 0.447265625
PERFORMANCE ON TEST SET:             Batch Loss = 2.201629638671875, Accuracy = 0.4355764091014862
Iter #110592:  Learning rate = 0.004800:   Batch Loss = 2.171162, Accuracy = 0.44140625
PERFORMANCE ON TEST SET:             Batch Loss = 2.148347854614258, Accuracy = 0.46513649821281433
Iter #114688:  Learning rate = 0.004800:   Batch Loss = 2.167516, Accuracy = 0.435546875
PERFORMANCE ON TEST SET:             Batch Loss = 2.089254379272461, Accuracy = 0.4889584481716156
Iter #118784:  Learning rate = 0.004800:   Batch Loss = 2.104976, Accuracy = 0.455078125
PERFORMANCE ON TEST SET:             Batch Loss = 2.1097235679626465, Accuracy = 0.462180495262146
Iter #122880:  Learning rate = 0.004800:   Batch Loss = 2.005686, Accuracy = 0.5078125
PERFORMANCE ON TEST SET:             Batch Loss = 2.051107168197632, Accuracy = 0.4891323149204254
Iter #126976:  Learning rate = 0.004800:   Batch Loss = 2.023742, Accuracy = 0.5
PERFORMANCE ON TEST SET:             Batch Loss = 2.0557260513305664, Accuracy = 0.4863502085208893
Iter #131072:  Learning rate = 0.004800:   Batch Loss = 2.133417, Accuracy = 0.412109375
PERFORMANCE ON TEST SET:             Batch Loss = 2.1550228595733643, Accuracy = 0.42531734704971313
Iter #135168:  Learning rate = 0.004800:   Batch Loss = 2.182385, Accuracy = 0.283203125
PERFORMANCE ON TEST SET:             Batch Loss = 2.284607172012329, Accuracy = 0.30812034010887146
Iter #139264:  Learning rate = 0.004800:   Batch Loss = 2.039264, Accuracy = 0.51171875
PERFORMANCE ON TEST SET:             Batch Loss = 2.0576438903808594, Accuracy = 0.4973048269748688
Iter #143360:  Learning rate = 0.004800:   Batch Loss = 1.965563, Accuracy = 0.50390625
PERFORMANCE ON TEST SET:             Batch Loss = 2.0255625247955322, Accuracy = 0.46078944206237793
Iter #147456:  Learning rate = 0.004800:   Batch Loss = 1.979853, Accuracy = 0.490234375
PERFORMANCE ON TEST SET:             Batch Loss = 2.0124173164367676, Accuracy = 0.46600592136383057
Iter #151552:  Learning rate = 0.004800:   Batch Loss = 2.014022, Accuracy = 0.451171875
PERFORMANCE ON TEST SET:             Batch Loss = 2.017202138900757, Accuracy = 0.46983134746551514
Iter #155648:  Learning rate = 0.004800:   Batch Loss = 1.967525, Accuracy = 0.37890625
PERFORMANCE ON TEST SET:             Batch Loss = 2.0076279640197754, Accuracy = 0.42305687069892883
Iter #159744:  Learning rate = 0.004800:   Batch Loss = 1.967877, Accuracy = 0.458984375
PERFORMANCE ON TEST SET:             Batch Loss = 1.9484140872955322, Accuracy = 0.49417492747306824
Iter #163840:  Learning rate = 0.004800:   Batch Loss = 1.897021, Accuracy = 0.5234375
PERFORMANCE ON TEST SET:             Batch Loss = 1.9580681324005127, Accuracy = 0.48148149251937866
Iter #167936:  Learning rate = 0.004800:   Batch Loss = 1.959669, Accuracy = 0.48046875
PERFORMANCE ON TEST SET:             Batch Loss = 1.9626975059509277, Accuracy = 0.4729612171649933
Iter #172032:  Learning rate = 0.004800:   Batch Loss = 1.958174, Accuracy = 0.462890625
PERFORMANCE ON TEST SET:             Batch Loss = 1.9126553535461426, Accuracy = 0.501825749874115
Iter #176128:  Learning rate = 0.004800:   Batch Loss = 1.937542, Accuracy = 0.50390625
PERFORMANCE ON TEST SET:             Batch Loss = 2.039475202560425, Accuracy = 0.4442705512046814
Iter #180224:  Learning rate = 0.004800:   Batch Loss = 2.074833, Accuracy = 0.435546875
PERFORMANCE ON TEST SET:             Batch Loss = 1.9726121425628662, Accuracy = 0.4536602199077606
Iter #184320:  Learning rate = 0.004800:   Batch Loss = 2.049600, Accuracy = 0.400390625
PERFORMANCE ON TEST SET:             Batch Loss = 2.0175392627716064, Accuracy = 0.4084506928920746
Iter #188416:  Learning rate = 0.004800:   Batch Loss = 2.049589, Accuracy = 0.3984375
PERFORMANCE ON TEST SET:             Batch Loss = 1.9901832342147827, Accuracy = 0.4560945928096771
Iter #192512:  Learning rate = 0.004800:   Batch Loss = 2.058752, Accuracy = 0.44921875
PERFORMANCE ON TEST SET:             Batch Loss = 1.9870367050170898, Accuracy = 0.46322378516197205
Iter #196608:  Learning rate = 0.004800:   Batch Loss = 2.009929, Accuracy = 0.447265625
PERFORMANCE ON TEST SET:             Batch Loss = 2.0364856719970703, Accuracy = 0.43435925245285034
Iter #200704:  Learning rate = 0.004608:   Batch Loss = 2.041356, Accuracy = 0.439453125
PERFORMANCE ON TEST SET:             Batch Loss = 1.999186635017395, Accuracy = 0.4731351137161255
Iter #204800:  Learning rate = 0.004608:   Batch Loss = 2.071334, Accuracy = 0.427734375
PERFORMANCE ON TEST SET:             Batch Loss = 2.0723495483398438, Accuracy = 0.4373152554035187
Iter #208896:  Learning rate = 0.004608:   Batch Loss = 1.967828, Accuracy = 0.478515625
PERFORMANCE ON TEST SET:             Batch Loss = 1.9361228942871094, Accuracy = 0.49487045407295227
Iter #212992:  Learning rate = 0.004608:   Batch Loss = 1.891702, Accuracy = 0.451171875
PERFORMANCE ON TEST SET:             Batch Loss = 1.877089500427246, Accuracy = 0.5115631818771362
Iter #217088:  Learning rate = 0.004608:   Batch Loss = 1.908018, Accuracy = 0.46875
PERFORMANCE ON TEST SET:             Batch Loss = 1.970999002456665, Accuracy = 0.4715701639652252
Iter #221184:  Learning rate = 0.004608:   Batch Loss = 1.886315, Accuracy = 0.462890625
PERFORMANCE ON TEST SET:             Batch Loss = 1.8563880920410156, Accuracy = 0.48982784152030945
Iter #225280:  Learning rate = 0.004608:   Batch Loss = 1.841853, Accuracy = 0.462890625
PERFORMANCE ON TEST SET:             Batch Loss = 1.9876567125320435, Accuracy = 0.46583202481269836
Iter #229376:  Learning rate = 0.004608:   Batch Loss = 2.072492, Accuracy = 0.400390625
PERFORMANCE ON TEST SET:             Batch Loss = 2.005427122116089, Accuracy = 0.4493131637573242
Iter #233472:  Learning rate = 0.004608:   Batch Loss = 1.918007, Accuracy = 0.435546875
PERFORMANCE ON TEST SET:             Batch Loss = 1.9170408248901367, Accuracy = 0.4583550691604614
Iter #237568:  Learning rate = 0.004608:   Batch Loss = 1.875848, Accuracy = 0.466796875
PERFORMANCE ON TEST SET:             Batch Loss = 1.9204471111297607, Accuracy = 0.44966092705726624
Iter #241664:  Learning rate = 0.004608:   Batch Loss = 1.886762, Accuracy = 0.443359375
PERFORMANCE ON TEST SET:             Batch Loss = 1.8904197216033936, Accuracy = 0.4263606369495392
Iter #245760:  Learning rate = 0.004608:   Batch Loss = 1.928190, Accuracy = 0.44921875
PERFORMANCE ON TEST SET:             Batch Loss = 1.8642715215682983, Accuracy = 0.484785258769989
Iter #249856:  Learning rate = 0.004608:   Batch Loss = 1.874920, Accuracy = 0.521484375
PERFORMANCE ON TEST SET:             Batch Loss = 1.8914480209350586, Accuracy = 0.4861763119697571
Iter #253952:  Learning rate = 0.004608:   Batch Loss = 1.860873, Accuracy = 0.494140625
PERFORMANCE ON TEST SET:             Batch Loss = 1.8935060501098633, Accuracy = 0.46757087111473083
Iter #258048:  Learning rate = 0.004608:   Batch Loss = 1.938098, Accuracy = 0.466796875
PERFORMANCE ON TEST SET:             Batch Loss = 1.8646891117095947, Accuracy = 0.4818292558193207
Iter #262144:  Learning rate = 0.004608:   Batch Loss = 1.869844, Accuracy = 0.447265625
PERFORMANCE ON TEST SET:             Batch Loss = 1.8844497203826904, Accuracy = 0.4797426462173462
Iter #266240:  Learning rate = 0.004608:   Batch Loss = 1.897281, Accuracy = 0.458984375
PERFORMANCE ON TEST SET:             Batch Loss = 1.857002854347229, Accuracy = 0.454008013010025
Iter #270336:  Learning rate = 0.004608:   Batch Loss = 1.780586, Accuracy = 0.50390625
PERFORMANCE ON TEST SET:             Batch Loss = 1.8390583992004395, Accuracy = 0.4823508858680725
Iter #274432:  Learning rate = 0.004608:   Batch Loss = 1.871211, Accuracy = 0.46484375
PERFORMANCE ON TEST SET:             Batch Loss = 1.82655930519104, Accuracy = 0.4780038297176361
Iter #278528:  Learning rate = 0.004608:   Batch Loss = 1.769123, Accuracy = 0.529296875
PERFORMANCE ON TEST SET:             Batch Loss = 1.8181589841842651, Accuracy = 0.4934794008731842
Iter #282624:  Learning rate = 0.004608:   Batch Loss = 1.789377, Accuracy = 0.505859375
PERFORMANCE ON TEST SET:             Batch Loss = 1.8040703535079956, Accuracy = 0.5120848417282104
Iter #286720:  Learning rate = 0.004608:   Batch Loss = 1.797787, Accuracy = 0.482421875
PERFORMANCE ON TEST SET:             Batch Loss = 1.8014451265335083, Accuracy = 0.5080855488777161
Iter #290816:  Learning rate = 0.004608:   Batch Loss = 1.793723, Accuracy = 0.501953125
PERFORMANCE ON TEST SET:             Batch Loss = 1.7657233476638794, Accuracy = 0.5258215665817261
Iter #294912:  Learning rate = 0.004608:   Batch Loss = 1.744602, Accuracy = 0.521484375
PERFORMANCE ON TEST SET:             Batch Loss = 1.7695083618164062, Accuracy = 0.5039123892784119
Iter #299008:  Learning rate = 0.004608:   Batch Loss = 1.748143, Accuracy = 0.515625
PERFORMANCE ON TEST SET:             Batch Loss = 1.7581892013549805, Accuracy = 0.516605794429779
Iter #303104:  Learning rate = 0.004424:   Batch Loss = 1.790417, Accuracy = 0.5
PERFORMANCE ON TEST SET:             Batch Loss = 1.806298017501831, Accuracy = 0.49469658732414246
Iter #307200:  Learning rate = 0.004424:   Batch Loss = 1.780595, Accuracy = 0.50390625
PERFORMANCE ON TEST SET:             Batch Loss = 1.79168701171875, Accuracy = 0.507390022277832
Iter #311296:  Learning rate = 0.004424:   Batch Loss = 1.828006, Accuracy = 0.474609375
PERFORMANCE ON TEST SET:             Batch Loss = 1.834468960762024, Accuracy = 0.4842635989189148
Iter #315392:  Learning rate = 0.004424:   Batch Loss = 1.793128, Accuracy = 0.474609375
PERFORMANCE ON TEST SET:             Batch Loss = 1.7729134559631348, Accuracy = 0.4839158356189728
Iter #319488:  Learning rate = 0.004424:   Batch Loss = 1.786527, Accuracy = 0.48046875
PERFORMANCE ON TEST SET:             Batch Loss = 1.755427360534668, Accuracy = 0.5082594156265259
Iter #323584:  Learning rate = 0.004424:   Batch Loss = 1.848653, Accuracy = 0.46875
PERFORMANCE ON TEST SET:             Batch Loss = 1.8459548950195312, Accuracy = 0.45452964305877686
Iter #327680:  Learning rate = 0.004424:   Batch Loss = 1.830437, Accuracy = 0.44921875
PERFORMANCE ON TEST SET:             Batch Loss = 1.7538065910339355, Accuracy = 0.4997391700744629
Iter #331776:  Learning rate = 0.004424:   Batch Loss = 1.696340, Accuracy = 0.5078125
PERFORMANCE ON TEST SET:             Batch Loss = 1.7703423500061035, Accuracy = 0.4800904095172882
Iter #335872:  Learning rate = 0.004424:   Batch Loss = 1.775669, Accuracy = 0.458984375
PERFORMANCE ON TEST SET:             Batch Loss = 1.7605080604553223, Accuracy = 0.48095983266830444
Iter #339968:  Learning rate = 0.004424:   Batch Loss = 1.797528, Accuracy = 0.458984375
PERFORMANCE ON TEST SET:             Batch Loss = 1.754971981048584, Accuracy = 0.5053034424781799
Iter #344064:  Learning rate = 0.004424:   Batch Loss = 1.722999, Accuracy = 0.498046875
PERFORMANCE ON TEST SET:             Batch Loss = 1.7689279317855835, Accuracy = 0.49904364347457886
Iter #348160:  Learning rate = 0.004424:   Batch Loss = 1.731188, Accuracy = 0.48828125
PERFORMANCE ON TEST SET:             Batch Loss = 1.7485015392303467, Accuracy = 0.484437495470047
Iter #352256:  Learning rate = 0.004424:   Batch Loss = 1.732713, Accuracy = 0.5234375
PERFORMANCE ON TEST SET:             Batch Loss = 1.722115397453308, Accuracy = 0.4938271641731262
Iter #356352:  Learning rate = 0.004424:   Batch Loss = 1.686762, Accuracy = 0.541015625
PERFORMANCE ON TEST SET:             Batch Loss = 1.7426764965057373, Accuracy = 0.48339420557022095
Iter #360448:  Learning rate = 0.004424:   Batch Loss = 1.771831, Accuracy = 0.494140625
PERFORMANCE ON TEST SET:             Batch Loss = 1.7363296747207642, Accuracy = 0.5110415816307068
Iter #364544:  Learning rate = 0.004424:   Batch Loss = 1.788140, Accuracy = 0.47265625
PERFORMANCE ON TEST SET:             Batch Loss = 1.7594032287597656, Accuracy = 0.4846113622188568
Iter #368640:  Learning rate = 0.004424:   Batch Loss = 1.741698, Accuracy = 0.50390625
PERFORMANCE ON TEST SET:             Batch Loss = 1.7103676795959473, Accuracy = 0.5195618271827698
Iter #372736:  Learning rate = 0.004424:   Batch Loss = 1.696332, Accuracy = 0.52734375
PERFORMANCE ON TEST SET:             Batch Loss = 1.7136781215667725, Accuracy = 0.5115631818771362
Iter #376832:  Learning rate = 0.004424:   Batch Loss = 1.801155, Accuracy = 0.48046875
PERFORMANCE ON TEST SET:             Batch Loss = 1.821580410003662, Accuracy = 0.47869935631752014
Iter #380928:  Learning rate = 0.004424:   Batch Loss = 1.672390, Accuracy = 0.537109375
PERFORMANCE ON TEST SET:             Batch Loss = 1.7581629753112793, Accuracy = 0.4906972646713257
Iter #385024:  Learning rate = 0.004424:   Batch Loss = 1.769593, Accuracy = 0.48046875
PERFORMANCE ON TEST SET:             Batch Loss = 1.816654920578003, Accuracy = 0.4778299331665039
Iter #389120:  Learning rate = 0.004424:   Batch Loss = 1.707800, Accuracy = 0.533203125
PERFORMANCE ON TEST SET:             Batch Loss = 1.6963257789611816, Accuracy = 0.5265171527862549
Iter #393216:  Learning rate = 0.004424:   Batch Loss = 1.661386, Accuracy = 0.513671875
PERFORMANCE ON TEST SET:             Batch Loss = 1.6925883293151855, Accuracy = 0.5291253924369812
Iter #397312:  Learning rate = 0.004424:   Batch Loss = 1.612197, Accuracy = 0.560546875
PERFORMANCE ON TEST SET:             Batch Loss = 1.696545958518982, Accuracy = 0.5324291586875916
Iter #401408:  Learning rate = 0.004247:   Batch Loss = 1.647824, Accuracy = 0.541015625
PERFORMANCE ON TEST SET:             Batch Loss = 1.659663438796997, Accuracy = 0.5472092032432556
Iter #405504:  Learning rate = 0.004247:   Batch Loss = 1.659325, Accuracy = 0.501953125
PERFORMANCE ON TEST SET:             Batch Loss = 1.6813677549362183, Accuracy = 0.5287775993347168
Iter #409600:  Learning rate = 0.004247:   Batch Loss = 1.583710, Accuracy = 0.5546875
PERFORMANCE ON TEST SET:             Batch Loss = 1.6138086318969727, Accuracy = 0.5327768921852112
Iter #413696:  Learning rate = 0.004247:   Batch Loss = 1.516747, Accuracy = 0.537109375
PERFORMANCE ON TEST SET:             Batch Loss = 1.571134090423584, Accuracy = 0.5440793037414551
Iter #417792:  Learning rate = 0.004247:   Batch Loss = 1.492334, Accuracy = 0.603515625
PERFORMANCE ON TEST SET:             Batch Loss = 1.5486047267913818, Accuracy = 0.5491219162940979
Iter #421888:  Learning rate = 0.004247:   Batch Loss = 1.590322, Accuracy = 0.521484375
PERFORMANCE ON TEST SET:             Batch Loss = 1.5784056186676025, Accuracy = 0.5350373983383179
Iter #425984:  Learning rate = 0.004247:   Batch Loss = 1.554690, Accuracy = 0.560546875
PERFORMANCE ON TEST SET:             Batch Loss = 1.7060649394989014, Accuracy = 0.5259954929351807
Iter #430080:  Learning rate = 0.004247:   Batch Loss = 1.505500, Accuracy = 0.595703125
PERFORMANCE ON TEST SET:             Batch Loss = 1.583304762840271, Accuracy = 0.5350373983383179
Iter #434176:  Learning rate = 0.004247:   Batch Loss = 1.584398, Accuracy = 0.54296875
PERFORMANCE ON TEST SET:             Batch Loss = 1.5699299573898315, Accuracy = 0.5498174428939819
Iter #438272:  Learning rate = 0.004247:   Batch Loss = 1.495105, Accuracy = 0.572265625
PERFORMANCE ON TEST SET:             Batch Loss = 1.5521531105041504, Accuracy = 0.5499913096427917
Iter #442368:  Learning rate = 0.004247:   Batch Loss = 1.469857, Accuracy = 0.58984375
PERFORMANCE ON TEST SET:             Batch Loss = 1.5617308616638184, Accuracy = 0.550512969493866
Iter #446464:  Learning rate = 0.004247:   Batch Loss = 1.815145, Accuracy = 0.501953125
PERFORMANCE ON TEST SET:             Batch Loss = 1.6875841617584229, Accuracy = 0.5186923742294312
Iter #450560:  Learning rate = 0.004247:   Batch Loss = 1.594085, Accuracy = 0.55859375
PERFORMANCE ON TEST SET:             Batch Loss = 1.6625525951385498, Accuracy = 0.5179968476295471
Iter #454656:  Learning rate = 0.004247:   Batch Loss = 1.812289, Accuracy = 0.47265625
PERFORMANCE ON TEST SET:             Batch Loss = 1.736107587814331, Accuracy = 0.5105199217796326
Iter #458752:  Learning rate = 0.004247:   Batch Loss = 1.601604, Accuracy = 0.560546875
PERFORMANCE ON TEST SET:             Batch Loss = 1.675141453742981, Accuracy = 0.5306903123855591
Iter #462848:  Learning rate = 0.004247:   Batch Loss = 1.721927, Accuracy = 0.533203125
PERFORMANCE ON TEST SET:             Batch Loss = 1.6763802766799927, Accuracy = 0.5359067916870117
Iter #466944:  Learning rate = 0.004247:   Batch Loss = 1.680807, Accuracy = 0.51171875
PERFORMANCE ON TEST SET:             Batch Loss = 1.6503393650054932, Accuracy = 0.5348635315895081
Iter #471040:  Learning rate = 0.004247:   Batch Loss = 1.689340, Accuracy = 0.48828125
PERFORMANCE ON TEST SET:             Batch Loss = 1.638024926185608, Accuracy = 0.5372978448867798
Iter #475136:  Learning rate = 0.004247:   Batch Loss = 1.632342, Accuracy = 0.5234375
PERFORMANCE ON TEST SET:             Batch Loss = 1.6333112716674805, Accuracy = 0.5369501113891602
Iter #479232:  Learning rate = 0.004247:   Batch Loss = 1.623438, Accuracy = 0.529296875
PERFORMANCE ON TEST SET:             Batch Loss = 1.6357464790344238, Accuracy = 0.5593809485435486
Iter #483328:  Learning rate = 0.004247:   Batch Loss = 1.579734, Accuracy = 0.517578125
PERFORMANCE ON TEST SET:             Batch Loss = 1.5767138004302979, Accuracy = 0.56894451379776
Iter #487424:  Learning rate = 0.004247:   Batch Loss = 1.644208, Accuracy = 0.50390625
PERFORMANCE ON TEST SET:             Batch Loss = 1.570360779762268, Accuracy = 0.5746826529502869
Iter #491520:  Learning rate = 0.004247:   Batch Loss = 1.512193, Accuracy = 0.59765625
PERFORMANCE ON TEST SET:             Batch Loss = 1.5649349689483643, Accuracy = 0.5734654664993286
Iter #495616:  Learning rate = 0.004247:   Batch Loss = 1.786739, Accuracy = 0.470703125
PERFORMANCE ON TEST SET:             Batch Loss = 1.6704745292663574, Accuracy = 0.546339750289917
Iter #499712:  Learning rate = 0.004247:   Batch Loss = 1.609801, Accuracy = 0.533203125
PERFORMANCE ON TEST SET:             Batch Loss = 1.6429743766784668, Accuracy = 0.5308641791343689
Iter #503808:  Learning rate = 0.004077:   Batch Loss = 1.638065, Accuracy = 0.517578125
PERFORMANCE ON TEST SET:             Batch Loss = 1.660470724105835, Accuracy = 0.5336463451385498
Iter #507904:  Learning rate = 0.004077:   Batch Loss = 1.547923, Accuracy = 0.580078125
PERFORMANCE ON TEST SET:             Batch Loss = 1.5753810405731201, Accuracy = 0.5572943687438965
Iter #512000:  Learning rate = 0.004077:   Batch Loss = 1.539307, Accuracy = 0.5625
PERFORMANCE ON TEST SET:             Batch Loss = 1.533128023147583, Accuracy = 0.5821596384048462
Iter #516096:  Learning rate = 0.004077:   Batch Loss = 1.472793, Accuracy = 0.595703125
PERFORMANCE ON TEST SET:             Batch Loss = 1.492480993270874, Accuracy = 0.5995479226112366
Iter #520192:  Learning rate = 0.004077:   Batch Loss = 1.456176, Accuracy = 0.6015625
PERFORMANCE ON TEST SET:             Batch Loss = 1.5123579502105713, Accuracy = 0.5863327980041504
Iter #524288:  Learning rate = 0.004077:   Batch Loss = 1.477669, Accuracy = 0.58984375
PERFORMANCE ON TEST SET:             Batch Loss = 1.5141723155975342, Accuracy = 0.5805946588516235
Iter #528384:  Learning rate = 0.004077:   Batch Loss = 1.378107, Accuracy = 0.640625
PERFORMANCE ON TEST SET:             Batch Loss = 1.4772236347198486, Accuracy = 0.5960702300071716
Iter #532480:  Learning rate = 0.004077:   Batch Loss = 1.467794, Accuracy = 0.599609375
PERFORMANCE ON TEST SET:             Batch Loss = 1.4416919946670532, Accuracy = 0.6155450940132141
Iter #536576:  Learning rate = 0.004077:   Batch Loss = 1.415578, Accuracy = 0.654296875
PERFORMANCE ON TEST SET:             Batch Loss = 1.4023830890655518, Accuracy = 0.6247609257698059
Iter #540672:  Learning rate = 0.004077:   Batch Loss = 1.424123, Accuracy = 0.61328125
PERFORMANCE ON TEST SET:             Batch Loss = 1.4721204042434692, Accuracy = 0.6025038957595825
Iter #544768:  Learning rate = 0.004077:   Batch Loss = 1.417336, Accuracy = 0.611328125
PERFORMANCE ON TEST SET:             Batch Loss = 1.4126842021942139, Accuracy = 0.6301512718200684
Iter #548864:  Learning rate = 0.004077:   Batch Loss = 1.343526, Accuracy = 0.64453125
PERFORMANCE ON TEST SET:             Batch Loss = 1.4197617769241333, Accuracy = 0.619022786617279
Iter #552960:  Learning rate = 0.004077:   Batch Loss = 1.376102, Accuracy = 0.646484375
PERFORMANCE ON TEST SET:             Batch Loss = 1.4222431182861328, Accuracy = 0.6174578070640564
Iter #557056:  Learning rate = 0.004077:   Batch Loss = 1.405695, Accuracy = 0.62890625
PERFORMANCE ON TEST SET:             Batch Loss = 1.4006764888763428, Accuracy = 0.6244131326675415
Iter #561152:  Learning rate = 0.004077:   Batch Loss = 1.437859, Accuracy = 0.625
PERFORMANCE ON TEST SET:             Batch Loss = 1.425863265991211, Accuracy = 0.6058076620101929
Iter #565248:  Learning rate = 0.004077:   Batch Loss = 1.346700, Accuracy = 0.65234375
PERFORMANCE ON TEST SET:             Batch Loss = 1.4435272216796875, Accuracy = 0.6124152541160583
Iter #569344:  Learning rate = 0.004077:   Batch Loss = 1.290964, Accuracy = 0.669921875
PERFORMANCE ON TEST SET:             Batch Loss = 1.3759102821350098, Accuracy = 0.6444096565246582
Iter #573440:  Learning rate = 0.004077:   Batch Loss = 1.311788, Accuracy = 0.671875
PERFORMANCE ON TEST SET:             Batch Loss = 1.3996384143829346, Accuracy = 0.6329333782196045
Iter #577536:  Learning rate = 0.004077:   Batch Loss = 1.372838, Accuracy = 0.662109375
PERFORMANCE ON TEST SET:             Batch Loss = 1.3500195741653442, Accuracy = 0.643887996673584
Iter #581632:  Learning rate = 0.004077:   Batch Loss = 1.335532, Accuracy = 0.654296875
PERFORMANCE ON TEST SET:             Batch Loss = 1.329036831855774, Accuracy = 0.6504955887794495
Iter #585728:  Learning rate = 0.004077:   Batch Loss = 1.302494, Accuracy = 0.640625
PERFORMANCE ON TEST SET:             Batch Loss = 1.3353559970855713, Accuracy = 0.6456268429756165
Iter #589824:  Learning rate = 0.004077:   Batch Loss = 1.265242, Accuracy = 0.693359375
PERFORMANCE ON TEST SET:             Batch Loss = 1.3274390697479248, Accuracy = 0.6470178961753845
Iter #593920:  Learning rate = 0.004077:   Batch Loss = 1.333553, Accuracy = 0.6640625
PERFORMANCE ON TEST SET:             Batch Loss = 1.3034210205078125, Accuracy = 0.6640584468841553
Iter #598016:  Learning rate = 0.004077:   Batch Loss = 1.305558, Accuracy = 0.662109375
PERFORMANCE ON TEST SET:             Batch Loss = 1.373215675354004, Accuracy = 0.6414536833763123
Iter #602112:  Learning rate = 0.003914:   Batch Loss = 1.314194, Accuracy = 0.65625
PERFORMANCE ON TEST SET:             Batch Loss = 1.3304466009140015, Accuracy = 0.6496261358261108
Iter #606208:  Learning rate = 0.003914:   Batch Loss = 1.244042, Accuracy = 0.67578125
PERFORMANCE ON TEST SET:             Batch Loss = 1.3061082363128662, Accuracy = 0.6539732217788696
Iter #610304:  Learning rate = 0.003914:   Batch Loss = 1.302693, Accuracy = 0.671875
PERFORMANCE ON TEST SET:             Batch Loss = 1.3387441635131836, Accuracy = 0.6376282572746277
Iter #614400:  Learning rate = 0.003914:   Batch Loss = 1.323820, Accuracy = 0.685546875
PERFORMANCE ON TEST SET:             Batch Loss = 1.4153423309326172, Accuracy = 0.6386715173721313
Iter #618496:  Learning rate = 0.003914:   Batch Loss = 1.367675, Accuracy = 0.634765625
PERFORMANCE ON TEST SET:             Batch Loss = 1.388434886932373, Accuracy = 0.621283233165741
Iter #622592:  Learning rate = 0.003914:   Batch Loss = 1.292687, Accuracy = 0.69921875
PERFORMANCE ON TEST SET:             Batch Loss = 1.3683140277862549, Accuracy = 0.6362372040748596
Iter #626688:  Learning rate = 0.003914:   Batch Loss = 1.299639, Accuracy = 0.681640625
PERFORMANCE ON TEST SET:             Batch Loss = 1.3394924402236938, Accuracy = 0.6444096565246582
Iter #630784:  Learning rate = 0.003914:   Batch Loss = 1.283905, Accuracy = 0.658203125
PERFORMANCE ON TEST SET:             Batch Loss = 1.3518508672714233, Accuracy = 0.6522343754768372
Iter #634880:  Learning rate = 0.003914:   Batch Loss = 1.316126, Accuracy = 0.65234375
PERFORMANCE ON TEST SET:             Batch Loss = 1.3336141109466553, Accuracy = 0.6466701626777649
Iter #638976:  Learning rate = 0.003914:   Batch Loss = 1.307602, Accuracy = 0.65234375
PERFORMANCE ON TEST SET:             Batch Loss = 1.3161301612854004, Accuracy = 0.6607546806335449
Iter #643072:  Learning rate = 0.003914:   Batch Loss = 1.276287, Accuracy = 0.666015625
PERFORMANCE ON TEST SET:             Batch Loss = 1.33207368850708, Accuracy = 0.6501477956771851
Iter #647168:  Learning rate = 0.003914:   Batch Loss = 1.239858, Accuracy = 0.701171875
PERFORMANCE ON TEST SET:             Batch Loss = 1.3100976943969727, Accuracy = 0.6598852276802063
Iter #651264:  Learning rate = 0.003914:   Batch Loss = 1.237750, Accuracy = 0.662109375
PERFORMANCE ON TEST SET:             Batch Loss = 1.2883903980255127, Accuracy = 0.6697965860366821
Iter #655360:  Learning rate = 0.003914:   Batch Loss = 1.249737, Accuracy = 0.68359375
PERFORMANCE ON TEST SET:             Batch Loss = 1.3145668506622314, Accuracy = 0.648061215877533
Iter #659456:  Learning rate = 0.003914:   Batch Loss = 1.249663, Accuracy = 0.67578125
PERFORMANCE ON TEST SET:             Batch Loss = 1.2994003295898438, Accuracy = 0.6576247811317444
Iter #663552:  Learning rate = 0.003914:   Batch Loss = 1.267978, Accuracy = 0.68359375
PERFORMANCE ON TEST SET:             Batch Loss = 1.2894620895385742, Accuracy = 0.6717092394828796
Iter #667648:  Learning rate = 0.003914:   Batch Loss = 1.294080, Accuracy = 0.666015625
PERFORMANCE ON TEST SET:             Batch Loss = 1.2719589471817017, Accuracy = 0.6743175387382507
Iter #671744:  Learning rate = 0.003914:   Batch Loss = 1.237755, Accuracy = 0.693359375
PERFORMANCE ON TEST SET:             Batch Loss = 1.2827049493789673, Accuracy = 0.67136150598526
Iter #675840:  Learning rate = 0.003914:   Batch Loss = 1.362885, Accuracy = 0.654296875
PERFORMANCE ON TEST SET:             Batch Loss = 1.3684022426605225, Accuracy = 0.6334550380706787
Iter #679936:  Learning rate = 0.003914:   Batch Loss = 1.256283, Accuracy = 0.68359375
PERFORMANCE ON TEST SET:             Batch Loss = 1.2788912057876587, Accuracy = 0.6633629202842712
Iter #684032:  Learning rate = 0.003914:   Batch Loss = 1.205689, Accuracy = 0.70703125
PERFORMANCE ON TEST SET:             Batch Loss = 1.2999014854431152, Accuracy = 0.654321014881134
Iter #688128:  Learning rate = 0.003914:   Batch Loss = 1.308632, Accuracy = 0.646484375
PERFORMANCE ON TEST SET:             Batch Loss = 1.270514726638794, Accuracy = 0.6736219525337219
Iter #692224:  Learning rate = 0.003914:   Batch Loss = 1.243643, Accuracy = 0.697265625
PERFORMANCE ON TEST SET:             Batch Loss = 1.2733001708984375, Accuracy = 0.6642323136329651
Iter #696320:  Learning rate = 0.003914:   Batch Loss = 1.162439, Accuracy = 0.720703125
PERFORMANCE ON TEST SET:             Batch Loss = 1.257673740386963, Accuracy = 0.6741436123847961
Iter #700416:  Learning rate = 0.003757:   Batch Loss = 1.212046, Accuracy = 0.705078125
PERFORMANCE ON TEST SET:             Batch Loss = 1.2465965747833252, Accuracy = 0.6638845205307007
Iter #704512:  Learning rate = 0.003757:   Batch Loss = 1.165512, Accuracy = 0.708984375
PERFORMANCE ON TEST SET:             Batch Loss = 1.254148244857788, Accuracy = 0.679186224937439
Iter #708608:  Learning rate = 0.003757:   Batch Loss = 1.157984, Accuracy = 0.73046875
PERFORMANCE ON TEST SET:             Batch Loss = 1.2561395168304443, Accuracy = 0.6734480857849121
Iter #712704:  Learning rate = 0.003757:   Batch Loss = 1.162219, Accuracy = 0.73046875
PERFORMANCE ON TEST SET:             Batch Loss = 1.2364068031311035, Accuracy = 0.6849243640899658
Iter #716800:  Learning rate = 0.003757:   Batch Loss = 1.159155, Accuracy = 0.73046875
PERFORMANCE ON TEST SET:             Batch Loss = 1.2235076427459717, Accuracy = 0.6944879293441772
Iter #720896:  Learning rate = 0.003757:   Batch Loss = 1.264450, Accuracy = 0.646484375
PERFORMANCE ON TEST SET:             Batch Loss = 1.382752537727356, Accuracy = 0.6277168989181519
Iter #724992:  Learning rate = 0.003757:   Batch Loss = 1.346110, Accuracy = 0.638671875
PERFORMANCE ON TEST SET:             Batch Loss = 1.276425838470459, Accuracy = 0.6758824586868286
Iter #729088:  Learning rate = 0.003757:   Batch Loss = 1.302438, Accuracy = 0.64453125
PERFORMANCE ON TEST SET:             Batch Loss = 1.2418646812438965, Accuracy = 0.684750497341156
Iter #733184:  Learning rate = 0.003757:   Batch Loss = 1.142520, Accuracy = 0.72265625
PERFORMANCE ON TEST SET:             Batch Loss = 1.2464783191680908, Accuracy = 0.6795340180397034
Iter #737280:  Learning rate = 0.003757:   Batch Loss = 1.157431, Accuracy = 0.7109375
PERFORMANCE ON TEST SET:             Batch Loss = 1.2319045066833496, Accuracy = 0.6774473786354065
Iter #741376:  Learning rate = 0.003757:   Batch Loss = 1.187538, Accuracy = 0.69140625
PERFORMANCE ON TEST SET:             Batch Loss = 1.2408006191253662, Accuracy = 0.6645800471305847
Iter #745472:  Learning rate = 0.003757:   Batch Loss = 1.204678, Accuracy = 0.697265625
PERFORMANCE ON TEST SET:             Batch Loss = 1.2400516271591187, Accuracy = 0.6807511448860168
Iter #749568:  Learning rate = 0.003757:   Batch Loss = 1.161870, Accuracy = 0.712890625
PERFORMANCE ON TEST SET:             Batch Loss = 1.2210822105407715, Accuracy = 0.6856198906898499
Iter #753664:  Learning rate = 0.003757:   Batch Loss = 1.114597, Accuracy = 0.724609375
PERFORMANCE ON TEST SET:             Batch Loss = 1.2292968034744263, Accuracy = 0.6880542635917664
Iter #757760:  Learning rate = 0.003757:   Batch Loss = 1.211219, Accuracy = 0.69921875
PERFORMANCE ON TEST SET:             Batch Loss = 1.2349778413772583, Accuracy = 0.6790123581886292
Iter #761856:  Learning rate = 0.003757:   Batch Loss = 1.388995, Accuracy = 0.630859375
PERFORMANCE ON TEST SET:             Batch Loss = 1.299229383468628, Accuracy = 0.6508433222770691
Iter #765952:  Learning rate = 0.003757:   Batch Loss = 1.363136, Accuracy = 0.642578125
PERFORMANCE ON TEST SET:             Batch Loss = 1.363762617111206, Accuracy = 0.6518866419792175
Iter #770048:  Learning rate = 0.003757:   Batch Loss = 1.282749, Accuracy = 0.642578125
PERFORMANCE ON TEST SET:             Batch Loss = 1.2691655158996582, Accuracy = 0.6724048256874084
Iter #774144:  Learning rate = 0.003757:   Batch Loss = 1.190230, Accuracy = 0.705078125
PERFORMANCE ON TEST SET:             Batch Loss = 1.2565220594406128, Accuracy = 0.6663188934326172
Iter #778240:  Learning rate = 0.003757:   Batch Loss = 1.171151, Accuracy = 0.703125
PERFORMANCE ON TEST SET:             Batch Loss = 1.2460145950317383, Accuracy = 0.6743175387382507
Iter #782336:  Learning rate = 0.003757:   Batch Loss = 1.186401, Accuracy = 0.728515625
PERFORMANCE ON TEST SET:             Batch Loss = 1.246800422668457, Accuracy = 0.6755346655845642
Iter #786432:  Learning rate = 0.003757:   Batch Loss = 1.177442, Accuracy = 0.6875
PERFORMANCE ON TEST SET:             Batch Loss = 1.2142376899719238, Accuracy = 0.6863154172897339
Iter #790528:  Learning rate = 0.003757:   Batch Loss = 1.112236, Accuracy = 0.71875
PERFORMANCE ON TEST SET:             Batch Loss = 1.21173095703125, Accuracy = 0.684054970741272
Iter #794624:  Learning rate = 0.003757:   Batch Loss = 1.160181, Accuracy = 0.73046875
PERFORMANCE ON TEST SET:             Batch Loss = 1.2817209959030151, Accuracy = 0.6597113609313965
Iter #798720:  Learning rate = 0.003757:   Batch Loss = 1.196155, Accuracy = 0.712890625
PERFORMANCE ON TEST SET:             Batch Loss = 1.2453196048736572, Accuracy = 0.6744914054870605
Iter #802816:  Learning rate = 0.003607:   Batch Loss = 1.084268, Accuracy = 0.7578125
PERFORMANCE ON TEST SET:             Batch Loss = 1.2228074073791504, Accuracy = 0.6837071776390076
Iter #806912:  Learning rate = 0.003607:   Batch Loss = 1.136309, Accuracy = 0.744140625
PERFORMANCE ON TEST SET:             Batch Loss = 1.2092698812484741, Accuracy = 0.6880542635917664
Iter #811008:  Learning rate = 0.003607:   Batch Loss = 1.193072, Accuracy = 0.712890625
PERFORMANCE ON TEST SET:             Batch Loss = 1.1947956085205078, Accuracy = 0.6929229497909546
Iter #815104:  Learning rate = 0.003607:   Batch Loss = 1.037567, Accuracy = 0.775390625
PERFORMANCE ON TEST SET:             Batch Loss = 1.1976476907730103, Accuracy = 0.6911841630935669
Iter #819200:  Learning rate = 0.003607:   Batch Loss = 1.155974, Accuracy = 0.6875
PERFORMANCE ON TEST SET:             Batch Loss = 1.1975343227386475, Accuracy = 0.6969223022460938
Iter #823296:  Learning rate = 0.003607:   Batch Loss = 1.164881, Accuracy = 0.71875
PERFORMANCE ON TEST SET:             Batch Loss = 1.1921889781951904, Accuracy = 0.6922274231910706
Iter #827392:  Learning rate = 0.003607:   Batch Loss = 1.143453, Accuracy = 0.720703125
PERFORMANCE ON TEST SET:             Batch Loss = 1.198352575302124, Accuracy = 0.6880542635917664
Iter #831488:  Learning rate = 0.003607:   Batch Loss = 1.148314, Accuracy = 0.703125
PERFORMANCE ON TEST SET:             Batch Loss = 1.173499584197998, Accuracy = 0.6965745091438293
Iter #835584:  Learning rate = 0.003607:   Batch Loss = 1.173114, Accuracy = 0.69921875
PERFORMANCE ON TEST SET:             Batch Loss = 1.2021102905273438, Accuracy = 0.6850982308387756
Iter #839680:  Learning rate = 0.003607:   Batch Loss = 1.180572, Accuracy = 0.703125
PERFORMANCE ON TEST SET:             Batch Loss = 1.2390332221984863, Accuracy = 0.6647539734840393
Iter #843776:  Learning rate = 0.003607:   Batch Loss = 1.129353, Accuracy = 0.71484375
PERFORMANCE ON TEST SET:             Batch Loss = 1.2087750434875488, Accuracy = 0.6924013495445251
Iter #847872:  Learning rate = 0.003607:   Batch Loss = 1.121132, Accuracy = 0.73828125
PERFORMANCE ON TEST SET:             Batch Loss = 1.1667184829711914, Accuracy = 0.6990088820457458
Iter #851968:  Learning rate = 0.003607:   Batch Loss = 1.146271, Accuracy = 0.724609375
PERFORMANCE ON TEST SET:             Batch Loss = 1.2174971103668213, Accuracy = 0.6849243640899658
Iter #856064:  Learning rate = 0.003607:   Batch Loss = 1.058159, Accuracy = 0.763671875
PERFORMANCE ON TEST SET:             Batch Loss = 1.1961047649383545, Accuracy = 0.6908363699913025
Iter #860160:  Learning rate = 0.003607:   Batch Loss = 1.160904, Accuracy = 0.705078125
PERFORMANCE ON TEST SET:             Batch Loss = 1.362259864807129, Accuracy = 0.6631889939308167
Iter #864256:  Learning rate = 0.003607:   Batch Loss = 1.233871, Accuracy = 0.697265625
PERFORMANCE ON TEST SET:             Batch Loss = 1.2627511024475098, Accuracy = 0.6569292545318604
Iter #868352:  Learning rate = 0.003607:   Batch Loss = 1.180209, Accuracy = 0.69140625
PERFORMANCE ON TEST SET:             Batch Loss = 1.2094930410385132, Accuracy = 0.6830116510391235
Iter #872448:  Learning rate = 0.003607:   Batch Loss = 1.195339, Accuracy = 0.693359375
PERFORMANCE ON TEST SET:             Batch Loss = 1.18672776222229, Accuracy = 0.6943140029907227
Iter #876544:  Learning rate = 0.003607:   Batch Loss = 1.144791, Accuracy = 0.708984375
PERFORMANCE ON TEST SET:             Batch Loss = 1.198177456855774, Accuracy = 0.6880542635917664
Iter #880640:  Learning rate = 0.003607:   Batch Loss = 1.123030, Accuracy = 0.740234375
PERFORMANCE ON TEST SET:             Batch Loss = 1.1750798225402832, Accuracy = 0.6930968761444092
Iter #884736:  Learning rate = 0.003607:   Batch Loss = 1.070371, Accuracy = 0.740234375
PERFORMANCE ON TEST SET:             Batch Loss = 1.1528215408325195, Accuracy = 0.7043992280960083
Iter #888832:  Learning rate = 0.003607:   Batch Loss = 1.151354, Accuracy = 0.701171875
PERFORMANCE ON TEST SET:             Batch Loss = 1.1650201082229614, Accuracy = 0.6969223022460938
Iter #892928:  Learning rate = 0.003607:   Batch Loss = 1.096645, Accuracy = 0.728515625
PERFORMANCE ON TEST SET:             Batch Loss = 1.2817111015319824, Accuracy = 0.6558859348297119
Iter #897024:  Learning rate = 0.003607:   Batch Loss = 1.182631, Accuracy = 0.669921875
PERFORMANCE ON TEST SET:             Batch Loss = 1.228986382484436, Accuracy = 0.6675360798835754
Iter #901120:  Learning rate = 0.003463:   Batch Loss = 1.145384, Accuracy = 0.720703125
PERFORMANCE ON TEST SET:             Batch Loss = 1.1771047115325928, Accuracy = 0.6969223022460938
Iter #905216:  Learning rate = 0.003463:   Batch Loss = 1.131238, Accuracy = 0.724609375
PERFORMANCE ON TEST SET:             Batch Loss = 1.172297716140747, Accuracy = 0.6870109438896179
Iter #909312:  Learning rate = 0.003463:   Batch Loss = 1.152805, Accuracy = 0.7265625
PERFORMANCE ON TEST SET:             Batch Loss = 1.1820785999298096, Accuracy = 0.6868370771408081
Iter #913408:  Learning rate = 0.003463:   Batch Loss = 1.064936, Accuracy = 0.728515625
PERFORMANCE ON TEST SET:             Batch Loss = 1.1567565202713013, Accuracy = 0.7056164145469666
Iter #917504:  Learning rate = 0.003463:   Batch Loss = 1.147331, Accuracy = 0.724609375
PERFORMANCE ON TEST SET:             Batch Loss = 1.1536602973937988, Accuracy = 0.7000521421432495
Iter #921600:  Learning rate = 0.003463:   Batch Loss = 1.101850, Accuracy = 0.73828125
PERFORMANCE ON TEST SET:             Batch Loss = 1.152159333229065, Accuracy = 0.706659734249115
Iter #925696:  Learning rate = 0.003463:   Batch Loss = 1.143658, Accuracy = 0.71484375
PERFORMANCE ON TEST SET:             Batch Loss = 1.177966594696045, Accuracy = 0.6969223022460938
Iter #929792:  Learning rate = 0.003463:   Batch Loss = 1.214973, Accuracy = 0.685546875
PERFORMANCE ON TEST SET:             Batch Loss = 1.1880419254302979, Accuracy = 0.6844027042388916
Iter #933888:  Learning rate = 0.003463:   Batch Loss = 1.291793, Accuracy = 0.66015625
PERFORMANCE ON TEST SET:             Batch Loss = 1.1832232475280762, Accuracy = 0.6878803968429565
Iter #937984:  Learning rate = 0.003463:   Batch Loss = 1.086218, Accuracy = 0.72265625
PERFORMANCE ON TEST SET:             Batch Loss = 1.1758848428726196, Accuracy = 0.6917057633399963
Iter #942080:  Learning rate = 0.003463:   Batch Loss = 1.105920, Accuracy = 0.748046875
PERFORMANCE ON TEST SET:             Batch Loss = 1.1566190719604492, Accuracy = 0.6976178288459778
Iter #946176:  Learning rate = 0.003463:   Batch Loss = 1.088803, Accuracy = 0.71875
PERFORMANCE ON TEST SET:             Batch Loss = 1.1582945585250854, Accuracy = 0.6962267160415649
Iter #950272:  Learning rate = 0.003463:   Batch Loss = 1.064342, Accuracy = 0.744140625
PERFORMANCE ON TEST SET:             Batch Loss = 1.1754522323608398, Accuracy = 0.6930968761444092
Iter #954368:  Learning rate = 0.003463:   Batch Loss = 1.118104, Accuracy = 0.71484375
PERFORMANCE ON TEST SET:             Batch Loss = 1.144888997077942, Accuracy = 0.7012693285942078
Iter #958464:  Learning rate = 0.003463:   Batch Loss = 1.081195, Accuracy = 0.7265625
PERFORMANCE ON TEST SET:             Batch Loss = 1.1473244428634644, Accuracy = 0.7012693285942078
Iter #962560:  Learning rate = 0.003463:   Batch Loss = 1.024579, Accuracy = 0.76171875
PERFORMANCE ON TEST SET:             Batch Loss = 1.133683443069458, Accuracy = 0.7061380743980408
Iter #966656:  Learning rate = 0.003463:   Batch Loss = 1.040124, Accuracy = 0.76953125
PERFORMANCE ON TEST SET:             Batch Loss = 1.1306464672088623, Accuracy = 0.7139627933502197
Iter #970752:  Learning rate = 0.003463:   Batch Loss = 0.992557, Accuracy = 0.78125
PERFORMANCE ON TEST SET:             Batch Loss = 1.1241333484649658, Accuracy = 0.7127456068992615
Iter #974848:  Learning rate = 0.003463:   Batch Loss = 1.096948, Accuracy = 0.71484375
PERFORMANCE ON TEST SET:             Batch Loss = 1.1368870735168457, Accuracy = 0.7068336009979248
Iter #978944:  Learning rate = 0.003463:   Batch Loss = 1.041652, Accuracy = 0.73828125
PERFORMANCE ON TEST SET:             Batch Loss = 1.1194713115692139, Accuracy = 0.7125717401504517
Iter #983040:  Learning rate = 0.003463:   Batch Loss = 1.042834, Accuracy = 0.765625
PERFORMANCE ON TEST SET:             Batch Loss = 1.1586928367614746, Accuracy = 0.6941401362419128
Iter #987136:  Learning rate = 0.003463:   Batch Loss = 1.078664, Accuracy = 0.736328125
PERFORMANCE ON TEST SET:             Batch Loss = 1.1084915399551392, Accuracy = 0.7146583199501038
Iter #991232:  Learning rate = 0.003463:   Batch Loss = 1.110343, Accuracy = 0.716796875
PERFORMANCE ON TEST SET:             Batch Loss = 1.1182186603546143, Accuracy = 0.7160493731498718
Iter #995328:  Learning rate = 0.003463:   Batch Loss = 1.003617, Accuracy = 0.7734375
PERFORMANCE ON TEST SET:             Batch Loss = 1.0967062711715698, Accuracy = 0.7197009325027466
Iter #999424:  Learning rate = 0.003463:   Batch Loss = 0.981782, Accuracy = 0.78515625
PERFORMANCE ON TEST SET:             Batch Loss = 1.0993800163269043, Accuracy = 0.7146583199501038
Iter #1003520:  Learning rate = 0.003324:   Batch Loss = 1.001910, Accuracy = 0.771484375
PERFORMANCE ON TEST SET:             Batch Loss = 1.0785491466522217, Accuracy = 0.7254390716552734
Iter #1007616:  Learning rate = 0.003324:   Batch Loss = 1.044683, Accuracy = 0.73046875
PERFORMANCE ON TEST SET:             Batch Loss = 1.0986826419830322, Accuracy = 0.7209181189537048
Iter #1011712:  Learning rate = 0.003324:   Batch Loss = 1.027444, Accuracy = 0.7421875
PERFORMANCE ON TEST SET:             Batch Loss = 1.1322228908538818, Accuracy = 0.7026603817939758
Iter #1015808:  Learning rate = 0.003324:   Batch Loss = 0.976140, Accuracy = 0.76171875
PERFORMANCE ON TEST SET:             Batch Loss = 1.1308553218841553, Accuracy = 0.7104851603507996
Iter #1019904:  Learning rate = 0.003324:   Batch Loss = 1.013361, Accuracy = 0.763671875
PERFORMANCE ON TEST SET:             Batch Loss = 1.0465877056121826, Accuracy = 0.7339593172073364
Iter #1024000:  Learning rate = 0.003324:   Batch Loss = 1.015083, Accuracy = 0.751953125
PERFORMANCE ON TEST SET:             Batch Loss = 1.090362310409546, Accuracy = 0.7104851603507996
Iter #1028096:  Learning rate = 0.003324:   Batch Loss = 1.071926, Accuracy = 0.73828125
PERFORMANCE ON TEST SET:             Batch Loss = 1.160988450050354, Accuracy = 0.6943140029907227
Iter #1032192:  Learning rate = 0.003324:   Batch Loss = 1.140696, Accuracy = 0.716796875
PERFORMANCE ON TEST SET:             Batch Loss = 1.1734504699707031, Accuracy = 0.6868370771408081
Iter #1036288:  Learning rate = 0.003324:   Batch Loss = 1.146770, Accuracy = 0.685546875
PERFORMANCE ON TEST SET:             Batch Loss = 1.18831467628479, Accuracy = 0.6684054732322693
Iter #1040384:  Learning rate = 0.003324:   Batch Loss = 1.045353, Accuracy = 0.736328125
PERFORMANCE ON TEST SET:             Batch Loss = 1.1626827716827393, Accuracy = 0.6936184763908386
Iter #1044480:  Learning rate = 0.003324:   Batch Loss = 1.090381, Accuracy = 0.712890625
PERFORMANCE ON TEST SET:             Batch Loss = 1.1794121265411377, Accuracy = 0.6824899911880493
Iter #1048576:  Learning rate = 0.003324:   Batch Loss = 1.029553, Accuracy = 0.74609375
PERFORMANCE ON TEST SET:             Batch Loss = 1.0874910354614258, Accuracy = 0.7231785655021667
Iter #1052672:  Learning rate = 0.003324:   Batch Loss = 1.028191, Accuracy = 0.73828125
PERFORMANCE ON TEST SET:             Batch Loss = 1.0617551803588867, Accuracy = 0.7252651453018188
Iter #1056768:  Learning rate = 0.003324:   Batch Loss = 0.939942, Accuracy = 0.79296875
PERFORMANCE ON TEST SET:             Batch Loss = 1.0875606536865234, Accuracy = 0.724395751953125
Iter #1060864:  Learning rate = 0.003324:   Batch Loss = 1.008071, Accuracy = 0.75
PERFORMANCE ON TEST SET:             Batch Loss = 1.0757472515106201, Accuracy = 0.7259607315063477
Iter #1064960:  Learning rate = 0.003324:   Batch Loss = 0.990707, Accuracy = 0.77734375
PERFORMANCE ON TEST SET:             Batch Loss = 1.0802897214889526, Accuracy = 0.729264497756958
Iter #1069056:  Learning rate = 0.003324:   Batch Loss = 0.939799, Accuracy = 0.78125
PERFORMANCE ON TEST SET:             Batch Loss = 1.06179940700531, Accuracy = 0.7233524322509766
Iter #1073152:  Learning rate = 0.003324:   Batch Loss = 0.962063, Accuracy = 0.7734375
PERFORMANCE ON TEST SET:             Batch Loss = 1.0997246503829956, Accuracy = 0.729264497756958
Iter #1077248:  Learning rate = 0.003324:   Batch Loss = 0.955289, Accuracy = 0.779296875
PERFORMANCE ON TEST SET:             Batch Loss = 1.0481514930725098, Accuracy = 0.7332637906074524
Iter #1081344:  Learning rate = 0.003324:   Batch Loss = 1.010054, Accuracy = 0.75390625
PERFORMANCE ON TEST SET:             Batch Loss = 1.092738151550293, Accuracy = 0.7146583199501038
Iter #1085440:  Learning rate = 0.003324:   Batch Loss = 0.992920, Accuracy = 0.775390625
PERFORMANCE ON TEST SET:             Batch Loss = 1.0907484292984009, Accuracy = 0.7123978734016418
Iter #1089536:  Learning rate = 0.003324:   Batch Loss = 1.053419, Accuracy = 0.736328125
PERFORMANCE ON TEST SET:             Batch Loss = 1.0400043725967407, Accuracy = 0.7315249443054199
Iter #1093632:  Learning rate = 0.003324:   Batch Loss = 1.010915, Accuracy = 0.728515625
PERFORMANCE ON TEST SET:             Batch Loss = 1.0370994806289673, Accuracy = 0.7304816842079163
Iter #1097728:  Learning rate = 0.003324:   Batch Loss = 1.031562, Accuracy = 0.697265625
PERFORMANCE ON TEST SET:             Batch Loss = 1.023848533630371, Accuracy = 0.7344809770584106
Iter #1101824:  Learning rate = 0.003191:   Batch Loss = 0.957219, Accuracy = 0.79296875
PERFORMANCE ON TEST SET:             Batch Loss = 1.033013105392456, Accuracy = 0.7372630834579468
Iter #1105920:  Learning rate = 0.003191:   Batch Loss = 1.060596, Accuracy = 0.744140625
PERFORMANCE ON TEST SET:             Batch Loss = 1.0900516510009766, Accuracy = 0.7217875123023987
Iter #1110016:  Learning rate = 0.003191:   Batch Loss = 1.063151, Accuracy = 0.744140625
PERFORMANCE ON TEST SET:             Batch Loss = 1.1004160642623901, Accuracy = 0.7118762135505676
Iter #1114112:  Learning rate = 0.003191:   Batch Loss = 0.993628, Accuracy = 0.755859375
PERFORMANCE ON TEST SET:             Batch Loss = 1.0869059562683105, Accuracy = 0.7186576128005981
Iter #1118208:  Learning rate = 0.003191:   Batch Loss = 1.018592, Accuracy = 0.7421875
PERFORMANCE ON TEST SET:             Batch Loss = 1.0923198461532593, Accuracy = 0.7224830389022827
Iter #1122304:  Learning rate = 0.003191:   Batch Loss = 1.016450, Accuracy = 0.736328125
PERFORMANCE ON TEST SET:             Batch Loss = 1.0678569078445435, Accuracy = 0.7224830389022827
Iter #1126400:  Learning rate = 0.003191:   Batch Loss = 0.974682, Accuracy = 0.759765625
PERFORMANCE ON TEST SET:             Batch Loss = 1.0813236236572266, Accuracy = 0.718831479549408
Iter #1130496:  Learning rate = 0.003191:   Batch Loss = 0.934208, Accuracy = 0.765625
PERFORMANCE ON TEST SET:             Batch Loss = 1.103001594543457, Accuracy = 0.7120500802993774
Iter #1134592:  Learning rate = 0.003191:   Batch Loss = 1.145062, Accuracy = 0.712890625
PERFORMANCE ON TEST SET:             Batch Loss = 1.1330347061157227, Accuracy = 0.7002260684967041
Iter #1138688:  Learning rate = 0.003191:   Batch Loss = 1.091488, Accuracy = 0.705078125
PERFORMANCE ON TEST SET:             Batch Loss = 1.134849190711975, Accuracy = 0.6882281303405762
Iter #1142784:  Learning rate = 0.003191:   Batch Loss = 1.079131, Accuracy = 0.71875
PERFORMANCE ON TEST SET:             Batch Loss = 1.1009982824325562, Accuracy = 0.706659734249115
Iter #1146880:  Learning rate = 0.003191:   Batch Loss = 1.011832, Accuracy = 0.7578125
PERFORMANCE ON TEST SET:             Batch Loss = 1.083317518234253, Accuracy = 0.7153538465499878
Iter #1150976:  Learning rate = 0.003191:   Batch Loss = 1.072506, Accuracy = 0.732421875
PERFORMANCE ON TEST SET:             Batch Loss = 1.0862505435943604, Accuracy = 0.7205703258514404
Iter #1155072:  Learning rate = 0.003191:   Batch Loss = 1.122145, Accuracy = 0.716796875
PERFORMANCE ON TEST SET:             Batch Loss = 1.1555392742156982, Accuracy = 0.711702287197113
Iter #1159168:  Learning rate = 0.003191:   Batch Loss = 1.090078, Accuracy = 0.720703125
PERFORMANCE ON TEST SET:             Batch Loss = 1.1278307437896729, Accuracy = 0.7108328938484192
Iter #1163264:  Learning rate = 0.003191:   Batch Loss = 1.084101, Accuracy = 0.7109375
PERFORMANCE ON TEST SET:             Batch Loss = 1.1146471500396729, Accuracy = 0.6997044086456299
Iter #1167360:  Learning rate = 0.003191:   Batch Loss = 1.016045, Accuracy = 0.767578125
PERFORMANCE ON TEST SET:             Batch Loss = 1.1792819499969482, Accuracy = 0.6784906983375549
Iter #1171456:  Learning rate = 0.003191:   Batch Loss = 1.036456, Accuracy = 0.7421875
PERFORMANCE ON TEST SET:             Batch Loss = 1.1001635789871216, Accuracy = 0.7075291275978088
Iter #1175552:  Learning rate = 0.003191:   Batch Loss = 0.978798, Accuracy = 0.76171875
PERFORMANCE ON TEST SET:             Batch Loss = 1.0912355184555054, Accuracy = 0.711702287197113
Iter #1179648:  Learning rate = 0.003191:   Batch Loss = 1.068400, Accuracy = 0.705078125
PERFORMANCE ON TEST SET:             Batch Loss = 1.1191556453704834, Accuracy = 0.6969223022460938
Iter #1183744:  Learning rate = 0.003191:   Batch Loss = 1.060184, Accuracy = 0.72265625
PERFORMANCE ON TEST SET:             Batch Loss = 1.0801645517349243, Accuracy = 0.7163971662521362
Iter #1187840:  Learning rate = 0.003191:   Batch Loss = 1.018423, Accuracy = 0.74609375
PERFORMANCE ON TEST SET:             Batch Loss = 1.083156704902649, Accuracy = 0.7101373672485352
Iter #1191936:  Learning rate = 0.003191:   Batch Loss = 1.029671, Accuracy = 0.751953125
PERFORMANCE ON TEST SET:             Batch Loss = 1.0655266046524048, Accuracy = 0.7203964591026306
Iter #1196032:  Learning rate = 0.003191:   Batch Loss = 1.014342, Accuracy = 0.74609375
PERFORMANCE ON TEST SET:             Batch Loss = 1.063616156578064, Accuracy = 0.7167448997497559
Iter #1200128:  Learning rate = 0.003064:   Batch Loss = 0.950686, Accuracy = 0.763671875
PERFORMANCE ON TEST SET:             Batch Loss = 1.061166763305664, Accuracy = 0.723700225353241
Iter #1204224:  Learning rate = 0.003064:   Batch Loss = 1.004464, Accuracy = 0.76953125
PERFORMANCE ON TEST SET:             Batch Loss = 1.059072494506836, Accuracy = 0.715179979801178
Iter #1208320:  Learning rate = 0.003064:   Batch Loss = 1.047503, Accuracy = 0.712890625
PERFORMANCE ON TEST SET:             Batch Loss = 1.080792784690857, Accuracy = 0.7141366600990295
Iter #1212416:  Learning rate = 0.003064:   Batch Loss = 1.013492, Accuracy = 0.75
PERFORMANCE ON TEST SET:             Batch Loss = 1.0882172584533691, Accuracy = 0.7106590270996094
Iter #1216512:  Learning rate = 0.003064:   Batch Loss = 0.977950, Accuracy = 0.755859375
PERFORMANCE ON TEST SET:             Batch Loss = 1.047250747680664, Accuracy = 0.7252651453018188
Iter #1220608:  Learning rate = 0.003064:   Batch Loss = 1.018452, Accuracy = 0.748046875
PERFORMANCE ON TEST SET:             Batch Loss = 1.046938180923462, Accuracy = 0.7230046987533569
Iter #1224704:  Learning rate = 0.003064:   Batch Loss = 0.990080, Accuracy = 0.744140625
PERFORMANCE ON TEST SET:             Batch Loss = 1.0466151237487793, Accuracy = 0.7283950448036194
Iter #1228800:  Learning rate = 0.003064:   Batch Loss = 0.951656, Accuracy = 0.78515625
PERFORMANCE ON TEST SET:             Batch Loss = 1.0583540201187134, Accuracy = 0.7231785655021667
Iter #1232896:  Learning rate = 0.003064:   Batch Loss = 1.019051, Accuracy = 0.7421875
PERFORMANCE ON TEST SET:             Batch Loss = 1.0809298753738403, Accuracy = 0.7089201807975769
Iter #1236992:  Learning rate = 0.003064:   Batch Loss = 0.946276, Accuracy = 0.759765625
PERFORMANCE ON TEST SET:             Batch Loss = 1.0725584030151367, Accuracy = 0.715179979801178
Iter #1241088:  Learning rate = 0.003064:   Batch Loss = 0.911168, Accuracy = 0.79296875
PERFORMANCE ON TEST SET:             Batch Loss = 1.060477375984192, Accuracy = 0.7315249443054199
Iter #1245184:  Learning rate = 0.003064:   Batch Loss = 0.948587, Accuracy = 0.77734375
PERFORMANCE ON TEST SET:             Batch Loss = 1.116235375404358, Accuracy = 0.7068336009979248
Iter #1249280:  Learning rate = 0.003064:   Batch Loss = 1.113500, Accuracy = 0.703125
PERFORMANCE ON TEST SET:             Batch Loss = 1.0845017433166504, Accuracy = 0.7122239470481873
Iter #1253376:  Learning rate = 0.003064:   Batch Loss = 1.035793, Accuracy = 0.732421875
PERFORMANCE ON TEST SET:             Batch Loss = 1.086012363433838, Accuracy = 0.7157016396522522
Iter #1257472:  Learning rate = 0.003064:   Batch Loss = 0.946125, Accuracy = 0.791015625
PERFORMANCE ON TEST SET:             Batch Loss = 1.0733585357666016, Accuracy = 0.7139627933502197
Iter #1261568:  Learning rate = 0.003064:   Batch Loss = 1.002119, Accuracy = 0.74609375
PERFORMANCE ON TEST SET:             Batch Loss = 1.0543582439422607, Accuracy = 0.7273517847061157
Iter #1265664:  Learning rate = 0.003064:   Batch Loss = 0.975896, Accuracy = 0.759765625
PERFORMANCE ON TEST SET:             Batch Loss = 1.0746665000915527, Accuracy = 0.7115284204483032
Iter #1269760:  Learning rate = 0.003064:   Batch Loss = 1.004982, Accuracy = 0.7421875
PERFORMANCE ON TEST SET:             Batch Loss = 1.0855181217193604, Accuracy = 0.7143105268478394
Iter #1273856:  Learning rate = 0.003064:   Batch Loss = 0.953209, Accuracy = 0.767578125
PERFORMANCE ON TEST SET:             Batch Loss = 1.057673692703247, Accuracy = 0.7163971662521362
Iter #1277952:  Learning rate = 0.003064:   Batch Loss = 1.028013, Accuracy = 0.740234375
PERFORMANCE ON TEST SET:             Batch Loss = 1.0943830013275146, Accuracy = 0.7071813344955444
Iter #1282048:  Learning rate = 0.003064:   Batch Loss = 0.946507, Accuracy = 0.765625
PERFORMANCE ON TEST SET:             Batch Loss = 1.0383527278900146, Accuracy = 0.7311772108078003
Iter #1286144:  Learning rate = 0.003064:   Batch Loss = 1.067318, Accuracy = 0.71875
PERFORMANCE ON TEST SET:             Batch Loss = 1.2183597087860107, Accuracy = 0.665797233581543
Iter #1290240:  Learning rate = 0.003064:   Batch Loss = 1.067936, Accuracy = 0.71484375
PERFORMANCE ON TEST SET:             Batch Loss = 1.1822537183761597, Accuracy = 0.6640584468841553
Iter #1294336:  Learning rate = 0.003064:   Batch Loss = 1.026603, Accuracy = 0.75390625
PERFORMANCE ON TEST SET:             Batch Loss = 1.0973531007766724, Accuracy = 0.70318204164505
Iter #1298432:  Learning rate = 0.003064:   Batch Loss = 1.051047, Accuracy = 0.716796875
PERFORMANCE ON TEST SET:             Batch Loss = 1.0820238590240479, Accuracy = 0.6991827487945557
Iter #1302528:  Learning rate = 0.002941:   Batch Loss = 1.033476, Accuracy = 0.75
PERFORMANCE ON TEST SET:             Batch Loss = 1.1135410070419312, Accuracy = 0.6918796896934509
Iter #1306624:  Learning rate = 0.002941:   Batch Loss = 1.128759, Accuracy = 0.69921875
PERFORMANCE ON TEST SET:             Batch Loss = 1.0862417221069336, Accuracy = 0.7111806869506836
Iter #1310720:  Learning rate = 0.002941:   Batch Loss = 0.963182, Accuracy = 0.751953125
PERFORMANCE ON TEST SET:             Batch Loss = 1.0558029413223267, Accuracy = 0.7186576128005981
Iter #1314816:  Learning rate = 0.002941:   Batch Loss = 0.938789, Accuracy = 0.787109375
PERFORMANCE ON TEST SET:             Batch Loss = 1.029605507850647, Accuracy = 0.7226569056510925
Iter #1318912:  Learning rate = 0.002941:   Batch Loss = 0.943190, Accuracy = 0.763671875
PERFORMANCE ON TEST SET:             Batch Loss = 1.005905270576477, Accuracy = 0.7395235896110535
Iter #1323008:  Learning rate = 0.002941:   Batch Loss = 0.935366, Accuracy = 0.755859375
PERFORMANCE ON TEST SET:             Batch Loss = 1.0328073501586914, Accuracy = 0.7163971662521362
Iter #1327104:  Learning rate = 0.002941:   Batch Loss = 0.970255, Accuracy = 0.75
PERFORMANCE ON TEST SET:             Batch Loss = 1.051684021949768, Accuracy = 0.7209181189537048
Iter #1331200:  Learning rate = 0.002941:   Batch Loss = 1.000637, Accuracy = 0.7109375
PERFORMANCE ON TEST SET:             Batch Loss = 1.0674844980239868, Accuracy = 0.7127456068992615
Iter #1335296:  Learning rate = 0.002941:   Batch Loss = 0.960898, Accuracy = 0.74609375
PERFORMANCE ON TEST SET:             Batch Loss = 1.0111992359161377, Accuracy = 0.7339593172073364
Iter #1339392:  Learning rate = 0.002941:   Batch Loss = 0.872111, Accuracy = 0.802734375
PERFORMANCE ON TEST SET:             Batch Loss = 1.0197769403457642, Accuracy = 0.7334376573562622
Iter #1343488:  Learning rate = 0.002941:   Batch Loss = 0.959161, Accuracy = 0.771484375
PERFORMANCE ON TEST SET:             Batch Loss = 0.9953631162643433, Accuracy = 0.7372630834579468
Iter #1347584:  Learning rate = 0.002941:   Batch Loss = 0.879728, Accuracy = 0.796875
PERFORMANCE ON TEST SET:             Batch Loss = 1.017191767692566, Accuracy = 0.7440445423126221
Iter #1351680:  Learning rate = 0.002941:   Batch Loss = 0.962473, Accuracy = 0.744140625
PERFORMANCE ON TEST SET:             Batch Loss = 0.9894381761550903, Accuracy = 0.7365675568580627
Iter #1355776:  Learning rate = 0.002941:   Batch Loss = 0.884952, Accuracy = 0.796875
PERFORMANCE ON TEST SET:             Batch Loss = 1.0067955255508423, Accuracy = 0.7351765036582947
Iter #1359872:  Learning rate = 0.002941:   Batch Loss = 0.898390, Accuracy = 0.77734375
PERFORMANCE ON TEST SET:             Batch Loss = 0.9787755012512207, Accuracy = 0.7490870952606201
Iter #1363968:  Learning rate = 0.002941:   Batch Loss = 0.949565, Accuracy = 0.75390625
PERFORMANCE ON TEST SET:             Batch Loss = 0.9917585849761963, Accuracy = 0.7405668497085571
Iter #1368064:  Learning rate = 0.002941:   Batch Loss = 0.938619, Accuracy = 0.779296875
PERFORMANCE ON TEST SET:             Batch Loss = 0.985427975654602, Accuracy = 0.7353503704071045
Iter #1372160:  Learning rate = 0.002941:   Batch Loss = 0.960791, Accuracy = 0.748046875
PERFORMANCE ON TEST SET:             Batch Loss = 1.0059101581573486, Accuracy = 0.7287428379058838
Iter #1376256:  Learning rate = 0.002941:   Batch Loss = 0.891470, Accuracy = 0.771484375
PERFORMANCE ON TEST SET:             Batch Loss = 0.9925906658172607, Accuracy = 0.7428273558616638
Iter #1380352:  Learning rate = 0.002941:   Batch Loss = 0.874096, Accuracy = 0.79296875
PERFORMANCE ON TEST SET:             Batch Loss = 0.9825353622436523, Accuracy = 0.7402191162109375
Iter #1384448:  Learning rate = 0.002941:   Batch Loss = 0.867998, Accuracy = 0.794921875
PERFORMANCE ON TEST SET:             Batch Loss = 1.0058555603027344, Accuracy = 0.7313510775566101
Iter #1388544:  Learning rate = 0.002941:   Batch Loss = 0.855594, Accuracy = 0.798828125
PERFORMANCE ON TEST SET:             Batch Loss = 0.963820219039917, Accuracy = 0.7543035745620728
Iter #1392640:  Learning rate = 0.002941:   Batch Loss = 0.905665, Accuracy = 0.78125
PERFORMANCE ON TEST SET:             Batch Loss = 0.9690898656845093, Accuracy = 0.7457833290100098
Iter #1396736:  Learning rate = 0.002941:   Batch Loss = 0.924778, Accuracy = 0.759765625
PERFORMANCE ON TEST SET:             Batch Loss = 0.9726200699806213, Accuracy = 0.7494348883628845
Iter #1400832:  Learning rate = 0.002823:   Batch Loss = 0.851223, Accuracy = 0.79296875
PERFORMANCE ON TEST SET:             Batch Loss = 0.9742833375930786, Accuracy = 0.7440445423126221
Iter #1404928:  Learning rate = 0.002823:   Batch Loss = 0.898084, Accuracy = 0.783203125
PERFORMANCE ON TEST SET:             Batch Loss = 0.9763501882553101, Accuracy = 0.7478699088096619
Iter #1409024:  Learning rate = 0.002823:   Batch Loss = 0.907689, Accuracy = 0.787109375
PERFORMANCE ON TEST SET:             Batch Loss = 0.9856389760971069, Accuracy = 0.7440445423126221
Iter #1413120:  Learning rate = 0.002823:   Batch Loss = 0.933738, Accuracy = 0.7578125
PERFORMANCE ON TEST SET:             Batch Loss = 0.9548091888427734, Accuracy = 0.76334547996521
Iter #1417216:  Learning rate = 0.002823:   Batch Loss = 0.894839, Accuracy = 0.794921875
PERFORMANCE ON TEST SET:             Batch Loss = 0.9761507511138916, Accuracy = 0.7494348883628845
Iter #1421312:  Learning rate = 0.002823:   Batch Loss = 0.912285, Accuracy = 0.794921875
PERFORMANCE ON TEST SET:             Batch Loss = 0.9445030689239502, Accuracy = 0.7617805600166321
Iter #1425408:  Learning rate = 0.002823:   Batch Loss = 0.928292, Accuracy = 0.77734375
PERFORMANCE ON TEST SET:             Batch Loss = 0.9523290991783142, Accuracy = 0.7572596073150635
Iter #1429504:  Learning rate = 0.002823:   Batch Loss = 0.893843, Accuracy = 0.796875
PERFORMANCE ON TEST SET:             Batch Loss = 0.9815415740013123, Accuracy = 0.7391757965087891
Iter #1433600:  Learning rate = 0.002823:   Batch Loss = 0.927064, Accuracy = 0.763671875
PERFORMANCE ON TEST SET:             Batch Loss = 0.933173656463623, Accuracy = 0.7687358856201172
Iter #1437696:  Learning rate = 0.002823:   Batch Loss = 0.827737, Accuracy = 0.82421875
PERFORMANCE ON TEST SET:             Batch Loss = 0.9483133554458618, Accuracy = 0.7577812671661377
Iter #1441792:  Learning rate = 0.002823:   Batch Loss = 0.891497, Accuracy = 0.791015625
PERFORMANCE ON TEST SET:             Batch Loss = 0.9873497486114502, Accuracy = 0.7423056960105896
Iter #1445888:  Learning rate = 0.002823:   Batch Loss = 0.905704, Accuracy = 0.775390625
PERFORMANCE ON TEST SET:             Batch Loss = 0.9883129596710205, Accuracy = 0.7325682640075684
Iter #1449984:  Learning rate = 0.002823:   Batch Loss = 0.919577, Accuracy = 0.76171875
PERFORMANCE ON TEST SET:             Batch Loss = 0.9628674983978271, Accuracy = 0.7520431280136108
Iter #1454080:  Learning rate = 0.002823:   Batch Loss = 0.853429, Accuracy = 0.8046875
PERFORMANCE ON TEST SET:             Batch Loss = 0.9632517099380493, Accuracy = 0.7595200538635254
Iter #1458176:  Learning rate = 0.002823:   Batch Loss = 0.897815, Accuracy = 0.78125
PERFORMANCE ON TEST SET:             Batch Loss = 0.9884693622589111, Accuracy = 0.7494348883628845
Iter #1462272:  Learning rate = 0.002823:   Batch Loss = 0.970320, Accuracy = 0.73828125
PERFORMANCE ON TEST SET:             Batch Loss = 0.9610093832015991, Accuracy = 0.7650843262672424
Iter #1466368:  Learning rate = 0.002823:   Batch Loss = 0.877403, Accuracy = 0.794921875
PERFORMANCE ON TEST SET:             Batch Loss = 0.9704822301864624, Accuracy = 0.7529125213623047
Iter #1470464:  Learning rate = 0.002823:   Batch Loss = 0.890283, Accuracy = 0.794921875
PERFORMANCE ON TEST SET:             Batch Loss = 1.0010097026824951, Accuracy = 0.7492610216140747
Iter #1474560:  Learning rate = 0.002823:   Batch Loss = 0.858067, Accuracy = 0.80859375
PERFORMANCE ON TEST SET:             Batch Loss = 1.001526951789856, Accuracy = 0.7503042817115784
Iter #1478656:  Learning rate = 0.002823:   Batch Loss = 0.925776, Accuracy = 0.759765625
PERFORMANCE ON TEST SET:             Batch Loss = 0.947921633720398, Accuracy = 0.7567379474639893
Iter #1482752:  Learning rate = 0.002823:   Batch Loss = 0.794737, Accuracy = 0.82421875
PERFORMANCE ON TEST SET:             Batch Loss = 0.934883713722229, Accuracy = 0.7541297078132629
Iter #1486848:  Learning rate = 0.002823:   Batch Loss = 0.835905, Accuracy = 0.80859375
PERFORMANCE ON TEST SET:             Batch Loss = 0.9750635623931885, Accuracy = 0.7496087551116943
Iter #1490944:  Learning rate = 0.002823:   Batch Loss = 0.874381, Accuracy = 0.77734375
PERFORMANCE ON TEST SET:             Batch Loss = 0.919180154800415, Accuracy = 0.7673448324203491
Iter #1495040:  Learning rate = 0.002823:   Batch Loss = 0.912303, Accuracy = 0.78125
PERFORMANCE ON TEST SET:             Batch Loss = 0.9098604917526245, Accuracy = 0.7762128114700317
Iter #1499136:  Learning rate = 0.002823:   Batch Loss = 0.918517, Accuracy = 0.78515625
PERFORMANCE ON TEST SET:             Batch Loss = 0.9410965442657471, Accuracy = 0.7652581930160522
Iter #1503232:  Learning rate = 0.002710:   Batch Loss = 0.915183, Accuracy = 0.783203125
PERFORMANCE ON TEST SET:             Batch Loss = 0.9674597978591919, Accuracy = 0.7475221753120422
Iter #1507328:  Learning rate = 0.002710:   Batch Loss = 0.854018, Accuracy = 0.796875
PERFORMANCE ON TEST SET:             Batch Loss = 0.92756187915802, Accuracy = 0.7676925659179688
Iter #1511424:  Learning rate = 0.002710:   Batch Loss = 0.926733, Accuracy = 0.767578125
PERFORMANCE ON TEST SET:             Batch Loss = 0.9842209815979004, Accuracy = 0.7452616691589355
Iter #1515520:  Learning rate = 0.002710:   Batch Loss = 0.906409, Accuracy = 0.7578125
PERFORMANCE ON TEST SET:             Batch Loss = 0.9507108926773071, Accuracy = 0.7523908615112305
Iter #1519616:  Learning rate = 0.002710:   Batch Loss = 0.884847, Accuracy = 0.767578125
PERFORMANCE ON TEST SET:             Batch Loss = 0.9261040687561035, Accuracy = 0.7661276459693909
Iter #1523712:  Learning rate = 0.002710:   Batch Loss = 0.903569, Accuracy = 0.779296875
PERFORMANCE ON TEST SET:             Batch Loss = 0.937675416469574, Accuracy = 0.7617805600166321
Iter #1527808:  Learning rate = 0.002710:   Batch Loss = 0.899357, Accuracy = 0.771484375
PERFORMANCE ON TEST SET:             Batch Loss = 0.9426573514938354, Accuracy = 0.7553468942642212
Iter #1531904:  Learning rate = 0.002710:   Batch Loss = 0.838109, Accuracy = 0.810546875
PERFORMANCE ON TEST SET:             Batch Loss = 0.9111459255218506, Accuracy = 0.7694314122200012
Iter #1536000:  Learning rate = 0.002710:   Batch Loss = 1.058135, Accuracy = 0.7265625
PERFORMANCE ON TEST SET:             Batch Loss = 1.008491039276123, Accuracy = 0.7430012226104736
Iter #1540096:  Learning rate = 0.002710:   Batch Loss = 1.009088, Accuracy = 0.748046875
PERFORMANCE ON TEST SET:             Batch Loss = 1.0121089220046997, Accuracy = 0.7301338911056519
Iter #1544192:  Learning rate = 0.002710:   Batch Loss = 0.980061, Accuracy = 0.73046875
PERFORMANCE ON TEST SET:             Batch Loss = 0.971966028213501, Accuracy = 0.7501304149627686
Iter #1548288:  Learning rate = 0.002710:   Batch Loss = 0.933066, Accuracy = 0.75
PERFORMANCE ON TEST SET:             Batch Loss = 0.9710342288017273, Accuracy = 0.7440445423126221
Iter #1552384:  Learning rate = 0.002710:   Batch Loss = 0.857710, Accuracy = 0.791015625
PERFORMANCE ON TEST SET:             Batch Loss = 0.9355279207229614, Accuracy = 0.7657798528671265
Iter #1556480:  Learning rate = 0.002710:   Batch Loss = 0.906348, Accuracy = 0.765625
PERFORMANCE ON TEST SET:             Batch Loss = 0.9363068342208862, Accuracy = 0.7560424208641052
Iter #1560576:  Learning rate = 0.002710:   Batch Loss = 0.901587, Accuracy = 0.791015625
PERFORMANCE ON TEST SET:             Batch Loss = 0.9333361387252808, Accuracy = 0.7631716132164001
Iter #1564672:  Learning rate = 0.002710:   Batch Loss = 0.905132, Accuracy = 0.7890625
PERFORMANCE ON TEST SET:             Batch Loss = 0.9233429431915283, Accuracy = 0.7676925659179688
Iter #1568768:  Learning rate = 0.002710:   Batch Loss = 0.845713, Accuracy = 0.794921875
PERFORMANCE ON TEST SET:             Batch Loss = 0.9348993301391602, Accuracy = 0.7595200538635254
Iter #1572864:  Learning rate = 0.002710:   Batch Loss = 0.798666, Accuracy = 0.8125
PERFORMANCE ON TEST SET:             Batch Loss = 0.9331984519958496, Accuracy = 0.7588245272636414
Iter #1576960:  Learning rate = 0.002710:   Batch Loss = 0.961135, Accuracy = 0.744140625
PERFORMANCE ON TEST SET:             Batch Loss = 1.0055903196334839, Accuracy = 0.7440445423126221
Iter #1581056:  Learning rate = 0.002710:   Batch Loss = 0.904564, Accuracy = 0.771484375
PERFORMANCE ON TEST SET:             Batch Loss = 0.9586489200592041, Accuracy = 0.7539558410644531
Iter #1585152:  Learning rate = 0.002710:   Batch Loss = 0.896144, Accuracy = 0.79296875
PERFORMANCE ON TEST SET:             Batch Loss = 0.9415562152862549, Accuracy = 0.7579551339149475
Iter #1589248:  Learning rate = 0.002710:   Batch Loss = 0.878130, Accuracy = 0.787109375
PERFORMANCE ON TEST SET:             Batch Loss = 0.9374182224273682, Accuracy = 0.7602156400680542
Iter #1593344:  Learning rate = 0.002710:   Batch Loss = 0.817328, Accuracy = 0.810546875
PERFORMANCE ON TEST SET:             Batch Loss = 0.9342197775840759, Accuracy = 0.7657798528671265
Iter #1597440:  Learning rate = 0.002710:   Batch Loss = 0.851697, Accuracy = 0.796875
PERFORMANCE ON TEST SET:             Batch Loss = 0.9289836287498474, Accuracy = 0.75969398021698
Iter #1601536:  Learning rate = 0.002602:   Batch Loss = 0.853038, Accuracy = 0.81640625
PERFORMANCE ON TEST SET:             Batch Loss = 0.9085201025009155, Accuracy = 0.7762128114700317
Iter #1605632:  Learning rate = 0.002602:   Batch Loss = 0.829288, Accuracy = 0.814453125
PERFORMANCE ON TEST SET:             Batch Loss = 0.9120227098464966, Accuracy = 0.7779516577720642
Iter #1609728:  Learning rate = 0.002602:   Batch Loss = 0.829935, Accuracy = 0.818359375
PERFORMANCE ON TEST SET:             Batch Loss = 0.8889526128768921, Accuracy = 0.7812554240226746
Iter #1613824:  Learning rate = 0.002602:   Batch Loss = 0.829800, Accuracy = 0.8046875
PERFORMANCE ON TEST SET:             Batch Loss = 0.9053177833557129, Accuracy = 0.7753434181213379
Iter #1617920:  Learning rate = 0.002602:   Batch Loss = 0.789829, Accuracy = 0.8203125
PERFORMANCE ON TEST SET:             Batch Loss = 0.9063514471054077, Accuracy = 0.7765606045722961
Iter #1622016:  Learning rate = 0.002602:   Batch Loss = 0.816684, Accuracy = 0.81640625
PERFORMANCE ON TEST SET:             Batch Loss = 0.9476179480552673, Accuracy = 0.7464788556098938
Iter #1626112:  Learning rate = 0.002602:   Batch Loss = 0.867887, Accuracy = 0.810546875
PERFORMANCE ON TEST SET:             Batch Loss = 0.9008479118347168, Accuracy = 0.7727351784706116
Iter #1630208:  Learning rate = 0.002602:   Batch Loss = 0.860446, Accuracy = 0.78515625
PERFORMANCE ON TEST SET:             Batch Loss = 0.9001655578613281, Accuracy = 0.7751695513725281
Iter #1634304:  Learning rate = 0.002602:   Batch Loss = 0.879422, Accuracy = 0.779296875
PERFORMANCE ON TEST SET:             Batch Loss = 0.8990699052810669, Accuracy = 0.7779516577720642
Iter #1638400:  Learning rate = 0.002602:   Batch Loss = 0.803620, Accuracy = 0.8203125
PERFORMANCE ON TEST SET:             Batch Loss = 0.9023792743682861, Accuracy = 0.7685620188713074
Iter #1642496:  Learning rate = 0.002602:   Batch Loss = 0.848446, Accuracy = 0.7890625
PERFORMANCE ON TEST SET:             Batch Loss = 0.8748706579208374, Accuracy = 0.7871674299240112
Iter #1646592:  Learning rate = 0.002602:   Batch Loss = 0.851283, Accuracy = 0.8125
PERFORMANCE ON TEST SET:             Batch Loss = 0.9014049768447876, Accuracy = 0.7727351784706116
Iter #1650688:  Learning rate = 0.002602:   Batch Loss = 0.970986, Accuracy = 0.732421875
PERFORMANCE ON TEST SET:             Batch Loss = 0.9461017847061157, Accuracy = 0.7549991011619568
Iter #1654784:  Learning rate = 0.002602:   Batch Loss = 0.900377, Accuracy = 0.775390625
PERFORMANCE ON TEST SET:             Batch Loss = 0.9218324422836304, Accuracy = 0.7530864477157593
Iter #1658880:  Learning rate = 0.002602:   Batch Loss = 0.855873, Accuracy = 0.8203125
PERFORMANCE ON TEST SET:             Batch Loss = 0.9680492877960205, Accuracy = 0.7503042817115784
Iter #1662976:  Learning rate = 0.002602:   Batch Loss = 0.935237, Accuracy = 0.77734375
PERFORMANCE ON TEST SET:             Batch Loss = 0.9389019012451172, Accuracy = 0.7485654950141907
Iter #1667072:  Learning rate = 0.002602:   Batch Loss = 0.824444, Accuracy = 0.80859375
PERFORMANCE ON TEST SET:             Batch Loss = 0.908816933631897, Accuracy = 0.7666493058204651
Iter #1671168:  Learning rate = 0.002602:   Batch Loss = 0.840554, Accuracy = 0.798828125
PERFORMANCE ON TEST SET:             Batch Loss = 0.9143065810203552, Accuracy = 0.7716918587684631
Iter #1675264:  Learning rate = 0.002602:   Batch Loss = 0.809691, Accuracy = 0.814453125
PERFORMANCE ON TEST SET:             Batch Loss = 0.8683688640594482, Accuracy = 0.7899495959281921
Iter #1679360:  Learning rate = 0.002602:   Batch Loss = 0.805420, Accuracy = 0.806640625
PERFORMANCE ON TEST SET:             Batch Loss = 0.8584921360015869, Accuracy = 0.7974265217781067
Iter #1683456:  Learning rate = 0.002602:   Batch Loss = 0.808312, Accuracy = 0.818359375
PERFORMANCE ON TEST SET:             Batch Loss = 0.8781118988990784, Accuracy = 0.7887324094772339
Iter #1687552:  Learning rate = 0.002602:   Batch Loss = 0.823773, Accuracy = 0.80078125
PERFORMANCE ON TEST SET:             Batch Loss = 0.8751076459884644, Accuracy = 0.7782994508743286
Iter #1691648:  Learning rate = 0.002602:   Batch Loss = 0.832471, Accuracy = 0.796875
PERFORMANCE ON TEST SET:             Batch Loss = 0.8909796476364136, Accuracy = 0.7847331166267395
Iter #1695744:  Learning rate = 0.002602:   Batch Loss = 0.800270, Accuracy = 0.806640625
PERFORMANCE ON TEST SET:             Batch Loss = 0.8447077870368958, Accuracy = 0.8015997409820557
Iter #1699840:  Learning rate = 0.002602:   Batch Loss = 0.830576, Accuracy = 0.82421875
PERFORMANCE ON TEST SET:             Batch Loss = 0.8657474517822266, Accuracy = 0.79151451587677
Iter #1703936:  Learning rate = 0.002498:   Batch Loss = 0.812662, Accuracy = 0.83203125
PERFORMANCE ON TEST SET:             Batch Loss = 0.9435832500457764, Accuracy = 0.7614327669143677
Iter #1708032:  Learning rate = 0.002498:   Batch Loss = 0.918675, Accuracy = 0.748046875
PERFORMANCE ON TEST SET:             Batch Loss = 0.8827533721923828, Accuracy = 0.7862980365753174
Iter #1712128:  Learning rate = 0.002498:   Batch Loss = 0.849637, Accuracy = 0.80078125
PERFORMANCE ON TEST SET:             Batch Loss = 0.9016232490539551, Accuracy = 0.7840375304222107
Iter #1716224:  Learning rate = 0.002498:   Batch Loss = 0.835212, Accuracy = 0.802734375
PERFORMANCE ON TEST SET:             Batch Loss = 0.9280964136123657, Accuracy = 0.7666493058204651
Iter #1720320:  Learning rate = 0.002498:   Batch Loss = 0.800438, Accuracy = 0.806640625
PERFORMANCE ON TEST SET:             Batch Loss = 0.8821642398834229, Accuracy = 0.778125524520874
Iter #1724416:  Learning rate = 0.002498:   Batch Loss = 0.871869, Accuracy = 0.78515625
PERFORMANCE ON TEST SET:             Batch Loss = 0.8755582571029663, Accuracy = 0.7970787882804871
Iter #1728512:  Learning rate = 0.002498:   Batch Loss = 0.791978, Accuracy = 0.814453125
PERFORMANCE ON TEST SET:             Batch Loss = 0.9063646197319031, Accuracy = 0.7826464772224426
Iter #1732608:  Learning rate = 0.002498:   Batch Loss = 0.790093, Accuracy = 0.828125
PERFORMANCE ON TEST SET:             Batch Loss = 0.8553253412246704, Accuracy = 0.8069900870323181
Iter #1736704:  Learning rate = 0.002498:   Batch Loss = 0.870085, Accuracy = 0.7890625
PERFORMANCE ON TEST SET:             Batch Loss = 0.8616375923156738, Accuracy = 0.7981220483779907
Iter #1740800:  Learning rate = 0.002498:   Batch Loss = 0.723015, Accuracy = 0.853515625
PERFORMANCE ON TEST SET:             Batch Loss = 0.8464524745941162, Accuracy = 0.8090766668319702
Iter #1744896:  Learning rate = 0.002498:   Batch Loss = 0.751340, Accuracy = 0.84765625
PERFORMANCE ON TEST SET:             Batch Loss = 0.820957362651825, Accuracy = 0.8135976195335388
Iter #1748992:  Learning rate = 0.002498:   Batch Loss = 0.809405, Accuracy = 0.798828125
PERFORMANCE ON TEST SET:             Batch Loss = 0.8212099671363831, Accuracy = 0.8135976195335388
Iter #1753088:  Learning rate = 0.002498:   Batch Loss = 0.685694, Accuracy = 0.86328125
PERFORMANCE ON TEST SET:             Batch Loss = 0.8613905906677246, Accuracy = 0.7936010956764221
Iter #1757184:  Learning rate = 0.002498:   Batch Loss = 0.806236, Accuracy = 0.810546875
PERFORMANCE ON TEST SET:             Batch Loss = 0.8533155918121338, Accuracy = 0.7913406491279602
Iter #1761280:  Learning rate = 0.002498:   Batch Loss = 0.809177, Accuracy = 0.826171875
PERFORMANCE ON TEST SET:             Batch Loss = 0.8615752458572388, Accuracy = 0.795687735080719
Iter #1765376:  Learning rate = 0.002498:   Batch Loss = 0.754131, Accuracy = 0.8359375
PERFORMANCE ON TEST SET:             Batch Loss = 0.8805525302886963, Accuracy = 0.7805598974227905
Iter #1769472:  Learning rate = 0.002498:   Batch Loss = 0.812685, Accuracy = 0.828125
PERFORMANCE ON TEST SET:             Batch Loss = 0.8810133934020996, Accuracy = 0.7890801429748535
Iter #1773568:  Learning rate = 0.002498:   Batch Loss = 0.844187, Accuracy = 0.796875
PERFORMANCE ON TEST SET:             Batch Loss = 0.8697654008865356, Accuracy = 0.7913406491279602
Iter #1777664:  Learning rate = 0.002498:   Batch Loss = 0.873527, Accuracy = 0.787109375
PERFORMANCE ON TEST SET:             Batch Loss = 0.8458107113838196, Accuracy = 0.8109893798828125
Iter #1781760:  Learning rate = 0.002498:   Batch Loss = 0.804172, Accuracy = 0.818359375
PERFORMANCE ON TEST SET:             Batch Loss = 0.8259175419807434, Accuracy = 0.8099461197853088
Iter #1785856:  Learning rate = 0.002498:   Batch Loss = 0.809687, Accuracy = 0.814453125
PERFORMANCE ON TEST SET:             Batch Loss = 0.818188488483429, Accuracy = 0.8135976195335388
Iter #1789952:  Learning rate = 0.002498:   Batch Loss = 0.761869, Accuracy = 0.833984375
PERFORMANCE ON TEST SET:             Batch Loss = 0.8442453742027283, Accuracy = 0.8064684271812439
Iter #1794048:  Learning rate = 0.002498:   Batch Loss = 0.766272, Accuracy = 0.830078125
PERFORMANCE ON TEST SET:             Batch Loss = 0.8613823652267456, Accuracy = 0.7970787882804871
Iter #1798144:  Learning rate = 0.002498:   Batch Loss = 0.832825, Accuracy = 0.806640625
PERFORMANCE ON TEST SET:             Batch Loss = 0.845520555973053, Accuracy = 0.7962093353271484
Iter #1802240:  Learning rate = 0.002398:   Batch Loss = 0.766617, Accuracy = 0.830078125
PERFORMANCE ON TEST SET:             Batch Loss = 0.798001766204834, Accuracy = 0.8266388177871704
Iter #1806336:  Learning rate = 0.002398:   Batch Loss = 0.776723, Accuracy = 0.8125
PERFORMANCE ON TEST SET:             Batch Loss = 0.8052594661712646, Accuracy = 0.8205529451370239
Iter #1810432:  Learning rate = 0.002398:   Batch Loss = 0.812603, Accuracy = 0.80859375
PERFORMANCE ON TEST SET:             Batch Loss = 0.7984525561332703, Accuracy = 0.8224656581878662
Iter #1814528:  Learning rate = 0.002398:   Batch Loss = 0.763731, Accuracy = 0.826171875
PERFORMANCE ON TEST SET:             Batch Loss = 0.816266655921936, Accuracy = 0.808555006980896
Iter #1818624:  Learning rate = 0.002398:   Batch Loss = 0.739868, Accuracy = 0.85546875
PERFORMANCE ON TEST SET:             Batch Loss = 0.79875248670578, Accuracy = 0.8330724835395813
Iter #1822720:  Learning rate = 0.002398:   Batch Loss = 0.773317, Accuracy = 0.818359375
PERFORMANCE ON TEST SET:             Batch Loss = 0.820155918598175, Accuracy = 0.8184663653373718
Iter #1826816:  Learning rate = 0.002398:   Batch Loss = 0.716383, Accuracy = 0.86328125
PERFORMANCE ON TEST SET:             Batch Loss = 0.8234566450119019, Accuracy = 0.8151625990867615
Iter #1830912:  Learning rate = 0.002398:   Batch Loss = 0.799620, Accuracy = 0.8125
PERFORMANCE ON TEST SET:             Batch Loss = 0.8585003614425659, Accuracy = 0.7941227555274963
Iter #1835008:  Learning rate = 0.002398:   Batch Loss = 0.985347, Accuracy = 0.765625
PERFORMANCE ON TEST SET:             Batch Loss = 1.0472571849822998, Accuracy = 0.7553468942642212
Iter #1839104:  Learning rate = 0.002398:   Batch Loss = 0.966656, Accuracy = 0.765625
PERFORMANCE ON TEST SET:             Batch Loss = 0.9998667240142822, Accuracy = 0.751869261264801
Iter #1843200:  Learning rate = 0.002398:   Batch Loss = 0.864895, Accuracy = 0.7890625
PERFORMANCE ON TEST SET:             Batch Loss = 0.9525125622749329, Accuracy = 0.77377849817276
Iter #1847296:  Learning rate = 0.002398:   Batch Loss = 0.862162, Accuracy = 0.80078125
PERFORMANCE ON TEST SET:             Batch Loss = 0.9543849229812622, Accuracy = 0.7626499533653259
Iter #1851392:  Learning rate = 0.002398:   Batch Loss = 0.835804, Accuracy = 0.814453125
PERFORMANCE ON TEST SET:             Batch Loss = 0.9260112047195435, Accuracy = 0.7760389447212219
Iter #1855488:  Learning rate = 0.002398:   Batch Loss = 0.828868, Accuracy = 0.80078125
PERFORMANCE ON TEST SET:             Batch Loss = 0.920287013053894, Accuracy = 0.7708224654197693
Iter #1859584:  Learning rate = 0.002398:   Batch Loss = 0.800133, Accuracy = 0.814453125
PERFORMANCE ON TEST SET:             Batch Loss = 0.8934465646743774, Accuracy = 0.7835159301757812
Iter #1863680:  Learning rate = 0.002398:   Batch Loss = 0.846272, Accuracy = 0.822265625
PERFORMANCE ON TEST SET:             Batch Loss = 0.8967709541320801, Accuracy = 0.7756912112236023
Iter #1867776:  Learning rate = 0.002398:   Batch Loss = 0.791648, Accuracy = 0.8203125
PERFORMANCE ON TEST SET:             Batch Loss = 0.8647089600563049, Accuracy = 0.7944705486297607
Iter #1871872:  Learning rate = 0.002398:   Batch Loss = 0.821525, Accuracy = 0.81640625
PERFORMANCE ON TEST SET:             Batch Loss = 0.8550348877906799, Accuracy = 0.8071639537811279
Iter #1875968:  Learning rate = 0.002398:   Batch Loss = 0.840772, Accuracy = 0.802734375
PERFORMANCE ON TEST SET:             Batch Loss = 0.8714649081230164, Accuracy = 0.795687735080719
Iter #1880064:  Learning rate = 0.002398:   Batch Loss = 0.866178, Accuracy = 0.796875
PERFORMANCE ON TEST SET:             Batch Loss = 0.8538671731948853, Accuracy = 0.8010780811309814
Iter #1884160:  Learning rate = 0.002398:   Batch Loss = 0.785113, Accuracy = 0.826171875
PERFORMANCE ON TEST SET:             Batch Loss = 0.8553487062454224, Accuracy = 0.8017736077308655
Iter #1888256:  Learning rate = 0.002398:   Batch Loss = 0.779019, Accuracy = 0.826171875
PERFORMANCE ON TEST SET:             Batch Loss = 0.8648810982704163, Accuracy = 0.7892540693283081
Iter #1892352:  Learning rate = 0.002398:   Batch Loss = 0.817234, Accuracy = 0.798828125
PERFORMANCE ON TEST SET:             Batch Loss = 0.852445125579834, Accuracy = 0.7934272289276123
Iter #1896448:  Learning rate = 0.002398:   Batch Loss = 0.718493, Accuracy = 0.859375
PERFORMANCE ON TEST SET:             Batch Loss = 0.847259521484375, Accuracy = 0.7958616018295288
Iter #1900544:  Learning rate = 0.002302:   Batch Loss = 0.826413, Accuracy = 0.802734375
PERFORMANCE ON TEST SET:             Batch Loss = 0.8608304858207703, Accuracy = 0.7970787882804871
Iter #1904640:  Learning rate = 0.002302:   Batch Loss = 0.768698, Accuracy = 0.8203125
PERFORMANCE ON TEST SET:             Batch Loss = 0.8260961771011353, Accuracy = 0.8040340542793274
Iter #1908736:  Learning rate = 0.002302:   Batch Loss = 0.774370, Accuracy = 0.828125
PERFORMANCE ON TEST SET:             Batch Loss = 0.8209153413772583, Accuracy = 0.8021213412284851
Iter #1912832:  Learning rate = 0.002302:   Batch Loss = 0.691305, Accuracy = 0.853515625
PERFORMANCE ON TEST SET:             Batch Loss = 0.8030579090118408, Accuracy = 0.8172491788864136
Iter #1916928:  Learning rate = 0.002302:   Batch Loss = 0.729054, Accuracy = 0.84765625
PERFORMANCE ON TEST SET:             Batch Loss = 0.8238825798034668, Accuracy = 0.8111632466316223
Iter #1921024:  Learning rate = 0.002302:   Batch Loss = 0.783268, Accuracy = 0.822265625
PERFORMANCE ON TEST SET:             Batch Loss = 0.789114773273468, Accuracy = 0.8156841993331909
Iter #1925120:  Learning rate = 0.002302:   Batch Loss = 0.756115, Accuracy = 0.806640625
PERFORMANCE ON TEST SET:             Batch Loss = 0.7663638591766357, Accuracy = 0.8129020929336548
Iter #1929216:  Learning rate = 0.002302:   Batch Loss = 0.678369, Accuracy = 0.876953125
PERFORMANCE ON TEST SET:             Batch Loss = 0.8017992973327637, Accuracy = 0.8068162202835083
Iter #1933312:  Learning rate = 0.002302:   Batch Loss = 0.729198, Accuracy = 0.84375
PERFORMANCE ON TEST SET:             Batch Loss = 0.7847143411636353, Accuracy = 0.7979481816291809
Iter #1937408:  Learning rate = 0.002302:   Batch Loss = 0.668145, Accuracy = 0.8515625
PERFORMANCE ON TEST SET:             Batch Loss = 0.747096061706543, Accuracy = 0.8191618919372559
Iter #1941504:  Learning rate = 0.002302:   Batch Loss = 0.680113, Accuracy = 0.8515625
PERFORMANCE ON TEST SET:             Batch Loss = 0.7040975093841553, Accuracy = 0.8546339869499207
Iter #1945600:  Learning rate = 0.002302:   Batch Loss = 0.681834, Accuracy = 0.8515625
PERFORMANCE ON TEST SET:             Batch Loss = 0.7284173965454102, Accuracy = 0.8478525280952454
Iter #1949696:  Learning rate = 0.002302:   Batch Loss = 0.675131, Accuracy = 0.865234375
PERFORMANCE ON TEST SET:             Batch Loss = 0.7374069690704346, Accuracy = 0.8395061492919922
Iter #1953792:  Learning rate = 0.002302:   Batch Loss = 0.704722, Accuracy = 0.849609375
PERFORMANCE ON TEST SET:             Batch Loss = 0.7929908037185669, Accuracy = 0.8250738978385925
Iter #1957888:  Learning rate = 0.002302:   Batch Loss = 0.721402, Accuracy = 0.841796875
PERFORMANCE ON TEST SET:             Batch Loss = 0.7363891005516052, Accuracy = 0.8389845490455627
Iter #1961984:  Learning rate = 0.002302:   Batch Loss = 0.717046, Accuracy = 0.833984375
PERFORMANCE ON TEST SET:             Batch Loss = 0.7375979423522949, Accuracy = 0.834637463092804
Iter #1966080:  Learning rate = 0.002302:   Batch Loss = 0.662070, Accuracy = 0.857421875
PERFORMANCE ON TEST SET:             Batch Loss = 0.6842310428619385, Accuracy = 0.8591549396514893
Iter #1970176:  Learning rate = 0.002302:   Batch Loss = 0.622750, Accuracy = 0.876953125
PERFORMANCE ON TEST SET:             Batch Loss = 0.6936936974525452, Accuracy = 0.853069007396698
Iter #1974272:  Learning rate = 0.002302:   Batch Loss = 0.679910, Accuracy = 0.8671875
PERFORMANCE ON TEST SET:             Batch Loss = 0.7164537310600281, Accuracy = 0.8509824275970459
Iter #1978368:  Learning rate = 0.002302:   Batch Loss = 0.625616, Accuracy = 0.876953125
PERFORMANCE ON TEST SET:             Batch Loss = 0.684097409248352, Accuracy = 0.8593288064002991
Iter #1982464:  Learning rate = 0.002302:   Batch Loss = 0.585640, Accuracy = 0.888671875
PERFORMANCE ON TEST SET:             Batch Loss = 0.6662382483482361, Accuracy = 0.8636758923530579
Iter #1986560:  Learning rate = 0.002302:   Batch Loss = 0.619647, Accuracy = 0.857421875
PERFORMANCE ON TEST SET:             Batch Loss = 0.6973639726638794, Accuracy = 0.8544601202011108
Iter #1990656:  Learning rate = 0.002302:   Batch Loss = 0.664930, Accuracy = 0.83984375
PERFORMANCE ON TEST SET:             Batch Loss = 0.6636900901794434, Accuracy = 0.8614153861999512
Iter #1994752:  Learning rate = 0.002302:   Batch Loss = 0.592091, Accuracy = 0.87890625
PERFORMANCE ON TEST SET:             Batch Loss = 0.7149670124053955, Accuracy = 0.8476786613464355
Iter #1998848:  Learning rate = 0.002302:   Batch Loss = 0.644409, Accuracy = 0.876953125
PERFORMANCE ON TEST SET:             Batch Loss = 0.6677846908569336, Accuracy = 0.872022271156311
Iter #2002944:  Learning rate = 0.002210:   Batch Loss = 0.618374, Accuracy = 0.876953125
PERFORMANCE ON TEST SET:             Batch Loss = 0.6762816309928894, Accuracy = 0.866457998752594
Iter #2007040:  Learning rate = 0.002210:   Batch Loss = 0.692058, Accuracy = 0.83984375
PERFORMANCE ON TEST SET:             Batch Loss = 0.6582030057907104, Accuracy = 0.8737610578536987
Iter #2011136:  Learning rate = 0.002210:   Batch Loss = 0.561323, Accuracy = 0.904296875
PERFORMANCE ON TEST SET:             Batch Loss = 0.6644313335418701, Accuracy = 0.8683707118034363
Iter #2015232:  Learning rate = 0.002210:   Batch Loss = 0.611405, Accuracy = 0.876953125
PERFORMANCE ON TEST SET:             Batch Loss = 0.6451964378356934, Accuracy = 0.8777604103088379
Iter #2019328:  Learning rate = 0.002210:   Batch Loss = 0.630968, Accuracy = 0.875
PERFORMANCE ON TEST SET:             Batch Loss = 0.7082985043525696, Accuracy = 0.8031646609306335
Iter #2023424:  Learning rate = 0.002210:   Batch Loss = 0.633046, Accuracy = 0.86328125
PERFORMANCE ON TEST SET:             Batch Loss = 0.6661428213119507, Accuracy = 0.8567205667495728
Iter #2027520:  Learning rate = 0.002210:   Batch Loss = 0.567199, Accuracy = 0.90234375
PERFORMANCE ON TEST SET:             Batch Loss = 0.6654393672943115, Accuracy = 0.8607198596000671
Iter #2031616:  Learning rate = 0.002210:   Batch Loss = 0.551883, Accuracy = 0.900390625
PERFORMANCE ON TEST SET:             Batch Loss = 0.6162073016166687, Accuracy = 0.8841940760612488
Iter #2035712:  Learning rate = 0.002210:   Batch Loss = 0.569305, Accuracy = 0.89453125
PERFORMANCE ON TEST SET:             Batch Loss = 0.6287447214126587, Accuracy = 0.8840201497077942
Iter #2039808:  Learning rate = 0.002210:   Batch Loss = 0.605255, Accuracy = 0.875
PERFORMANCE ON TEST SET:             Batch Loss = 0.6133404970169067, Accuracy = 0.8894105553627014
Iter #2043904:  Learning rate = 0.002210:   Batch Loss = 0.592908, Accuracy = 0.8671875
PERFORMANCE ON TEST SET:             Batch Loss = 0.6425867080688477, Accuracy = 0.874282717704773
Iter #2048000:  Learning rate = 0.002210:   Batch Loss = 0.560938, Accuracy = 0.888671875
PERFORMANCE ON TEST SET:             Batch Loss = 0.6221857070922852, Accuracy = 0.8840201497077942
Iter #2052096:  Learning rate = 0.002210:   Batch Loss = 0.635223, Accuracy = 0.876953125
PERFORMANCE ON TEST SET:             Batch Loss = 0.6670922040939331, Accuracy = 0.8598504662513733
Iter #2056192:  Learning rate = 0.002210:   Batch Loss = 0.608720, Accuracy = 0.876953125
PERFORMANCE ON TEST SET:             Batch Loss = 0.6731350421905518, Accuracy = 0.8581116199493408
Iter #2060288:  Learning rate = 0.002210:   Batch Loss = 0.610433, Accuracy = 0.875
PERFORMANCE ON TEST SET:             Batch Loss = 0.6491624116897583, Accuracy = 0.8723700046539307
Iter #2064384:  Learning rate = 0.002210:   Batch Loss = 0.621908, Accuracy = 0.86328125
PERFORMANCE ON TEST SET:             Batch Loss = 0.6391336917877197, Accuracy = 0.8774126172065735
Iter #2068480:  Learning rate = 0.002210:   Batch Loss = 0.589783, Accuracy = 0.89453125
PERFORMANCE ON TEST SET:             Batch Loss = 0.6353521943092346, Accuracy = 0.8815858364105225
Iter #2072576:  Learning rate = 0.002210:   Batch Loss = 0.583577, Accuracy = 0.88671875
PERFORMANCE ON TEST SET:             Batch Loss = 0.6640158891677856, Accuracy = 0.8629803657531738
Iter #2076672:  Learning rate = 0.002210:   Batch Loss = 0.603249, Accuracy = 0.876953125
PERFORMANCE ON TEST SET:             Batch Loss = 0.7041049599647522, Accuracy = 0.8513302206993103
Iter #2080768:  Learning rate = 0.002210:   Batch Loss = 0.619433, Accuracy = 0.88671875
PERFORMANCE ON TEST SET:             Batch Loss = 0.6373089551925659, Accuracy = 0.875673770904541
Iter #2084864:  Learning rate = 0.002210:   Batch Loss = 0.594169, Accuracy = 0.89453125
PERFORMANCE ON TEST SET:             Batch Loss = 0.6373741030693054, Accuracy = 0.874282717704773
Iter #2088960:  Learning rate = 0.002210:   Batch Loss = 0.552135, Accuracy = 0.892578125
PERFORMANCE ON TEST SET:             Batch Loss = 0.6502004861831665, Accuracy = 0.8661102652549744
Iter #2093056:  Learning rate = 0.002210:   Batch Loss = 0.562044, Accuracy = 0.890625
PERFORMANCE ON TEST SET:             Batch Loss = 0.6321378946304321, Accuracy = 0.8814119100570679
Iter #2097152:  Learning rate = 0.002210:   Batch Loss = 0.584048, Accuracy = 0.88671875
PERFORMANCE ON TEST SET:             Batch Loss = 0.6358612179756165, Accuracy = 0.870631217956543
Iter #2101248:  Learning rate = 0.002122:   Batch Loss = 0.542851, Accuracy = 0.90625
PERFORMANCE ON TEST SET:             Batch Loss = 0.6253470182418823, Accuracy = 0.872022271156311
Iter #2105344:  Learning rate = 0.002122:   Batch Loss = 0.531674, Accuracy = 0.91796875
PERFORMANCE ON TEST SET:             Batch Loss = 0.6175957918167114, Accuracy = 0.8841940760612488
Iter #2109440:  Learning rate = 0.002122:   Batch Loss = 0.598951, Accuracy = 0.873046875
PERFORMANCE ON TEST SET:             Batch Loss = 0.6451714634895325, Accuracy = 0.8748043775558472
Iter #2113536:  Learning rate = 0.002122:   Batch Loss = 0.563407, Accuracy = 0.90234375
PERFORMANCE ON TEST SET:             Batch Loss = 0.6186829805374146, Accuracy = 0.8850634694099426
Iter #2117632:  Learning rate = 0.002122:   Batch Loss = 0.594586, Accuracy = 0.884765625
PERFORMANCE ON TEST SET:             Batch Loss = 0.6031206846237183, Accuracy = 0.8921926617622375
Iter #2121728:  Learning rate = 0.002122:   Batch Loss = 0.564918, Accuracy = 0.87890625
PERFORMANCE ON TEST SET:             Batch Loss = 0.6469240188598633, Accuracy = 0.8704572916030884
Iter #2125824:  Learning rate = 0.002122:   Batch Loss = 0.592837, Accuracy = 0.859375
PERFORMANCE ON TEST SET:             Batch Loss = 0.6233319640159607, Accuracy = 0.8784559369087219
Iter #2129920:  Learning rate = 0.002122:   Batch Loss = 0.624947, Accuracy = 0.875
PERFORMANCE ON TEST SET:             Batch Loss = 0.6363178491592407, Accuracy = 0.8744566440582275
Iter #2134016:  Learning rate = 0.002122:   Batch Loss = 0.618616, Accuracy = 0.87890625
PERFORMANCE ON TEST SET:             Batch Loss = 0.6313345432281494, Accuracy = 0.8796731233596802
Iter #2138112:  Learning rate = 0.002122:   Batch Loss = 0.545100, Accuracy = 0.89453125
PERFORMANCE ON TEST SET:             Batch Loss = 0.6494163870811462, Accuracy = 0.8734133243560791
Iter #2142208:  Learning rate = 0.002122:   Batch Loss = 0.575626, Accuracy = 0.890625
PERFORMANCE ON TEST SET:             Batch Loss = 0.6044409275054932, Accuracy = 0.8914971351623535
Iter #2146304:  Learning rate = 0.002122:   Batch Loss = 0.594044, Accuracy = 0.880859375
PERFORMANCE ON TEST SET:             Batch Loss = 0.6698171496391296, Accuracy = 0.853764533996582
Iter #2150400:  Learning rate = 0.002122:   Batch Loss = 0.636005, Accuracy = 0.857421875
PERFORMANCE ON TEST SET:             Batch Loss = 0.6556715965270996, Accuracy = 0.8694140315055847
Iter #2154496:  Learning rate = 0.002122:   Batch Loss = 0.600748, Accuracy = 0.8671875
PERFORMANCE ON TEST SET:             Batch Loss = 0.6503466367721558, Accuracy = 0.8629803657531738
Iter #2158592:  Learning rate = 0.002122:   Batch Loss = 0.558880, Accuracy = 0.912109375
PERFORMANCE ON TEST SET:             Batch Loss = 0.6108941435813904, Accuracy = 0.8838462829589844
Iter #2162688:  Learning rate = 0.002122:   Batch Loss = 0.592781, Accuracy = 0.89453125
PERFORMANCE ON TEST SET:             Batch Loss = 0.6701392531394958, Accuracy = 0.8641975522041321
Iter #2166784:  Learning rate = 0.002122:   Batch Loss = 0.575797, Accuracy = 0.896484375
PERFORMANCE ON TEST SET:             Batch Loss = 0.6103774309158325, Accuracy = 0.8828029632568359
Iter #2170880:  Learning rate = 0.002122:   Batch Loss = 0.622172, Accuracy = 0.865234375
PERFORMANCE ON TEST SET:             Batch Loss = 0.640529990196228, Accuracy = 0.8715006113052368
Iter #2174976:  Learning rate = 0.002122:   Batch Loss = 0.547959, Accuracy = 0.923828125
PERFORMANCE ON TEST SET:             Batch Loss = 0.6071308851242065, Accuracy = 0.8868023157119751
Iter #2179072:  Learning rate = 0.002122:   Batch Loss = 0.547284, Accuracy = 0.9296875
PERFORMANCE ON TEST SET:             Batch Loss = 0.5764765739440918, Accuracy = 0.9041905999183655
Iter #2183168:  Learning rate = 0.002122:   Batch Loss = 0.492627, Accuracy = 0.93359375
PERFORMANCE ON TEST SET:             Batch Loss = 0.5547438859939575, Accuracy = 0.9083637595176697
Iter #2187264:  Learning rate = 0.002122:   Batch Loss = 0.535623, Accuracy = 0.912109375
PERFORMANCE ON TEST SET:             Batch Loss = 0.5380456447601318, Accuracy = 0.9141018986701965
Iter #2191360:  Learning rate = 0.002122:   Batch Loss = 0.495040, Accuracy = 0.921875
PERFORMANCE ON TEST SET:             Batch Loss = 0.5225600600242615, Accuracy = 0.9179273247718811
Iter #2195456:  Learning rate = 0.002122:   Batch Loss = 0.521015, Accuracy = 0.919921875
PERFORMANCE ON TEST SET:             Batch Loss = 0.5185956358909607, Accuracy = 0.9189705848693848
Iter #2199552:  Learning rate = 0.002122:   Batch Loss = 0.536179, Accuracy = 0.912109375
PERFORMANCE ON TEST SET:             Batch Loss = 0.5246702432632446, Accuracy = 0.910971999168396
Iter #2203648:  Learning rate = 0.002037:   Batch Loss = 0.496261, Accuracy = 0.935546875
PERFORMANCE ON TEST SET:             Batch Loss = 0.5689468383789062, Accuracy = 0.8989741206169128
Iter #2207744:  Learning rate = 0.002037:   Batch Loss = 0.508985, Accuracy = 0.919921875
PERFORMANCE ON TEST SET:             Batch Loss = 0.5401260852813721, Accuracy = 0.9111458659172058
Iter #2211840:  Learning rate = 0.002037:   Batch Loss = 0.483245, Accuracy = 0.93359375
PERFORMANCE ON TEST SET:             Batch Loss = 0.5378400087356567, Accuracy = 0.9125369787216187
Iter #2215936:  Learning rate = 0.002037:   Batch Loss = 0.487765, Accuracy = 0.92578125
PERFORMANCE ON TEST SET:             Batch Loss = 0.5202807188034058, Accuracy = 0.916536271572113
Iter #2220032:  Learning rate = 0.002037:   Batch Loss = 0.497983, Accuracy = 0.91796875
PERFORMANCE ON TEST SET:             Batch Loss = 0.5228087902069092, Accuracy = 0.9174056649208069
Iter #2224128:  Learning rate = 0.002037:   Batch Loss = 0.483783, Accuracy = 0.939453125
PERFORMANCE ON TEST SET:             Batch Loss = 0.5467731952667236, Accuracy = 0.9076682329177856
Iter #2228224:  Learning rate = 0.002037:   Batch Loss = 0.572295, Accuracy = 0.89453125
PERFORMANCE ON TEST SET:             Batch Loss = 0.5980842113494873, Accuracy = 0.8852373361587524
Iter #2232320:  Learning rate = 0.002037:   Batch Loss = 0.461243, Accuracy = 0.9453125
PERFORMANCE ON TEST SET:             Batch Loss = 0.5653464794158936, Accuracy = 0.9094070792198181
Iter #2236416:  Learning rate = 0.002037:   Batch Loss = 0.530451, Accuracy = 0.912109375
PERFORMANCE ON TEST SET:             Batch Loss = 0.5393552184104919, Accuracy = 0.9073204398155212
Iter #2240512:  Learning rate = 0.002037:   Batch Loss = 0.515733, Accuracy = 0.92578125
PERFORMANCE ON TEST SET:             Batch Loss = 0.559135913848877, Accuracy = 0.898278534412384
Iter #2244608:  Learning rate = 0.002037:   Batch Loss = 0.482811, Accuracy = 0.935546875
PERFORMANCE ON TEST SET:             Batch Loss = 0.5211718082427979, Accuracy = 0.920187771320343
Iter #2248704:  Learning rate = 0.002037:   Batch Loss = 0.458578, Accuracy = 0.953125
PERFORMANCE ON TEST SET:             Batch Loss = 0.5193405151367188, Accuracy = 0.9177534580230713
Iter #2252800:  Learning rate = 0.002037:   Batch Loss = 0.448026, Accuracy = 0.9453125
PERFORMANCE ON TEST SET:             Batch Loss = 0.5410714149475098, Accuracy = 0.9111458659172058
Iter #2256896:  Learning rate = 0.002037:   Batch Loss = 0.471444, Accuracy = 0.94140625
PERFORMANCE ON TEST SET:             Batch Loss = 0.509669840335846, Accuracy = 0.9255781769752502
Iter #2260992:  Learning rate = 0.002037:   Batch Loss = 0.484351, Accuracy = 0.931640625
PERFORMANCE ON TEST SET:             Batch Loss = 0.5092243552207947, Accuracy = 0.924360990524292
Iter #2265088:  Learning rate = 0.002037:   Batch Loss = 0.490776, Accuracy = 0.9375
PERFORMANCE ON TEST SET:             Batch Loss = 0.5304754972457886, Accuracy = 0.9163623452186584
Iter #2269184:  Learning rate = 0.002037:   Batch Loss = 0.497537, Accuracy = 0.94140625
PERFORMANCE ON TEST SET:             Batch Loss = 0.5061967372894287, Accuracy = 0.9186228513717651
Iter #2273280:  Learning rate = 0.002037:   Batch Loss = 0.424730, Accuracy = 0.955078125
PERFORMANCE ON TEST SET:             Batch Loss = 0.48113954067230225, Accuracy = 0.9353156089782715
Iter #2277376:  Learning rate = 0.002037:   Batch Loss = 0.462960, Accuracy = 0.93359375
PERFORMANCE ON TEST SET:             Batch Loss = 0.4672554135322571, Accuracy = 0.9419231414794922
Iter #2281472:  Learning rate = 0.002037:   Batch Loss = 0.498259, Accuracy = 0.923828125
PERFORMANCE ON TEST SET:             Batch Loss = 0.4997268617153168, Accuracy = 0.9285341501235962
Iter #2285568:  Learning rate = 0.002037:   Batch Loss = 0.653824, Accuracy = 0.880859375
PERFORMANCE ON TEST SET:             Batch Loss = 0.6464289426803589, Accuracy = 0.8647191524505615
Iter #2289664:  Learning rate = 0.002037:   Batch Loss = 0.550048, Accuracy = 0.87890625
PERFORMANCE ON TEST SET:             Batch Loss = 0.5967698097229004, Accuracy = 0.8765432238578796
Iter #2293760:  Learning rate = 0.002037:   Batch Loss = 0.525532, Accuracy = 0.896484375
PERFORMANCE ON TEST SET:             Batch Loss = 0.5884852409362793, Accuracy = 0.874978244304657
Iter #2297856:  Learning rate = 0.002037:   Batch Loss = 0.532865, Accuracy = 0.8984375
PERFORMANCE ON TEST SET:             Batch Loss = 0.5965788960456848, Accuracy = 0.8716744780540466
Iter #2301952:  Learning rate = 0.001955:   Batch Loss = 0.541055, Accuracy = 0.8828125
PERFORMANCE ON TEST SET:             Batch Loss = 0.579716682434082, Accuracy = 0.8768909573554993
Iter #2306048:  Learning rate = 0.001955:   Batch Loss = 0.581340, Accuracy = 0.8828125
PERFORMANCE ON TEST SET:             Batch Loss = 0.5753496289253235, Accuracy = 0.8866283893585205
Iter #2310144:  Learning rate = 0.001955:   Batch Loss = 0.560908, Accuracy = 0.890625
PERFORMANCE ON TEST SET:             Batch Loss = 0.5624330043792725, Accuracy = 0.8831507563591003
Iter #2314240:  Learning rate = 0.001955:   Batch Loss = 0.575540, Accuracy = 0.875
PERFORMANCE ON TEST SET:             Batch Loss = 0.6100118160247803, Accuracy = 0.8697617650032043
Iter #2318336:  Learning rate = 0.001955:   Batch Loss = 0.478274, Accuracy = 0.921875
PERFORMANCE ON TEST SET:             Batch Loss = 0.5449677109718323, Accuracy = 0.8930620551109314
Iter #2322432:  Learning rate = 0.001955:   Batch Loss = 0.543539, Accuracy = 0.884765625
PERFORMANCE ON TEST SET:             Batch Loss = 0.5371577143669128, Accuracy = 0.8902799487113953
Iter #2326528:  Learning rate = 0.001955:   Batch Loss = 0.543858, Accuracy = 0.896484375
PERFORMANCE ON TEST SET:             Batch Loss = 0.5592182874679565, Accuracy = 0.8899322152137756
Iter #2330624:  Learning rate = 0.001955:   Batch Loss = 0.483719, Accuracy = 0.923828125
PERFORMANCE ON TEST SET:             Batch Loss = 0.5312240719795227, Accuracy = 0.8963658213615417
Iter #2334720:  Learning rate = 0.001955:   Batch Loss = 0.482620, Accuracy = 0.91796875
PERFORMANCE ON TEST SET:             Batch Loss = 0.5521263480186462, Accuracy = 0.8916710019111633
Iter #2338816:  Learning rate = 0.001955:   Batch Loss = 0.517372, Accuracy = 0.8984375
PERFORMANCE ON TEST SET:             Batch Loss = 0.5361161231994629, Accuracy = 0.8965397477149963
Iter #2342912:  Learning rate = 0.001955:   Batch Loss = 0.531237, Accuracy = 0.890625
PERFORMANCE ON TEST SET:             Batch Loss = 0.5359359383583069, Accuracy = 0.8937575817108154
Iter #2347008:  Learning rate = 0.001955:   Batch Loss = 0.474467, Accuracy = 0.919921875
PERFORMANCE ON TEST SET:             Batch Loss = 0.5348401665687561, Accuracy = 0.8934098482131958
Iter #2351104:  Learning rate = 0.001955:   Batch Loss = 0.494020, Accuracy = 0.912109375
PERFORMANCE ON TEST SET:             Batch Loss = 0.5890340805053711, Accuracy = 0.8746305108070374
Iter #2355200:  Learning rate = 0.001955:   Batch Loss = 0.490324, Accuracy = 0.91796875
PERFORMANCE ON TEST SET:             Batch Loss = 0.5479814410209656, Accuracy = 0.8899322152137756
Iter #2359296:  Learning rate = 0.001955:   Batch Loss = 0.510357, Accuracy = 0.91015625
PERFORMANCE ON TEST SET:             Batch Loss = 0.555495023727417, Accuracy = 0.8873239159584045
Iter #2363392:  Learning rate = 0.001955:   Batch Loss = 0.513704, Accuracy = 0.912109375
PERFORMANCE ON TEST SET:             Batch Loss = 0.5306109189987183, Accuracy = 0.8956702947616577
Iter #2367488:  Learning rate = 0.001955:   Batch Loss = 0.480992, Accuracy = 0.90625
PERFORMANCE ON TEST SET:             Batch Loss = 0.5350320339202881, Accuracy = 0.9010607004165649
Iter #2371584:  Learning rate = 0.001955:   Batch Loss = 0.548079, Accuracy = 0.890625
PERFORMANCE ON TEST SET:             Batch Loss = 0.5617730617523193, Accuracy = 0.8901060819625854
Iter #2375680:  Learning rate = 0.001955:   Batch Loss = 0.511478, Accuracy = 0.91015625
PERFORMANCE ON TEST SET:             Batch Loss = 0.5354301929473877, Accuracy = 0.8892366290092468
Iter #2379776:  Learning rate = 0.001955:   Batch Loss = 0.471279, Accuracy = 0.919921875
PERFORMANCE ON TEST SET:             Batch Loss = 0.5157658457756042, Accuracy = 0.9000173807144165
Iter #2383872:  Learning rate = 0.001955:   Batch Loss = 0.516923, Accuracy = 0.900390625
PERFORMANCE ON TEST SET:             Batch Loss = 0.5361562967300415, Accuracy = 0.8975830078125
Iter #2387968:  Learning rate = 0.001955:   Batch Loss = 0.537073, Accuracy = 0.88671875
PERFORMANCE ON TEST SET:             Batch Loss = 0.5417881011962891, Accuracy = 0.8920187950134277
Iter #2392064:  Learning rate = 0.001955:   Batch Loss = 0.506485, Accuracy = 0.892578125
PERFORMANCE ON TEST SET:             Batch Loss = 0.5718181133270264, Accuracy = 0.8861067891120911
Iter #2396160:  Learning rate = 0.001955:   Batch Loss = 0.543807, Accuracy = 0.90234375
PERFORMANCE ON TEST SET:             Batch Loss = 0.5429513454437256, Accuracy = 0.8958442211151123
Iter #2400256:  Learning rate = 0.001877:   Batch Loss = 0.535555, Accuracy = 0.904296875
PERFORMANCE ON TEST SET:             Batch Loss = 0.5242660045623779, Accuracy = 0.8988001942634583
Iter #2404352:  Learning rate = 0.001877:   Batch Loss = 0.553354, Accuracy = 0.90625
PERFORMANCE ON TEST SET:             Batch Loss = 0.5766764879226685, Accuracy = 0.8868023157119751
Iter #2408448:  Learning rate = 0.001877:   Batch Loss = 0.533802, Accuracy = 0.89453125
PERFORMANCE ON TEST SET:             Batch Loss = 0.5541224479675293, Accuracy = 0.8927143216133118
Iter #2412544:  Learning rate = 0.001877:   Batch Loss = 0.473205, Accuracy = 0.927734375
PERFORMANCE ON TEST SET:             Batch Loss = 0.5298532247543335, Accuracy = 0.8935837149620056
Iter #2416640:  Learning rate = 0.001877:   Batch Loss = 0.499229, Accuracy = 0.9140625
PERFORMANCE ON TEST SET:             Batch Loss = 0.5175496935844421, Accuracy = 0.905407726764679
Iter #2420736:  Learning rate = 0.001877:   Batch Loss = 0.480544, Accuracy = 0.9296875
PERFORMANCE ON TEST SET:             Batch Loss = 0.5418906211853027, Accuracy = 0.8909754753112793
Iter #2424832:  Learning rate = 0.001877:   Batch Loss = 0.482207, Accuracy = 0.91015625
PERFORMANCE ON TEST SET:             Batch Loss = 0.5266548991203308, Accuracy = 0.8868023157119751
Iter #2428928:  Learning rate = 0.001877:   Batch Loss = 0.533765, Accuracy = 0.89453125
PERFORMANCE ON TEST SET:             Batch Loss = 0.5433762669563293, Accuracy = 0.8861067891120911
Iter #2433024:  Learning rate = 0.001877:   Batch Loss = 0.510645, Accuracy = 0.884765625
PERFORMANCE ON TEST SET:             Batch Loss = 0.5516080856323242, Accuracy = 0.8855851292610168
Iter #2437120:  Learning rate = 0.001877:   Batch Loss = 0.513974, Accuracy = 0.908203125
PERFORMANCE ON TEST SET:             Batch Loss = 0.5498722195625305, Accuracy = 0.889062762260437
Iter #2441216:  Learning rate = 0.001877:   Batch Loss = 0.526180, Accuracy = 0.888671875
PERFORMANCE ON TEST SET:             Batch Loss = 0.5502739548683167, Accuracy = 0.885411262512207
Iter #2445312:  Learning rate = 0.001877:   Batch Loss = 0.538740, Accuracy = 0.8984375
PERFORMANCE ON TEST SET:             Batch Loss = 0.5282103419303894, Accuracy = 0.896887481212616
Iter #2449408:  Learning rate = 0.001877:   Batch Loss = 0.529001, Accuracy = 0.912109375
PERFORMANCE ON TEST SET:             Batch Loss = 0.5359822511672974, Accuracy = 0.8928881883621216
Iter #2453504:  Learning rate = 0.001877:   Batch Loss = 0.486848, Accuracy = 0.896484375
PERFORMANCE ON TEST SET:             Batch Loss = 0.5185996890068054, Accuracy = 0.8956702947616577
Iter #2457600:  Learning rate = 0.001877:   Batch Loss = 0.477695, Accuracy = 0.921875
PERFORMANCE ON TEST SET:             Batch Loss = 0.5243642926216125, Accuracy = 0.8972352743148804
Iter #2461696:  Learning rate = 0.001877:   Batch Loss = 0.477439, Accuracy = 0.912109375
PERFORMANCE ON TEST SET:             Batch Loss = 0.5070773959159851, Accuracy = 0.9015823602676392
Iter #2465792:  Learning rate = 0.001877:   Batch Loss = 0.488392, Accuracy = 0.916015625
PERFORMANCE ON TEST SET:             Batch Loss = 0.5053259134292603, Accuracy = 0.9040166735649109
Iter #2469888:  Learning rate = 0.001877:   Batch Loss = 0.486868, Accuracy = 0.912109375
PERFORMANCE ON TEST SET:             Batch Loss = 0.5283780097961426, Accuracy = 0.8869761824607849
Iter #2473984:  Learning rate = 0.001877:   Batch Loss = 0.461663, Accuracy = 0.923828125
PERFORMANCE ON TEST SET:             Batch Loss = 0.5142734050750732, Accuracy = 0.898278534412384
Iter #2478080:  Learning rate = 0.001877:   Batch Loss = 0.502101, Accuracy = 0.92578125
PERFORMANCE ON TEST SET:             Batch Loss = 0.5081547498703003, Accuracy = 0.9021039605140686
Iter #2482176:  Learning rate = 0.001877:   Batch Loss = 0.458268, Accuracy = 0.92578125
PERFORMANCE ON TEST SET:             Batch Loss = 0.5294290781021118, Accuracy = 0.898278534412384
Iter #2486272:  Learning rate = 0.001877:   Batch Loss = 0.455645, Accuracy = 0.92578125
PERFORMANCE ON TEST SET:             Batch Loss = 0.5081670880317688, Accuracy = 0.9047122001647949
Iter #2490368:  Learning rate = 0.001877:   Batch Loss = 0.496407, Accuracy = 0.916015625
PERFORMANCE ON TEST SET:             Batch Loss = 0.50466388463974, Accuracy = 0.903147280216217
Iter #2494464:  Learning rate = 0.001877:   Batch Loss = 0.468815, Accuracy = 0.927734375
PERFORMANCE ON TEST SET:             Batch Loss = 0.5402321815490723, Accuracy = 0.8880195021629333
Iter #2498560:  Learning rate = 0.001877:   Batch Loss = 0.520549, Accuracy = 0.896484375
PERFORMANCE ON TEST SET:             Batch Loss = 0.5771530866622925, Accuracy = 0.872022271156311
Iter #2502656:  Learning rate = 0.001802:   Batch Loss = 0.529081, Accuracy = 0.888671875
PERFORMANCE ON TEST SET:             Batch Loss = 0.5653581619262695, Accuracy = 0.8810641765594482
Iter #2506752:  Learning rate = 0.001802:   Batch Loss = 0.474621, Accuracy = 0.91015625
PERFORMANCE ON TEST SET:             Batch Loss = 0.5323218107223511, Accuracy = 0.8953225612640381
Iter #2510848:  Learning rate = 0.001802:   Batch Loss = 0.484998, Accuracy = 0.908203125
PERFORMANCE ON TEST SET:             Batch Loss = 0.5315587520599365, Accuracy = 0.8892366290092468
Iter #2514944:  Learning rate = 0.001802:   Batch Loss = 0.492651, Accuracy = 0.9140625
PERFORMANCE ON TEST SET:             Batch Loss = 0.5226762294769287, Accuracy = 0.9007129073143005
Iter #2519040:  Learning rate = 0.001802:   Batch Loss = 0.474042, Accuracy = 0.904296875
PERFORMANCE ON TEST SET:             Batch Loss = 0.5121903419494629, Accuracy = 0.9007129073143005
Iter #2523136:  Learning rate = 0.001802:   Batch Loss = 0.472535, Accuracy = 0.927734375
PERFORMANCE ON TEST SET:             Batch Loss = 0.5324028730392456, Accuracy = 0.8977569341659546
Iter #2527232:  Learning rate = 0.001802:   Batch Loss = 0.440359, Accuracy = 0.939453125
PERFORMANCE ON TEST SET:             Batch Loss = 0.5285711288452148, Accuracy = 0.8954964280128479
Iter #2531328:  Learning rate = 0.001802:   Batch Loss = 0.444097, Accuracy = 0.935546875
PERFORMANCE ON TEST SET:             Batch Loss = 0.5158647894859314, Accuracy = 0.9008867740631104
Iter #2535424:  Learning rate = 0.001802:   Batch Loss = 0.480498, Accuracy = 0.90625
PERFORMANCE ON TEST SET:             Batch Loss = 0.5012283325195312, Accuracy = 0.9000173807144165
Iter #2539520:  Learning rate = 0.001802:   Batch Loss = 0.487706, Accuracy = 0.908203125
PERFORMANCE ON TEST SET:             Batch Loss = 0.5175110697746277, Accuracy = 0.8953225612640381
Iter #2543616:  Learning rate = 0.001802:   Batch Loss = 0.465620, Accuracy = 0.931640625
PERFORMANCE ON TEST SET:             Batch Loss = 0.5299944281578064, Accuracy = 0.8921926617622375
Iter #2547712:  Learning rate = 0.001802:   Batch Loss = 0.478486, Accuracy = 0.9140625
PERFORMANCE ON TEST SET:             Batch Loss = 0.5272895097732544, Accuracy = 0.892540454864502
Iter #2551808:  Learning rate = 0.001802:   Batch Loss = 0.489254, Accuracy = 0.921875
PERFORMANCE ON TEST SET:             Batch Loss = 0.49423032999038696, Accuracy = 0.9055816531181335
Iter #2555904:  Learning rate = 0.001802:   Batch Loss = 0.467243, Accuracy = 0.90625
PERFORMANCE ON TEST SET:             Batch Loss = 0.5009971857070923, Accuracy = 0.9055816531181335
Iter #2560000:  Learning rate = 0.001802:   Batch Loss = 0.421882, Accuracy = 0.935546875
PERFORMANCE ON TEST SET:             Batch Loss = 0.5116608142852783, Accuracy = 0.9014084339141846
Iter #2564096:  Learning rate = 0.001802:   Batch Loss = 0.454361, Accuracy = 0.919921875
PERFORMANCE ON TEST SET:             Batch Loss = 0.5091537833213806, Accuracy = 0.9033211469650269
Iter #2568192:  Learning rate = 0.001802:   Batch Loss = 0.497953, Accuracy = 0.9140625
PERFORMANCE ON TEST SET:             Batch Loss = 0.5407397747039795, Accuracy = 0.8960180878639221
Iter #2572288:  Learning rate = 0.001802:   Batch Loss = 0.471399, Accuracy = 0.912109375
PERFORMANCE ON TEST SET:             Batch Loss = 0.5425111055374146, Accuracy = 0.8862806558609009
Iter #2576384:  Learning rate = 0.001802:   Batch Loss = 0.458082, Accuracy = 0.93359375
PERFORMANCE ON TEST SET:             Batch Loss = 0.5219042301177979, Accuracy = 0.9027994871139526
Iter #2580480:  Learning rate = 0.001802:   Batch Loss = 0.497616, Accuracy = 0.892578125
PERFORMANCE ON TEST SET:             Batch Loss = 0.5484098196029663, Accuracy = 0.8885411024093628
Iter #2584576:  Learning rate = 0.001802:   Batch Loss = 0.478155, Accuracy = 0.912109375
PERFORMANCE ON TEST SET:             Batch Loss = 0.512171745300293, Accuracy = 0.9014084339141846
Iter #2588672:  Learning rate = 0.001802:   Batch Loss = 0.447131, Accuracy = 0.927734375
PERFORMANCE ON TEST SET:             Batch Loss = 0.5233146548271179, Accuracy = 0.9015823602676392
Iter #2592768:  Learning rate = 0.001802:   Batch Loss = 0.468442, Accuracy = 0.92578125
PERFORMANCE ON TEST SET:             Batch Loss = 0.5094629526138306, Accuracy = 0.898278534412384
Iter #2596864:  Learning rate = 0.001802:   Batch Loss = 0.479080, Accuracy = 0.9140625
PERFORMANCE ON TEST SET:             Batch Loss = 0.4970712661743164, Accuracy = 0.902451753616333
Iter #2600960:  Learning rate = 0.001730:   Batch Loss = 0.491219, Accuracy = 0.908203125
PERFORMANCE ON TEST SET:             Batch Loss = 0.5015411376953125, Accuracy = 0.9038428068161011
Iter #2605056:  Learning rate = 0.001730:   Batch Loss = 0.435460, Accuracy = 0.939453125
PERFORMANCE ON TEST SET:             Batch Loss = 0.49330875277519226, Accuracy = 0.9114936590194702
Iter #2609152:  Learning rate = 0.001730:   Batch Loss = 0.470693, Accuracy = 0.908203125
PERFORMANCE ON TEST SET:             Batch Loss = 0.49216359853744507, Accuracy = 0.910971999168396
Iter #2613248:  Learning rate = 0.001730:   Batch Loss = 0.510636, Accuracy = 0.91796875
PERFORMANCE ON TEST SET:             Batch Loss = 0.5463695526123047, Accuracy = 0.8904538154602051
Iter #2617344:  Learning rate = 0.001730:   Batch Loss = 0.484448, Accuracy = 0.931640625
PERFORMANCE ON TEST SET:             Batch Loss = 0.5020241737365723, Accuracy = 0.9005390405654907
Iter #2621440:  Learning rate = 0.001730:   Batch Loss = 0.500635, Accuracy = 0.908203125
PERFORMANCE ON TEST SET:             Batch Loss = 0.5069965124130249, Accuracy = 0.9033211469650269
Iter #2625536:  Learning rate = 0.001730:   Batch Loss = 0.435961, Accuracy = 0.9375
PERFORMANCE ON TEST SET:             Batch Loss = 0.4890177845954895, Accuracy = 0.9033211469650269
Iter #2629632:  Learning rate = 0.001730:   Batch Loss = 0.470928, Accuracy = 0.923828125
PERFORMANCE ON TEST SET:             Batch Loss = 0.4891115427017212, Accuracy = 0.9094070792198181
Iter #2633728:  Learning rate = 0.001730:   Batch Loss = 0.448349, Accuracy = 0.91796875
PERFORMANCE ON TEST SET:             Batch Loss = 0.5013847351074219, Accuracy = 0.8998435139656067
Iter #2637824:  Learning rate = 0.001730:   Batch Loss = 0.505284, Accuracy = 0.904296875
PERFORMANCE ON TEST SET:             Batch Loss = 0.4966675043106079, Accuracy = 0.9059293866157532
Iter #2641920:  Learning rate = 0.001730:   Batch Loss = 0.447025, Accuracy = 0.91796875
PERFORMANCE ON TEST SET:             Batch Loss = 0.5180095434188843, Accuracy = 0.8961919546127319
Iter #2646016:  Learning rate = 0.001730:   Batch Loss = 0.437312, Accuracy = 0.92578125
PERFORMANCE ON TEST SET:             Batch Loss = 0.47805240750312805, Accuracy = 0.9067988395690918
Iter #2650112:  Learning rate = 0.001730:   Batch Loss = 0.460817, Accuracy = 0.919921875
PERFORMANCE ON TEST SET:             Batch Loss = 0.4777681827545166, Accuracy = 0.9087115526199341
Iter #2654208:  Learning rate = 0.001730:   Batch Loss = 0.432321, Accuracy = 0.943359375
PERFORMANCE ON TEST SET:             Batch Loss = 0.5124496221542358, Accuracy = 0.9007129073143005
Iter #2658304:  Learning rate = 0.001730:   Batch Loss = 0.455209, Accuracy = 0.921875
PERFORMANCE ON TEST SET:             Batch Loss = 0.4883721172809601, Accuracy = 0.90801602602005
Iter #2662400:  Learning rate = 0.001730:   Batch Loss = 0.505406, Accuracy = 0.912109375
PERFORMANCE ON TEST SET:             Batch Loss = 0.52337646484375, Accuracy = 0.8981046676635742
Iter #2666496:  Learning rate = 0.001730:   Batch Loss = 0.485651, Accuracy = 0.91796875
PERFORMANCE ON TEST SET:             Batch Loss = 0.5185586810112, Accuracy = 0.9007129073143005
Iter #2670592:  Learning rate = 0.001730:   Batch Loss = 0.477936, Accuracy = 0.91796875
PERFORMANCE ON TEST SET:             Batch Loss = 0.5153306722640991, Accuracy = 0.9019300937652588
Iter #2674688:  Learning rate = 0.001730:   Batch Loss = 0.482844, Accuracy = 0.91796875
PERFORMANCE ON TEST SET:             Batch Loss = 0.5213034152984619, Accuracy = 0.8899322152137756
Iter #2678784:  Learning rate = 0.001730:   Batch Loss = 0.460395, Accuracy = 0.921875
PERFORMANCE ON TEST SET:             Batch Loss = 0.4833937883377075, Accuracy = 0.9125369787216187
Iter #2682880:  Learning rate = 0.001730:   Batch Loss = 0.481005, Accuracy = 0.919921875
PERFORMANCE ON TEST SET:             Batch Loss = 0.4862949848175049, Accuracy = 0.9106242656707764
Iter #2686976:  Learning rate = 0.001730:   Batch Loss = 0.454283, Accuracy = 0.912109375
PERFORMANCE ON TEST SET:             Batch Loss = 0.47333937883377075, Accuracy = 0.9130585789680481
Iter #2691072:  Learning rate = 0.001730:   Batch Loss = 0.451747, Accuracy = 0.9140625
PERFORMANCE ON TEST SET:             Batch Loss = 0.5009139180183411, Accuracy = 0.9073204398155212
Iter #2695168:  Learning rate = 0.001730:   Batch Loss = 0.462805, Accuracy = 0.916015625
PERFORMANCE ON TEST SET:             Batch Loss = 0.500912606716156, Accuracy = 0.9045383334159851
Iter #2699264:  Learning rate = 0.001730:   Batch Loss = 0.449677, Accuracy = 0.91796875
PERFORMANCE ON TEST SET:             Batch Loss = 0.4933547377586365, Accuracy = 0.8998435139656067
Iter #2703360:  Learning rate = 0.001661:   Batch Loss = 0.454188, Accuracy = 0.919921875
PERFORMANCE ON TEST SET:             Batch Loss = 0.482231080532074, Accuracy = 0.9088854193687439
Iter #2707456:  Learning rate = 0.001661:   Batch Loss = 0.481500, Accuracy = 0.92578125
PERFORMANCE ON TEST SET:             Batch Loss = 0.4883243441581726, Accuracy = 0.9073204398155212
Iter #2711552:  Learning rate = 0.001661:   Batch Loss = 0.441703, Accuracy = 0.919921875
PERFORMANCE ON TEST SET:             Batch Loss = 0.47967609763145447, Accuracy = 0.90801602602005
Iter #2715648:  Learning rate = 0.001661:   Batch Loss = 0.447892, Accuracy = 0.931640625
PERFORMANCE ON TEST SET:             Batch Loss = 0.5000094175338745, Accuracy = 0.9036689400672913
Iter #2719744:  Learning rate = 0.001661:   Batch Loss = 0.432798, Accuracy = 0.927734375
PERFORMANCE ON TEST SET:             Batch Loss = 0.47879695892333984, Accuracy = 0.9088854193687439
Iter #2723840:  Learning rate = 0.001661:   Batch Loss = 0.459388, Accuracy = 0.9140625
PERFORMANCE ON TEST SET:             Batch Loss = 0.4978412687778473, Accuracy = 0.9019300937652588
Iter #2727936:  Learning rate = 0.001661:   Batch Loss = 0.474148, Accuracy = 0.921875
PERFORMANCE ON TEST SET:             Batch Loss = 0.490986704826355, Accuracy = 0.8989741206169128
Iter #2732032:  Learning rate = 0.001661:   Batch Loss = 0.439518, Accuracy = 0.9296875
PERFORMANCE ON TEST SET:             Batch Loss = 0.477703332901001, Accuracy = 0.9087115526199341
Iter #2736128:  Learning rate = 0.001661:   Batch Loss = 0.402671, Accuracy = 0.931640625
PERFORMANCE ON TEST SET:             Batch Loss = 0.47137320041656494, Accuracy = 0.9104503393173218
Iter #2740224:  Learning rate = 0.001661:   Batch Loss = 0.430289, Accuracy = 0.935546875
PERFORMANCE ON TEST SET:             Batch Loss = 0.4888501763343811, Accuracy = 0.9007129073143005
Iter #2744320:  Learning rate = 0.001661:   Batch Loss = 0.450216, Accuracy = 0.91796875
PERFORMANCE ON TEST SET:             Batch Loss = 0.5071901082992554, Accuracy = 0.8988001942634583
Iter #2748416:  Learning rate = 0.001661:   Batch Loss = 0.496242, Accuracy = 0.91796875
PERFORMANCE ON TEST SET:             Batch Loss = 0.5200725793838501, Accuracy = 0.8996696472167969
Iter #2752512:  Learning rate = 0.001661:   Batch Loss = 0.464830, Accuracy = 0.9140625
PERFORMANCE ON TEST SET:             Batch Loss = 0.48121827840805054, Accuracy = 0.9128847122192383
Iter #2756608:  Learning rate = 0.001661:   Batch Loss = 0.417703, Accuracy = 0.9375
PERFORMANCE ON TEST SET:             Batch Loss = 0.4883772134780884, Accuracy = 0.9085376262664795
Iter #2760704:  Learning rate = 0.001661:   Batch Loss = 0.451252, Accuracy = 0.91796875
PERFORMANCE ON TEST SET:             Batch Loss = 0.48030441999435425, Accuracy = 0.9057555198669434
Iter #2764800:  Learning rate = 0.001661:   Batch Loss = 0.410217, Accuracy = 0.935546875
PERFORMANCE ON TEST SET:             Batch Loss = 0.48940134048461914, Accuracy = 0.9073204398155212
Iter #2768896:  Learning rate = 0.001661:   Batch Loss = 0.481602, Accuracy = 0.90234375
PERFORMANCE ON TEST SET:             Batch Loss = 0.5113636255264282, Accuracy = 0.9015823602676392
Iter #2772992:  Learning rate = 0.001661:   Batch Loss = 0.446100, Accuracy = 0.9140625
PERFORMANCE ON TEST SET:             Batch Loss = 0.5060858726501465, Accuracy = 0.90801602602005
Iter #2777088:  Learning rate = 0.001661:   Batch Loss = 0.408923, Accuracy = 0.9453125
PERFORMANCE ON TEST SET:             Batch Loss = 0.47590285539627075, Accuracy = 0.9163623452186584
Iter #2781184:  Learning rate = 0.001661:   Batch Loss = 0.412484, Accuracy = 0.94140625
PERFORMANCE ON TEST SET:             Batch Loss = 0.47025638818740845, Accuracy = 0.9090592861175537
Iter #2785280:  Learning rate = 0.001661:   Batch Loss = 0.408870, Accuracy = 0.939453125
PERFORMANCE ON TEST SET:             Batch Loss = 0.4841731786727905, Accuracy = 0.9113197922706604
Iter #2789376:  Learning rate = 0.001661:   Batch Loss = 0.446682, Accuracy = 0.91796875
PERFORMANCE ON TEST SET:             Batch Loss = 0.4811464548110962, Accuracy = 0.9147974252700806
Iter #2793472:  Learning rate = 0.001661:   Batch Loss = 0.421673, Accuracy = 0.919921875
PERFORMANCE ON TEST SET:             Batch Loss = 0.4723377823829651, Accuracy = 0.9134063720703125
Iter #2797568:  Learning rate = 0.001661:   Batch Loss = 0.421857, Accuracy = 0.927734375
PERFORMANCE ON TEST SET:             Batch Loss = 0.47322961688041687, Accuracy = 0.916536271572113
Iter #2801664:  Learning rate = 0.001594:   Batch Loss = 0.410575, Accuracy = 0.93359375
PERFORMANCE ON TEST SET:             Batch Loss = 0.4946214258670807, Accuracy = 0.9041905999183655
Iter #2805760:  Learning rate = 0.001594:   Batch Loss = 0.414939, Accuracy = 0.9296875
PERFORMANCE ON TEST SET:             Batch Loss = 0.4912422299385071, Accuracy = 0.9041905999183655
Iter #2809856:  Learning rate = 0.001594:   Batch Loss = 0.451441, Accuracy = 0.916015625
PERFORMANCE ON TEST SET:             Batch Loss = 0.48893752694129944, Accuracy = 0.9120153188705444
Iter #2813952:  Learning rate = 0.001594:   Batch Loss = 0.413815, Accuracy = 0.943359375
PERFORMANCE ON TEST SET:             Batch Loss = 0.49789080023765564, Accuracy = 0.9048861265182495
Iter #2818048:  Learning rate = 0.001594:   Batch Loss = 0.402579, Accuracy = 0.953125
PERFORMANCE ON TEST SET:             Batch Loss = 0.489576131105423, Accuracy = 0.91166752576828
Iter #2822144:  Learning rate = 0.001594:   Batch Loss = 0.432770, Accuracy = 0.931640625
PERFORMANCE ON TEST SET:             Batch Loss = 0.48593389987945557, Accuracy = 0.91166752576828
Iter #2826240:  Learning rate = 0.001594:   Batch Loss = 0.479870, Accuracy = 0.904296875
PERFORMANCE ON TEST SET:             Batch Loss = 0.4859410226345062, Accuracy = 0.9101026058197021
Iter #2830336:  Learning rate = 0.001594:   Batch Loss = 0.431060, Accuracy = 0.93359375
PERFORMANCE ON TEST SET:             Batch Loss = 0.47485554218292236, Accuracy = 0.9095809459686279
Iter #2834432:  Learning rate = 0.001594:   Batch Loss = 0.416458, Accuracy = 0.935546875
PERFORMANCE ON TEST SET:             Batch Loss = 0.47587037086486816, Accuracy = 0.9097548127174377
Iter #2838528:  Learning rate = 0.001594:   Batch Loss = 0.415232, Accuracy = 0.935546875
PERFORMANCE ON TEST SET:             Batch Loss = 0.5090600848197937, Accuracy = 0.8937575817108154
Iter #2842624:  Learning rate = 0.001594:   Batch Loss = 0.421750, Accuracy = 0.92578125
PERFORMANCE ON TEST SET:             Batch Loss = 0.48185741901397705, Accuracy = 0.9107981324195862
Iter #2846720:  Learning rate = 0.001594:   Batch Loss = 0.503202, Accuracy = 0.90625
PERFORMANCE ON TEST SET:             Batch Loss = 0.4605797827243805, Accuracy = 0.9101026058197021
Iter #2850816:  Learning rate = 0.001594:   Batch Loss = 0.448072, Accuracy = 0.91796875
PERFORMANCE ON TEST SET:             Batch Loss = 0.4789738655090332, Accuracy = 0.910276472568512
Iter #2854912:  Learning rate = 0.001594:   Batch Loss = 0.410347, Accuracy = 0.93359375
PERFORMANCE ON TEST SET:             Batch Loss = 0.45178455114364624, Accuracy = 0.9198400378227234
Iter #2859008:  Learning rate = 0.001594:   Batch Loss = 0.428725, Accuracy = 0.931640625
PERFORMANCE ON TEST SET:             Batch Loss = 0.5178577899932861, Accuracy = 0.8981046676635742
Iter #2863104:  Learning rate = 0.001594:   Batch Loss = 0.446628, Accuracy = 0.90234375
PERFORMANCE ON TEST SET:             Batch Loss = 0.49104154109954834, Accuracy = 0.9008867740631104
Iter #2867200:  Learning rate = 0.001594:   Batch Loss = 0.453704, Accuracy = 0.912109375
PERFORMANCE ON TEST SET:             Batch Loss = 0.4892699122428894, Accuracy = 0.9083637595176697
Iter #2871296:  Learning rate = 0.001594:   Batch Loss = 0.422962, Accuracy = 0.94921875
PERFORMANCE ON TEST SET:             Batch Loss = 0.49213069677352905, Accuracy = 0.9057555198669434
Iter #2875392:  Learning rate = 0.001594:   Batch Loss = 0.443441, Accuracy = 0.927734375
PERFORMANCE ON TEST SET:             Batch Loss = 0.47795140743255615, Accuracy = 0.9113197922706604
Iter #2879488:  Learning rate = 0.001594:   Batch Loss = 0.413447, Accuracy = 0.931640625
PERFORMANCE ON TEST SET:             Batch Loss = 0.48734891414642334, Accuracy = 0.915145218372345
Iter #2883584:  Learning rate = 0.001594:   Batch Loss = 0.431944, Accuracy = 0.921875
PERFORMANCE ON TEST SET:             Batch Loss = 0.4641681909561157, Accuracy = 0.919492244720459
Iter #2887680:  Learning rate = 0.001594:   Batch Loss = 0.448076, Accuracy = 0.927734375
PERFORMANCE ON TEST SET:             Batch Loss = 0.4819601774215698, Accuracy = 0.9061033129692078
Iter #2891776:  Learning rate = 0.001594:   Batch Loss = 0.420108, Accuracy = 0.931640625
PERFORMANCE ON TEST SET:             Batch Loss = 0.4619787931442261, Accuracy = 0.9175795316696167
Iter #2895872:  Learning rate = 0.001594:   Batch Loss = 0.428087, Accuracy = 0.935546875
PERFORMANCE ON TEST SET:             Batch Loss = 0.4816141128540039, Accuracy = 0.9074943661689758
Iter #2899968:  Learning rate = 0.001594:   Batch Loss = 0.394257, Accuracy = 0.94140625
PERFORMANCE ON TEST SET:             Batch Loss = 0.4991917312145233, Accuracy = 0.9026256203651428
Iter #2904064:  Learning rate = 0.001531:   Batch Loss = 0.448606, Accuracy = 0.935546875
PERFORMANCE ON TEST SET:             Batch Loss = 0.4890367388725281, Accuracy = 0.9104503393173218
Iter #2908160:  Learning rate = 0.001531:   Batch Loss = 0.427646, Accuracy = 0.935546875
PERFORMANCE ON TEST SET:             Batch Loss = 0.47121134400367737, Accuracy = 0.9141018986701965
Iter #2912256:  Learning rate = 0.001531:   Batch Loss = 0.379035, Accuracy = 0.9453125
PERFORMANCE ON TEST SET:             Batch Loss = 0.4617754817008972, Accuracy = 0.9154929518699646
Iter #2916352:  Learning rate = 0.001531:   Batch Loss = 0.432470, Accuracy = 0.919921875
PERFORMANCE ON TEST SET:             Batch Loss = 0.47984713315963745, Accuracy = 0.9125369787216187
Iter #2920448:  Learning rate = 0.001531:   Batch Loss = 0.423946, Accuracy = 0.939453125
PERFORMANCE ON TEST SET:             Batch Loss = 0.4701804518699646, Accuracy = 0.916536271572113
Iter #2924544:  Learning rate = 0.001531:   Batch Loss = 0.400507, Accuracy = 0.94140625
PERFORMANCE ON TEST SET:             Batch Loss = 0.4742574691772461, Accuracy = 0.9170579314231873
Iter #2928640:  Learning rate = 0.001531:   Batch Loss = 0.403379, Accuracy = 0.92578125
PERFORMANCE ON TEST SET:             Batch Loss = 0.493979275226593, Accuracy = 0.9130585789680481
Iter #2932736:  Learning rate = 0.001531:   Batch Loss = 0.400455, Accuracy = 0.94140625
PERFORMANCE ON TEST SET:             Batch Loss = 0.48895514011383057, Accuracy = 0.9130585789680481
Iter #2936832:  Learning rate = 0.001531:   Batch Loss = 0.392257, Accuracy = 0.9453125
PERFORMANCE ON TEST SET:             Batch Loss = 0.4694671034812927, Accuracy = 0.9107981324195862
Iter #2940928:  Learning rate = 0.001531:   Batch Loss = 0.405089, Accuracy = 0.9375
PERFORMANCE ON TEST SET:             Batch Loss = 0.48119106888771057, Accuracy = 0.905407726764679
Iter #2945024:  Learning rate = 0.001531:   Batch Loss = 0.412013, Accuracy = 0.935546875
PERFORMANCE ON TEST SET:             Batch Loss = 0.46274399757385254, Accuracy = 0.9181011915206909
Iter #2949120:  Learning rate = 0.001531:   Batch Loss = 0.435714, Accuracy = 0.916015625
PERFORMANCE ON TEST SET:             Batch Loss = 0.48560142517089844, Accuracy = 0.9107981324195862
Iter #2953216:  Learning rate = 0.001531:   Batch Loss = 0.390370, Accuracy = 0.94921875
PERFORMANCE ON TEST SET:             Batch Loss = 0.4903275966644287, Accuracy = 0.9081898927688599
Iter #2957312:  Learning rate = 0.001531:   Batch Loss = 0.453117, Accuracy = 0.9296875
PERFORMANCE ON TEST SET:             Batch Loss = 0.46299856901168823, Accuracy = 0.9128847122192383
Iter #2961408:  Learning rate = 0.001531:   Batch Loss = 0.445740, Accuracy = 0.912109375
PERFORMANCE ON TEST SET:             Batch Loss = 0.47186970710754395, Accuracy = 0.9156668186187744
Iter #2965504:  Learning rate = 0.001531:   Batch Loss = 0.456289, Accuracy = 0.9140625
PERFORMANCE ON TEST SET:             Batch Loss = 0.5068945288658142, Accuracy = 0.9040166735649109
Iter #2969600:  Learning rate = 0.001531:   Batch Loss = 0.387089, Accuracy = 0.95703125
PERFORMANCE ON TEST SET:             Batch Loss = 0.4645920693874359, Accuracy = 0.9175795316696167
Iter #2973696:  Learning rate = 0.001531:   Batch Loss = 0.460777, Accuracy = 0.896484375
PERFORMANCE ON TEST SET:             Batch Loss = 0.4632262587547302, Accuracy = 0.9104503393173218
Iter #2977792:  Learning rate = 0.001531:   Batch Loss = 0.452801, Accuracy = 0.9140625
PERFORMANCE ON TEST SET:             Batch Loss = 0.46929097175598145, Accuracy = 0.9139280319213867
Iter #2981888:  Learning rate = 0.001531:   Batch Loss = 0.420159, Accuracy = 0.93359375
PERFORMANCE ON TEST SET:             Batch Loss = 0.45123785734176636, Accuracy = 0.9177534580230713
Iter #2985984:  Learning rate = 0.001531:   Batch Loss = 0.422582, Accuracy = 0.935546875
PERFORMANCE ON TEST SET:             Batch Loss = 0.44719386100769043, Accuracy = 0.9214049577713013
Iter #2990080:  Learning rate = 0.001531:   Batch Loss = 0.431284, Accuracy = 0.9375
PERFORMANCE ON TEST SET:             Batch Loss = 0.45782506465911865, Accuracy = 0.9160146117210388
Iter #2994176:  Learning rate = 0.001531:   Batch Loss = 0.415932, Accuracy = 0.9296875
PERFORMANCE ON TEST SET:             Batch Loss = 0.46430179476737976, Accuracy = 0.9156668186187744
Iter #2998272:  Learning rate = 0.001531:   Batch Loss = 0.387657, Accuracy = 0.9453125
PERFORMANCE ON TEST SET:             Batch Loss = 0.45860666036605835, Accuracy = 0.9153190851211548
Iter #3002368:  Learning rate = 0.001469:   Batch Loss = 0.413578, Accuracy = 0.935546875
PERFORMANCE ON TEST SET:             Batch Loss = 0.4800977110862732, Accuracy = 0.9113197922706604
Iter #3006464:  Learning rate = 0.001469:   Batch Loss = 0.417107, Accuracy = 0.935546875
PERFORMANCE ON TEST SET:             Batch Loss = 0.4429699778556824, Accuracy = 0.9264475703239441
Iter #3010560:  Learning rate = 0.001469:   Batch Loss = 0.450398, Accuracy = 0.923828125
PERFORMANCE ON TEST SET:             Batch Loss = 0.45888811349868774, Accuracy = 0.918796718120575
Iter #3014656:  Learning rate = 0.001469:   Batch Loss = 0.415812, Accuracy = 0.927734375
PERFORMANCE ON TEST SET:             Batch Loss = 0.5038028955459595, Accuracy = 0.9033211469650269
Iter #3018752:  Learning rate = 0.001469:   Batch Loss = 0.447277, Accuracy = 0.9140625
PERFORMANCE ON TEST SET:             Batch Loss = 0.44460171461105347, Accuracy = 0.9177534580230713
Iter #3022848:  Learning rate = 0.001469:   Batch Loss = 0.459920, Accuracy = 0.91796875
PERFORMANCE ON TEST SET:             Batch Loss = 0.47034063935279846, Accuracy = 0.9125369787216187
Iter #3026944:  Learning rate = 0.001469:   Batch Loss = 0.400863, Accuracy = 0.94140625
PERFORMANCE ON TEST SET:             Batch Loss = 0.464600533246994, Accuracy = 0.9248826503753662
Iter #3031040:  Learning rate = 0.001469:   Batch Loss = 0.381218, Accuracy = 0.94921875
PERFORMANCE ON TEST SET:             Batch Loss = 0.46605685353279114, Accuracy = 0.9147974252700806
Iter #3035136:  Learning rate = 0.001469:   Batch Loss = 0.444063, Accuracy = 0.9296875
PERFORMANCE ON TEST SET:             Batch Loss = 0.45442041754722595, Accuracy = 0.9198400378227234
Iter #3039232:  Learning rate = 0.001469:   Batch Loss = 0.437589, Accuracy = 0.92578125
PERFORMANCE ON TEST SET:             Batch Loss = 0.4754107594490051, Accuracy = 0.9127108454704285
Iter #3043328:  Learning rate = 0.001469:   Batch Loss = 0.438752, Accuracy = 0.921875
PERFORMANCE ON TEST SET:             Batch Loss = 0.4792408347129822, Accuracy = 0.9114936590194702
Iter #3047424:  Learning rate = 0.001469:   Batch Loss = 0.373860, Accuracy = 0.943359375
PERFORMANCE ON TEST SET:             Batch Loss = 0.4581736922264099, Accuracy = 0.919492244720459
Iter #3051520:  Learning rate = 0.001469:   Batch Loss = 0.415562, Accuracy = 0.9296875
PERFORMANCE ON TEST SET:             Batch Loss = 0.4602367877960205, Accuracy = 0.9182750582695007
Iter #3055616:  Learning rate = 0.001469:   Batch Loss = 0.401812, Accuracy = 0.951171875
PERFORMANCE ON TEST SET:             Batch Loss = 0.4635993540287018, Accuracy = 0.9142757654190063
Iter #3059712:  Learning rate = 0.001469:   Batch Loss = 0.353738, Accuracy = 0.962890625
PERFORMANCE ON TEST SET:             Batch Loss = 0.4575878381729126, Accuracy = 0.9184489846229553
Iter #3063808:  Learning rate = 0.001469:   Batch Loss = 0.413016, Accuracy = 0.93359375
PERFORMANCE ON TEST SET:             Batch Loss = 0.4621409773826599, Accuracy = 0.919492244720459
Iter #3067904:  Learning rate = 0.001469:   Batch Loss = 0.408688, Accuracy = 0.947265625
PERFORMANCE ON TEST SET:             Batch Loss = 0.4718611538410187, Accuracy = 0.9127108454704285
Iter #3072000:  Learning rate = 0.001469:   Batch Loss = 0.394395, Accuracy = 0.94921875
PERFORMANCE ON TEST SET:             Batch Loss = 0.44985681772232056, Accuracy = 0.9198400378227234
Iter #3076096:  Learning rate = 0.001469:   Batch Loss = 0.416805, Accuracy = 0.94140625
PERFORMANCE ON TEST SET:             Batch Loss = 0.46193957328796387, Accuracy = 0.915840744972229
Iter #3080192:  Learning rate = 0.001469:   Batch Loss = 0.407122, Accuracy = 0.94140625
PERFORMANCE ON TEST SET:             Batch Loss = 0.4628310203552246, Accuracy = 0.916536271572113
Iter #3084288:  Learning rate = 0.001469:   Batch Loss = 0.389947, Accuracy = 0.9453125
PERFORMANCE ON TEST SET:             Batch Loss = 0.4495578110218048, Accuracy = 0.9221004843711853
Iter #3088384:  Learning rate = 0.001469:   Batch Loss = 0.377103, Accuracy = 0.951171875
PERFORMANCE ON TEST SET:             Batch Loss = 0.44906848669052124, Accuracy = 0.9179273247718811
Iter #3092480:  Learning rate = 0.001469:   Batch Loss = 0.427928, Accuracy = 0.91796875
PERFORMANCE ON TEST SET:             Batch Loss = 0.46596235036849976, Accuracy = 0.9113197922706604
Iter #3096576:  Learning rate = 0.001469:   Batch Loss = 0.408982, Accuracy = 0.939453125
PERFORMANCE ON TEST SET:             Batch Loss = 0.4681543707847595, Accuracy = 0.9135802388191223
Iter #3100672:  Learning rate = 0.001411:   Batch Loss = 0.437703, Accuracy = 0.931640625
PERFORMANCE ON TEST SET:             Batch Loss = 0.4764959514141083, Accuracy = 0.9066249132156372
Iter #3104768:  Learning rate = 0.001411:   Batch Loss = 0.414144, Accuracy = 0.93359375
PERFORMANCE ON TEST SET:             Batch Loss = 0.46266722679138184, Accuracy = 0.9156668186187744
Iter #3108864:  Learning rate = 0.001411:   Batch Loss = 0.411525, Accuracy = 0.927734375
PERFORMANCE ON TEST SET:             Batch Loss = 0.46961140632629395, Accuracy = 0.9168840050697327
Iter #3112960:  Learning rate = 0.001411:   Batch Loss = 0.410139, Accuracy = 0.953125
PERFORMANCE ON TEST SET:             Batch Loss = 0.4902637004852295, Accuracy = 0.9038428068161011
Iter #3117056:  Learning rate = 0.001411:   Batch Loss = 0.395182, Accuracy = 0.951171875
PERFORMANCE ON TEST SET:             Batch Loss = 0.46447885036468506, Accuracy = 0.9134063720703125
Iter #3121152:  Learning rate = 0.001411:   Batch Loss = 0.370926, Accuracy = 0.943359375
PERFORMANCE ON TEST SET:             Batch Loss = 0.47247081995010376, Accuracy = 0.910971999168396
Iter #3125248:  Learning rate = 0.001411:   Batch Loss = 0.381264, Accuracy = 0.94140625
PERFORMANCE ON TEST SET:             Batch Loss = 0.4668620228767395, Accuracy = 0.9111458659172058
Iter #3129344:  Learning rate = 0.001411:   Batch Loss = 0.379479, Accuracy = 0.935546875
PERFORMANCE ON TEST SET:             Batch Loss = 0.45039790868759155, Accuracy = 0.9224482774734497
Iter #3133440:  Learning rate = 0.001411:   Batch Loss = 0.403059, Accuracy = 0.9140625
PERFORMANCE ON TEST SET:             Batch Loss = 0.4758014976978302, Accuracy = 0.9111458659172058
Iter #3137536:  Learning rate = 0.001411:   Batch Loss = 0.426419, Accuracy = 0.92578125
PERFORMANCE ON TEST SET:             Batch Loss = 0.48492079973220825, Accuracy = 0.9106242656707764
Iter #3141632:  Learning rate = 0.001411:   Batch Loss = 0.397623, Accuracy = 0.939453125
PERFORMANCE ON TEST SET:             Batch Loss = 0.4743165671825409, Accuracy = 0.9095809459686279
Iter #3145728:  Learning rate = 0.001411:   Batch Loss = 0.391104, Accuracy = 0.943359375
PERFORMANCE ON TEST SET:             Batch Loss = 0.45085299015045166, Accuracy = 0.918796718120575
Iter #3149824:  Learning rate = 0.001411:   Batch Loss = 0.402520, Accuracy = 0.935546875
PERFORMANCE ON TEST SET:             Batch Loss = 0.4550311267375946, Accuracy = 0.9156668186187744
Iter #3153920:  Learning rate = 0.001411:   Batch Loss = 0.433057, Accuracy = 0.931640625
PERFORMANCE ON TEST SET:             Batch Loss = 0.4524913728237152, Accuracy = 0.9189705848693848
Iter #3158016:  Learning rate = 0.001411:   Batch Loss = 0.357905, Accuracy = 0.955078125
PERFORMANCE ON TEST SET:             Batch Loss = 0.43552643060684204, Accuracy = 0.9394887685775757
Iter #3162112:  Learning rate = 0.001411:   Batch Loss = 0.351701, Accuracy = 0.95703125
PERFORMANCE ON TEST SET:             Batch Loss = 0.45045027136802673, Accuracy = 0.9193183779716492
Iter #3166208:  Learning rate = 0.001411:   Batch Loss = 0.434232, Accuracy = 0.91796875
PERFORMANCE ON TEST SET:             Batch Loss = 0.4561540484428406, Accuracy = 0.9125369787216187
Iter #3170304:  Learning rate = 0.001411:   Batch Loss = 0.437539, Accuracy = 0.919921875
PERFORMANCE ON TEST SET:             Batch Loss = 0.4795127213001251, Accuracy = 0.9160146117210388
Iter #3174400:  Learning rate = 0.001411:   Batch Loss = 0.422865, Accuracy = 0.9296875
PERFORMANCE ON TEST SET:             Batch Loss = 0.483596533536911, Accuracy = 0.90801602602005
Iter #3178496:  Learning rate = 0.001411:   Batch Loss = 0.373457, Accuracy = 0.953125
PERFORMANCE ON TEST SET:             Batch Loss = 0.4774740934371948, Accuracy = 0.9064510464668274
Iter #3182592:  Learning rate = 0.001411:   Batch Loss = 0.422635, Accuracy = 0.93359375
PERFORMANCE ON TEST SET:             Batch Loss = 0.4764189124107361, Accuracy = 0.9088854193687439
Iter #3186688:  Learning rate = 0.001411:   Batch Loss = 0.455214, Accuracy = 0.91796875
PERFORMANCE ON TEST SET:             Batch Loss = 0.4544438123703003, Accuracy = 0.9172317981719971
Iter #3190784:  Learning rate = 0.001411:   Batch Loss = 0.413760, Accuracy = 0.927734375
PERFORMANCE ON TEST SET:             Batch Loss = 0.4666312038898468, Accuracy = 0.9163623452186584
Iter #3194880:  Learning rate = 0.001411:   Batch Loss = 0.408554, Accuracy = 0.943359375
PERFORMANCE ON TEST SET:             Batch Loss = 0.46168726682662964, Accuracy = 0.915840744972229
Iter #3198976:  Learning rate = 0.001411:   Batch Loss = 0.380005, Accuracy = 0.9453125
PERFORMANCE ON TEST SET:             Batch Loss = 0.4696443974971771, Accuracy = 0.919492244720459
Iter #3203072:  Learning rate = 0.001354:   Batch Loss = 0.426605, Accuracy = 0.935546875
PERFORMANCE ON TEST SET:             Batch Loss = 0.4575657248497009, Accuracy = 0.9163623452186584
Iter #3207168:  Learning rate = 0.001354:   Batch Loss = 0.416192, Accuracy = 0.931640625
PERFORMANCE ON TEST SET:             Batch Loss = 0.43783071637153625, Accuracy = 0.9233176708221436
Iter #3211264:  Learning rate = 0.001354:   Batch Loss = 0.405077, Accuracy = 0.935546875
PERFORMANCE ON TEST SET:             Batch Loss = 0.4976661801338196, Accuracy = 0.9062771797180176
Iter #3215360:  Learning rate = 0.001354:   Batch Loss = 0.371514, Accuracy = 0.9453125
PERFORMANCE ON TEST SET:             Batch Loss = 0.4558374583721161, Accuracy = 0.9161884784698486
Iter #3219456:  Learning rate = 0.001354:   Batch Loss = 0.378063, Accuracy = 0.94921875
PERFORMANCE ON TEST SET:             Batch Loss = 0.44113337993621826, Accuracy = 0.9231438040733337
Iter #3223552:  Learning rate = 0.001354:   Batch Loss = 0.359661, Accuracy = 0.962890625
PERFORMANCE ON TEST SET:             Batch Loss = 0.44733941555023193, Accuracy = 0.920883297920227
Iter #3227648:  Learning rate = 0.001354:   Batch Loss = 0.384087, Accuracy = 0.943359375
PERFORMANCE ON TEST SET:             Batch Loss = 0.4323282241821289, Accuracy = 0.9259259104728699
Iter #3231744:  Learning rate = 0.001354:   Batch Loss = 0.381700, Accuracy = 0.94921875
PERFORMANCE ON TEST SET:             Batch Loss = 0.43169480562210083, Accuracy = 0.9274908900260925
Iter #3235840:  Learning rate = 0.001354:   Batch Loss = 0.369917, Accuracy = 0.953125
PERFORMANCE ON TEST SET:             Batch Loss = 0.44232267141342163, Accuracy = 0.9231438040733337
Iter #3239936:  Learning rate = 0.001354:   Batch Loss = 0.358773, Accuracy = 0.94921875
PERFORMANCE ON TEST SET:             Batch Loss = 0.439322292804718, Accuracy = 0.9254042506217957
Iter #3244032:  Learning rate = 0.001354:   Batch Loss = 0.391412, Accuracy = 0.94140625
PERFORMANCE ON TEST SET:             Batch Loss = 0.45735856890678406, Accuracy = 0.9198400378227234
Iter #3248128:  Learning rate = 0.001354:   Batch Loss = 0.382614, Accuracy = 0.939453125
PERFORMANCE ON TEST SET:             Batch Loss = 0.44446122646331787, Accuracy = 0.9219266176223755
Iter #3252224:  Learning rate = 0.001354:   Batch Loss = 0.391608, Accuracy = 0.943359375
PERFORMANCE ON TEST SET:             Batch Loss = 0.4624055027961731, Accuracy = 0.916536271572113
Iter #3256320:  Learning rate = 0.001354:   Batch Loss = 0.381277, Accuracy = 0.94921875
PERFORMANCE ON TEST SET:             Batch Loss = 0.46949487924575806, Accuracy = 0.9160146117210388
Iter #3260416:  Learning rate = 0.001354:   Batch Loss = 0.362079, Accuracy = 0.953125
PERFORMANCE ON TEST SET:             Batch Loss = 0.4561237096786499, Accuracy = 0.9128847122192383
Iter #3264512:  Learning rate = 0.001354:   Batch Loss = 0.387357, Accuracy = 0.94140625
PERFORMANCE ON TEST SET:             Batch Loss = 0.43305379152297974, Accuracy = 0.9257520437240601
Iter #3268608:  Learning rate = 0.001354:   Batch Loss = 0.390117, Accuracy = 0.939453125
PERFORMANCE ON TEST SET:             Batch Loss = 0.4485354423522949, Accuracy = 0.919492244720459
Iter #3272704:  Learning rate = 0.001354:   Batch Loss = 0.406350, Accuracy = 0.9375
PERFORMANCE ON TEST SET:             Batch Loss = 0.4538368582725525, Accuracy = 0.9168840050697327
Iter #3276800:  Learning rate = 0.001354:   Batch Loss = 0.458247, Accuracy = 0.92578125
PERFORMANCE ON TEST SET:             Batch Loss = 0.4733520746231079, Accuracy = 0.9081898927688599
Iter #3280896:  Learning rate = 0.001354:   Batch Loss = 0.421386, Accuracy = 0.908203125
PERFORMANCE ON TEST SET:             Batch Loss = 0.4682534337043762, Accuracy = 0.9081898927688599
Iter #3284992:  Learning rate = 0.001354:   Batch Loss = 0.403595, Accuracy = 0.94140625
PERFORMANCE ON TEST SET:             Batch Loss = 0.4281255304813385, Accuracy = 0.9252303838729858
Iter #3289088:  Learning rate = 0.001354:   Batch Loss = 0.378601, Accuracy = 0.943359375
PERFORMANCE ON TEST SET:             Batch Loss = 0.47383034229278564, Accuracy = 0.910971999168396
Iter #3293184:  Learning rate = 0.001354:   Batch Loss = 0.389703, Accuracy = 0.935546875
PERFORMANCE ON TEST SET:             Batch Loss = 0.4473715126514435, Accuracy = 0.9160146117210388
Iter #3297280:  Learning rate = 0.001354:   Batch Loss = 0.378037, Accuracy = 0.935546875
PERFORMANCE ON TEST SET:             Batch Loss = 0.4362640380859375, Accuracy = 0.9245348572731018
Iter #3301376:  Learning rate = 0.001300:   Batch Loss = 0.370173, Accuracy = 0.94921875
PERFORMANCE ON TEST SET:             Batch Loss = 0.4248030185699463, Accuracy = 0.925056517124176
Iter #3305472:  Learning rate = 0.001300:   Batch Loss = 0.381352, Accuracy = 0.953125
PERFORMANCE ON TEST SET:             Batch Loss = 0.4356188178062439, Accuracy = 0.9240131974220276
Iter #3309568:  Learning rate = 0.001300:   Batch Loss = 0.374632, Accuracy = 0.9453125
PERFORMANCE ON TEST SET:             Batch Loss = 0.42811673879623413, Accuracy = 0.9273169636726379
Iter #3313664:  Learning rate = 0.001300:   Batch Loss = 0.404150, Accuracy = 0.9453125
PERFORMANCE ON TEST SET:             Batch Loss = 0.43786630034446716, Accuracy = 0.9212310910224915
Iter #3317760:  Learning rate = 0.001300:   Batch Loss = 0.383423, Accuracy = 0.94140625
PERFORMANCE ON TEST SET:             Batch Loss = 0.44493138790130615, Accuracy = 0.9205355644226074
Iter #3321856:  Learning rate = 0.001300:   Batch Loss = 0.408662, Accuracy = 0.9296875
PERFORMANCE ON TEST SET:             Batch Loss = 0.44115710258483887, Accuracy = 0.9219266176223755
Iter #3325952:  Learning rate = 0.001300:   Batch Loss = 0.387206, Accuracy = 0.94921875
PERFORMANCE ON TEST SET:             Batch Loss = 0.43227481842041016, Accuracy = 0.9215788841247559
Iter #3330048:  Learning rate = 0.001300:   Batch Loss = 0.351492, Accuracy = 0.953125
PERFORMANCE ON TEST SET:             Batch Loss = 0.42434439063072205, Accuracy = 0.9269692301750183
Iter #3334144:  Learning rate = 0.001300:   Batch Loss = 0.408028, Accuracy = 0.927734375
PERFORMANCE ON TEST SET:             Batch Loss = 0.42245399951934814, Accuracy = 0.9266214370727539
Iter #3338240:  Learning rate = 0.001300:   Batch Loss = 0.396964, Accuracy = 0.953125
PERFORMANCE ON TEST SET:             Batch Loss = 0.46448278427124023, Accuracy = 0.91166752576828
Iter #3342336:  Learning rate = 0.001300:   Batch Loss = 0.395289, Accuracy = 0.947265625
PERFORMANCE ON TEST SET:             Batch Loss = 0.437721312046051, Accuracy = 0.9217527508735657
Iter #3346432:  Learning rate = 0.001300:   Batch Loss = 0.365444, Accuracy = 0.95703125
PERFORMANCE ON TEST SET:             Batch Loss = 0.42367643117904663, Accuracy = 0.9297513365745544
Iter #3350528:  Learning rate = 0.001300:   Batch Loss = 0.364763, Accuracy = 0.9453125
PERFORMANCE ON TEST SET:             Batch Loss = 0.4247179925441742, Accuracy = 0.9287080764770508
Iter #3354624:  Learning rate = 0.001300:   Batch Loss = 0.356896, Accuracy = 0.951171875
PERFORMANCE ON TEST SET:             Batch Loss = 0.43866047263145447, Accuracy = 0.9255781769752502
Iter #3358720:  Learning rate = 0.001300:   Batch Loss = 0.352085, Accuracy = 0.955078125
PERFORMANCE ON TEST SET:             Batch Loss = 0.45529210567474365, Accuracy = 0.9135802388191223
Iter #3362816:  Learning rate = 0.001300:   Batch Loss = 0.360816, Accuracy = 0.955078125
PERFORMANCE ON TEST SET:             Batch Loss = 0.42955121397972107, Accuracy = 0.9276647567749023
Iter #3366912:  Learning rate = 0.001300:   Batch Loss = 0.369649, Accuracy = 0.939453125
PERFORMANCE ON TEST SET:             Batch Loss = 0.4345547556877136, Accuracy = 0.9269692301750183
Iter #3371008:  Learning rate = 0.001300:   Batch Loss = 0.346374, Accuracy = 0.9609375
PERFORMANCE ON TEST SET:             Batch Loss = 0.4511643648147583, Accuracy = 0.9175795316696167
Iter #3375104:  Learning rate = 0.001300:   Batch Loss = 0.399199, Accuracy = 0.9296875
PERFORMANCE ON TEST SET:             Batch Loss = 0.445001482963562, Accuracy = 0.9149712920188904
Iter #3379200:  Learning rate = 0.001300:   Batch Loss = 0.404535, Accuracy = 0.94140625
PERFORMANCE ON TEST SET:             Batch Loss = 0.4580409824848175, Accuracy = 0.9149712920188904
Iter #3383296:  Learning rate = 0.001300:   Batch Loss = 0.366985, Accuracy = 0.947265625
PERFORMANCE ON TEST SET:             Batch Loss = 0.42896056175231934, Accuracy = 0.9247087240219116
Iter #3387392:  Learning rate = 0.001300:   Batch Loss = 0.401462, Accuracy = 0.92578125
PERFORMANCE ON TEST SET:             Batch Loss = 0.45608311891555786, Accuracy = 0.9130585789680481
Iter #3391488:  Learning rate = 0.001300:   Batch Loss = 0.375113, Accuracy = 0.943359375
PERFORMANCE ON TEST SET:             Batch Loss = 0.44913560152053833, Accuracy = 0.9177534580230713
Iter #3395584:  Learning rate = 0.001300:   Batch Loss = 0.380621, Accuracy = 0.9375
PERFORMANCE ON TEST SET:             Batch Loss = 0.4491417407989502, Accuracy = 0.9189705848693848
Iter #3399680:  Learning rate = 0.001300:   Batch Loss = 0.376768, Accuracy = 0.9609375
PERFORMANCE ON TEST SET:             Batch Loss = 0.45699697732925415, Accuracy = 0.9160146117210388
Iter #3403776:  Learning rate = 0.001248:   Batch Loss = 0.405145, Accuracy = 0.92578125
PERFORMANCE ON TEST SET:             Batch Loss = 0.4330384135246277, Accuracy = 0.9241871237754822
Iter #3407872:  Learning rate = 0.001248:   Batch Loss = 0.411749, Accuracy = 0.9375
PERFORMANCE ON TEST SET:             Batch Loss = 0.43301481008529663, Accuracy = 0.9215788841247559
Iter #3411968:  Learning rate = 0.001248:   Batch Loss = 0.399002, Accuracy = 0.93359375
PERFORMANCE ON TEST SET:             Batch Loss = 0.4492741823196411, Accuracy = 0.9156668186187744
Iter #3416064:  Learning rate = 0.001248:   Batch Loss = 0.384374, Accuracy = 0.931640625
PERFORMANCE ON TEST SET:             Batch Loss = 0.42261868715286255, Accuracy = 0.9229699373245239
Iter #3420160:  Learning rate = 0.001248:   Batch Loss = 0.343697, Accuracy = 0.95703125
PERFORMANCE ON TEST SET:             Batch Loss = 0.4394972622394562, Accuracy = 0.9210572242736816
Iter #3424256:  Learning rate = 0.001248:   Batch Loss = 0.378181, Accuracy = 0.943359375
PERFORMANCE ON TEST SET:             Batch Loss = 0.4424056112766266, Accuracy = 0.9160146117210388
Iter #3428352:  Learning rate = 0.001248:   Batch Loss = 0.363112, Accuracy = 0.94921875
PERFORMANCE ON TEST SET:             Batch Loss = 0.43717291951179504, Accuracy = 0.9210572242736816
Iter #3432448:  Learning rate = 0.001248:   Batch Loss = 0.377834, Accuracy = 0.9453125
PERFORMANCE ON TEST SET:             Batch Loss = 0.43542155623435974, Accuracy = 0.9207094311714172
Iter #3436544:  Learning rate = 0.001248:   Batch Loss = 0.370613, Accuracy = 0.953125
PERFORMANCE ON TEST SET:             Batch Loss = 0.42616963386535645, Accuracy = 0.9229699373245239
Iter #3440640:  Learning rate = 0.001248:   Batch Loss = 0.384664, Accuracy = 0.94140625
PERFORMANCE ON TEST SET:             Batch Loss = 0.4346180856227875, Accuracy = 0.9240131974220276
Iter #3444736:  Learning rate = 0.001248:   Batch Loss = 0.395708, Accuracy = 0.935546875
PERFORMANCE ON TEST SET:             Batch Loss = 0.432814359664917, Accuracy = 0.9189705848693848
Iter #3448832:  Learning rate = 0.001248:   Batch Loss = 0.369196, Accuracy = 0.951171875
PERFORMANCE ON TEST SET:             Batch Loss = 0.41749826073646545, Accuracy = 0.9294036030769348
Iter #3452928:  Learning rate = 0.001248:   Batch Loss = 0.361731, Accuracy = 0.953125
PERFORMANCE ON TEST SET:             Batch Loss = 0.41862139105796814, Accuracy = 0.9260998368263245
Iter #3457024:  Learning rate = 0.001248:   Batch Loss = 0.350313, Accuracy = 0.9609375
PERFORMANCE ON TEST SET:             Batch Loss = 0.41076648235321045, Accuracy = 0.9344461560249329
Iter #3461120:  Learning rate = 0.001248:   Batch Loss = 0.371522, Accuracy = 0.947265625
PERFORMANCE ON TEST SET:             Batch Loss = 0.4100193381309509, Accuracy = 0.9306207895278931
Iter #3465216:  Learning rate = 0.001248:   Batch Loss = 0.329770, Accuracy = 0.96875
PERFORMANCE ON TEST SET:             Batch Loss = 0.41904541850090027, Accuracy = 0.9297513365745544
Iter #3469312:  Learning rate = 0.001248:   Batch Loss = 0.372818, Accuracy = 0.93359375
PERFORMANCE ON TEST SET:             Batch Loss = 0.4105082154273987, Accuracy = 0.934272289276123
Iter #3473408:  Learning rate = 0.001248:   Batch Loss = 0.358485, Accuracy = 0.94921875
PERFORMANCE ON TEST SET:             Batch Loss = 0.433932900428772, Accuracy = 0.9273169636726379
Iter #3477504:  Learning rate = 0.001248:   Batch Loss = 0.357603, Accuracy = 0.953125
PERFORMANCE ON TEST SET:             Batch Loss = 0.4046393632888794, Accuracy = 0.9374021887779236
Iter #3481600:  Learning rate = 0.001248:   Batch Loss = 0.394283, Accuracy = 0.935546875
PERFORMANCE ON TEST SET:             Batch Loss = 0.41389983892440796, Accuracy = 0.9351417422294617
Iter #3485696:  Learning rate = 0.001248:   Batch Loss = 0.353699, Accuracy = 0.958984375
PERFORMANCE ON TEST SET:             Batch Loss = 0.3988115191459656, Accuracy = 0.9448791742324829
Iter #3489792:  Learning rate = 0.001248:   Batch Loss = 0.327141, Accuracy = 0.970703125
PERFORMANCE ON TEST SET:             Batch Loss = 0.43014442920684814, Accuracy = 0.9332290291786194
Iter #3493888:  Learning rate = 0.001248:   Batch Loss = 0.381131, Accuracy = 0.953125
PERFORMANCE ON TEST SET:             Batch Loss = 0.4263598322868347, Accuracy = 0.9304468631744385
Iter #3497984:  Learning rate = 0.001248:   Batch Loss = 0.356198, Accuracy = 0.970703125
PERFORMANCE ON TEST SET:             Batch Loss = 0.4174450635910034, Accuracy = 0.9358372688293457
Iter #3502080:  Learning rate = 0.001198:   Batch Loss = 0.343494, Accuracy = 0.966796875
PERFORMANCE ON TEST SET:             Batch Loss = 0.42562800645828247, Accuracy = 0.9311423897743225
Iter #3506176:  Learning rate = 0.001198:   Batch Loss = 0.386131, Accuracy = 0.955078125
PERFORMANCE ON TEST SET:             Batch Loss = 0.46997103095054626, Accuracy = 0.9203616976737976
Iter #3510272:  Learning rate = 0.001198:   Batch Loss = 0.384841, Accuracy = 0.951171875
PERFORMANCE ON TEST SET:             Batch Loss = 0.43674027919769287, Accuracy = 0.9224482774734497
Iter #3514368:  Learning rate = 0.001198:   Batch Loss = 0.361757, Accuracy = 0.953125
PERFORMANCE ON TEST SET:             Batch Loss = 0.4166927933692932, Accuracy = 0.934272289276123
Iter #3518464:  Learning rate = 0.001198:   Batch Loss = 0.352371, Accuracy = 0.962890625
PERFORMANCE ON TEST SET:             Batch Loss = 0.433668851852417, Accuracy = 0.9325334429740906
Iter #3522560:  Learning rate = 0.001198:   Batch Loss = 0.360741, Accuracy = 0.95703125
PERFORMANCE ON TEST SET:             Batch Loss = 0.42553800344467163, Accuracy = 0.9358372688293457
Iter #3526656:  Learning rate = 0.001198:   Batch Loss = 0.389696, Accuracy = 0.9453125
PERFORMANCE ON TEST SET:             Batch Loss = 0.4185282588005066, Accuracy = 0.9368805289268494
Iter #3530752:  Learning rate = 0.001198:   Batch Loss = 0.363674, Accuracy = 0.95703125
PERFORMANCE ON TEST SET:             Batch Loss = 0.4234045743942261, Accuracy = 0.9354894757270813
Iter #3534848:  Learning rate = 0.001198:   Batch Loss = 0.358927, Accuracy = 0.9609375
PERFORMANCE ON TEST SET:             Batch Loss = 0.3969928026199341, Accuracy = 0.9459224343299866
Iter #3538944:  Learning rate = 0.001198:   Batch Loss = 0.309708, Accuracy = 0.982421875
PERFORMANCE ON TEST SET:             Batch Loss = 0.39135491847991943, Accuracy = 0.9504433870315552
Iter #3543040:  Learning rate = 0.001198:   Batch Loss = 0.352933, Accuracy = 0.966796875
PERFORMANCE ON TEST SET:             Batch Loss = 0.4014514684677124, Accuracy = 0.9436619877815247
Iter #3547136:  Learning rate = 0.001198:   Batch Loss = 0.349123, Accuracy = 0.966796875
PERFORMANCE ON TEST SET:             Batch Loss = 0.39507031440734863, Accuracy = 0.9419231414794922
Iter #3551232:  Learning rate = 0.001198:   Batch Loss = 0.341969, Accuracy = 0.98046875
PERFORMANCE ON TEST SET:             Batch Loss = 0.3987326920032501, Accuracy = 0.9480090141296387
Iter #3555328:  Learning rate = 0.001198:   Batch Loss = 0.362682, Accuracy = 0.95703125
PERFORMANCE ON TEST SET:             Batch Loss = 0.43612897396087646, Accuracy = 0.9344461560249329
Iter #3559424:  Learning rate = 0.001198:   Batch Loss = 0.354544, Accuracy = 0.953125
PERFORMANCE ON TEST SET:             Batch Loss = 0.40887558460235596, Accuracy = 0.9415754079818726
Iter #3563520:  Learning rate = 0.001198:   Batch Loss = 0.337694, Accuracy = 0.966796875
PERFORMANCE ON TEST SET:             Batch Loss = 0.4117683172225952, Accuracy = 0.9405320882797241
Iter #3567616:  Learning rate = 0.001198:   Batch Loss = 0.306473, Accuracy = 0.98046875
PERFORMANCE ON TEST SET:             Batch Loss = 0.4245152473449707, Accuracy = 0.9412276148796082
Iter #3571712:  Learning rate = 0.001198:   Batch Loss = 0.342742, Accuracy = 0.970703125
PERFORMANCE ON TEST SET:             Batch Loss = 0.4043383002281189, Accuracy = 0.9431403279304504
Iter #3575808:  Learning rate = 0.001198:   Batch Loss = 0.369161, Accuracy = 0.955078125
PERFORMANCE ON TEST SET:             Batch Loss = 0.3925633728504181, Accuracy = 0.9495739936828613
Iter #3579904:  Learning rate = 0.001198:   Batch Loss = 0.335358, Accuracy = 0.970703125
PERFORMANCE ON TEST SET:             Batch Loss = 0.4084024727344513, Accuracy = 0.9464440941810608
Iter #3584000:  Learning rate = 0.001198:   Batch Loss = 0.357115, Accuracy = 0.955078125
PERFORMANCE ON TEST SET:             Batch Loss = 0.3975540101528168, Accuracy = 0.9460963606834412
Iter #3588096:  Learning rate = 0.001198:   Batch Loss = 0.398605, Accuracy = 0.947265625
PERFORMANCE ON TEST SET:             Batch Loss = 0.4172835052013397, Accuracy = 0.9396626949310303
Iter #3592192:  Learning rate = 0.001198:   Batch Loss = 0.361304, Accuracy = 0.955078125
PERFORMANCE ON TEST SET:             Batch Loss = 0.407684326171875, Accuracy = 0.9396626949310303
Iter #3596288:  Learning rate = 0.001198:   Batch Loss = 0.345710, Accuracy = 0.95703125
PERFORMANCE ON TEST SET:             Batch Loss = 0.41446226835250854, Accuracy = 0.9370543956756592
Iter #3600384:  Learning rate = 0.001150:   Batch Loss = 0.329965, Accuracy = 0.9765625
PERFORMANCE ON TEST SET:             Batch Loss = 0.41370731592178345, Accuracy = 0.9361850023269653
Iter #3604480:  Learning rate = 0.001150:   Batch Loss = 0.345899, Accuracy = 0.970703125
PERFORMANCE ON TEST SET:             Batch Loss = 0.4154006242752075, Accuracy = 0.9405320882797241
Iter #3608576:  Learning rate = 0.001150:   Batch Loss = 0.334271, Accuracy = 0.9609375
PERFORMANCE ON TEST SET:             Batch Loss = 0.4427180886268616, Accuracy = 0.9318379163742065
Iter #3612672:  Learning rate = 0.001150:   Batch Loss = 0.344676, Accuracy = 0.96484375
PERFORMANCE ON TEST SET:             Batch Loss = 0.4037659764289856, Accuracy = 0.9459224343299866
Iter #3616768:  Learning rate = 0.001150:   Batch Loss = 0.370402, Accuracy = 0.951171875
PERFORMANCE ON TEST SET:             Batch Loss = 0.37505316734313965, Accuracy = 0.9551382660865784
Iter #3620864:  Learning rate = 0.001150:   Batch Loss = 0.348989, Accuracy = 0.9609375
PERFORMANCE ON TEST SET:             Batch Loss = 0.3871704936027527, Accuracy = 0.9497478604316711
Iter #3624960:  Learning rate = 0.001150:   Batch Loss = 0.327755, Accuracy = 0.970703125
PERFORMANCE ON TEST SET:             Batch Loss = 0.4045630693435669, Accuracy = 0.942792534828186
Iter #3629056:  Learning rate = 0.001150:   Batch Loss = 0.326773, Accuracy = 0.970703125
PERFORMANCE ON TEST SET:             Batch Loss = 0.39291250705718994, Accuracy = 0.9485306739807129
Iter #3633152:  Learning rate = 0.001150:   Batch Loss = 0.329890, Accuracy = 0.970703125
PERFORMANCE ON TEST SET:             Batch Loss = 0.43808260560035706, Accuracy = 0.938445508480072
Iter #3637248:  Learning rate = 0.001150:   Batch Loss = 0.374868, Accuracy = 0.951171875
PERFORMANCE ON TEST SET:             Batch Loss = 0.4799029231071472, Accuracy = 0.920883297920227
Iter #3641344:  Learning rate = 0.001150:   Batch Loss = 0.350139, Accuracy = 0.97265625
PERFORMANCE ON TEST SET:             Batch Loss = 0.40079566836357117, Accuracy = 0.9466179609298706
Iter #3645440:  Learning rate = 0.001150:   Batch Loss = 0.378664, Accuracy = 0.951171875
PERFORMANCE ON TEST SET:             Batch Loss = 0.4014813303947449, Accuracy = 0.9500956535339355
Iter #3649536:  Learning rate = 0.001150:   Batch Loss = 0.325070, Accuracy = 0.974609375
PERFORMANCE ON TEST SET:             Batch Loss = 0.37839794158935547, Accuracy = 0.9527038931846619
Iter #3653632:  Learning rate = 0.001150:   Batch Loss = 0.356650, Accuracy = 0.95703125
PERFORMANCE ON TEST SET:             Batch Loss = 0.3736177384853363, Accuracy = 0.9567031860351562
Iter #3657728:  Learning rate = 0.001150:   Batch Loss = 0.345702, Accuracy = 0.958984375
PERFORMANCE ON TEST SET:             Batch Loss = 0.3842408359050751, Accuracy = 0.954790472984314
Iter #3661824:  Learning rate = 0.001150:   Batch Loss = 0.354056, Accuracy = 0.966796875
PERFORMANCE ON TEST SET:             Batch Loss = 0.37984946370124817, Accuracy = 0.9530516266822815
Iter #3665920:  Learning rate = 0.001150:   Batch Loss = 0.330683, Accuracy = 0.966796875
PERFORMANCE ON TEST SET:             Batch Loss = 0.3813853859901428, Accuracy = 0.9546166062355042
Iter #3670016:  Learning rate = 0.001150:   Batch Loss = 0.352601, Accuracy = 0.958984375
PERFORMANCE ON TEST SET:             Batch Loss = 0.3891502022743225, Accuracy = 0.9497478604316711
Iter #3674112:  Learning rate = 0.001150:   Batch Loss = 0.305311, Accuracy = 0.9765625
PERFORMANCE ON TEST SET:             Batch Loss = 0.39405637979507446, Accuracy = 0.942097008228302
Iter #3678208:  Learning rate = 0.001150:   Batch Loss = 0.328009, Accuracy = 0.974609375
PERFORMANCE ON TEST SET:             Batch Loss = 0.39794808626174927, Accuracy = 0.9474874138832092
Iter #3682304:  Learning rate = 0.001150:   Batch Loss = 0.309941, Accuracy = 0.97265625
PERFORMANCE ON TEST SET:             Batch Loss = 0.3837549090385437, Accuracy = 0.9464440941810608
Iter #3686400:  Learning rate = 0.001150:   Batch Loss = 0.405937, Accuracy = 0.951171875
PERFORMANCE ON TEST SET:             Batch Loss = 0.40136080980300903, Accuracy = 0.9473134875297546
Iter #3690496:  Learning rate = 0.001150:   Batch Loss = 0.312858, Accuracy = 0.974609375
PERFORMANCE ON TEST SET:             Batch Loss = 0.3869572877883911, Accuracy = 0.949921727180481
Iter #3694592:  Learning rate = 0.001150:   Batch Loss = 0.309723, Accuracy = 0.978515625
PERFORMANCE ON TEST SET:             Batch Loss = 0.3960880637168884, Accuracy = 0.9490523338317871
Iter #3698688:  Learning rate = 0.001150:   Batch Loss = 0.328123, Accuracy = 0.97265625
PERFORMANCE ON TEST SET:             Batch Loss = 0.3969395160675049, Accuracy = 0.9467918872833252
Iter #3702784:  Learning rate = 0.001104:   Batch Loss = 0.344088, Accuracy = 0.962890625
PERFORMANCE ON TEST SET:             Batch Loss = 0.3900727331638336, Accuracy = 0.9502695202827454
Iter #3706880:  Learning rate = 0.001104:   Batch Loss = 0.331275, Accuracy = 0.97265625
PERFORMANCE ON TEST SET:             Batch Loss = 0.3849446773529053, Accuracy = 0.9525299668312073
Iter #3710976:  Learning rate = 0.001104:   Batch Loss = 0.340774, Accuracy = 0.970703125
PERFORMANCE ON TEST SET:             Batch Loss = 0.3762355446815491, Accuracy = 0.9518344402313232
Iter #3715072:  Learning rate = 0.001104:   Batch Loss = 0.368157, Accuracy = 0.955078125
PERFORMANCE ON TEST SET:             Batch Loss = 0.3770640790462494, Accuracy = 0.9540949463844299
Iter #3719168:  Learning rate = 0.001104:   Batch Loss = 0.350108, Accuracy = 0.966796875
PERFORMANCE ON TEST SET:             Batch Loss = 0.38478589057922363, Accuracy = 0.9528777599334717
Iter #3723264:  Learning rate = 0.001104:   Batch Loss = 0.345653, Accuracy = 0.96875
PERFORMANCE ON TEST SET:             Batch Loss = 0.37304142117500305, Accuracy = 0.954790472984314
Iter #3727360:  Learning rate = 0.001104:   Batch Loss = 0.340398, Accuracy = 0.96484375
PERFORMANCE ON TEST SET:             Batch Loss = 0.386265367269516, Accuracy = 0.9511389136314392
Iter #3731456:  Learning rate = 0.001104:   Batch Loss = 0.346216, Accuracy = 0.955078125
PERFORMANCE ON TEST SET:             Batch Loss = 0.37849754095077515, Accuracy = 0.9506173133850098
Iter #3735552:  Learning rate = 0.001104:   Batch Loss = 0.342641, Accuracy = 0.951171875
PERFORMANCE ON TEST SET:             Batch Loss = 0.3811086416244507, Accuracy = 0.9535732865333557
Iter #3739648:  Learning rate = 0.001104:   Batch Loss = 0.322192, Accuracy = 0.9765625
PERFORMANCE ON TEST SET:             Batch Loss = 0.4070417284965515, Accuracy = 0.9365327954292297
Iter #3743744:  Learning rate = 0.001104:   Batch Loss = 0.358902, Accuracy = 0.962890625
PERFORMANCE ON TEST SET:             Batch Loss = 0.4180424213409424, Accuracy = 0.939141035079956
Iter #3747840:  Learning rate = 0.001104:   Batch Loss = 0.343639, Accuracy = 0.953125
PERFORMANCE ON TEST SET:             Batch Loss = 0.40111231803894043, Accuracy = 0.942792534828186
Iter #3751936:  Learning rate = 0.001104:   Batch Loss = 0.343320, Accuracy = 0.958984375
PERFORMANCE ON TEST SET:             Batch Loss = 0.4002915024757385, Accuracy = 0.9487046003341675
Iter #3756032:  Learning rate = 0.001104:   Batch Loss = 0.306746, Accuracy = 0.974609375
PERFORMANCE ON TEST SET:             Batch Loss = 0.3953549265861511, Accuracy = 0.9455747008323669
Iter #3760128:  Learning rate = 0.001104:   Batch Loss = 0.326685, Accuracy = 0.970703125
PERFORMANCE ON TEST SET:             Batch Loss = 0.39510267972946167, Accuracy = 0.9434880614280701
Iter #3764224:  Learning rate = 0.001104:   Batch Loss = 0.319636, Accuracy = 0.9765625
PERFORMANCE ON TEST SET:             Batch Loss = 0.40360796451568604, Accuracy = 0.9438358545303345
Iter #3768320:  Learning rate = 0.001104:   Batch Loss = 0.334738, Accuracy = 0.970703125
PERFORMANCE ON TEST SET:             Batch Loss = 0.38618743419647217, Accuracy = 0.9537471532821655
Iter #3772416:  Learning rate = 0.001104:   Batch Loss = 0.349836, Accuracy = 0.9609375
PERFORMANCE ON TEST SET:             Batch Loss = 0.38378259539604187, Accuracy = 0.9551382660865784
Iter #3776512:  Learning rate = 0.001104:   Batch Loss = 0.308220, Accuracy = 0.970703125
PERFORMANCE ON TEST SET:             Batch Loss = 0.3870895504951477, Accuracy = 0.9544426798820496
Iter #3780608:  Learning rate = 0.001104:   Batch Loss = 0.321788, Accuracy = 0.9765625
PERFORMANCE ON TEST SET:             Batch Loss = 0.3740021288394928, Accuracy = 0.9544426798820496
Iter #3784704:  Learning rate = 0.001104:   Batch Loss = 0.320880, Accuracy = 0.97265625
PERFORMANCE ON TEST SET:             Batch Loss = 0.37531235814094543, Accuracy = 0.956181526184082
Iter #3788800:  Learning rate = 0.001104:   Batch Loss = 0.342342, Accuracy = 0.96875
PERFORMANCE ON TEST SET:             Batch Loss = 0.3669927418231964, Accuracy = 0.9570509195327759
Iter #3792896:  Learning rate = 0.001104:   Batch Loss = 0.354665, Accuracy = 0.955078125
PERFORMANCE ON TEST SET:             Batch Loss = 0.363728404045105, Accuracy = 0.9605286121368408
Iter #3796992:  Learning rate = 0.001104:   Batch Loss = 0.320115, Accuracy = 0.97265625
PERFORMANCE ON TEST SET:             Batch Loss = 0.38020914793014526, Accuracy = 0.9504433870315552
Iter #3801088:  Learning rate = 0.001060:   Batch Loss = 0.333790, Accuracy = 0.96484375
PERFORMANCE ON TEST SET:             Batch Loss = 0.36711585521698, Accuracy = 0.9525299668312073
Iter #3805184:  Learning rate = 0.001060:   Batch Loss = 0.326244, Accuracy = 0.974609375
PERFORMANCE ON TEST SET:             Batch Loss = 0.39387279748916626, Accuracy = 0.946270227432251
Iter #3809280:  Learning rate = 0.001060:   Batch Loss = 0.335445, Accuracy = 0.970703125
PERFORMANCE ON TEST SET:             Batch Loss = 0.3726210594177246, Accuracy = 0.9567031860351562
Iter #3813376:  Learning rate = 0.001060:   Batch Loss = 0.315873, Accuracy = 0.974609375
PERFORMANCE ON TEST SET:             Batch Loss = 0.38170039653778076, Accuracy = 0.9492262005805969
Iter #3817472:  Learning rate = 0.001060:   Batch Loss = 0.316149, Accuracy = 0.96875
PERFORMANCE ON TEST SET:             Batch Loss = 0.37056785821914673, Accuracy = 0.9533994197845459
Iter #3821568:  Learning rate = 0.001060:   Batch Loss = 0.336232, Accuracy = 0.966796875
PERFORMANCE ON TEST SET:             Batch Loss = 0.3864184617996216, Accuracy = 0.9516605734825134
Iter #3825664:  Learning rate = 0.001060:   Batch Loss = 0.313039, Accuracy = 0.97265625
PERFORMANCE ON TEST SET:             Batch Loss = 0.3823933005332947, Accuracy = 0.9523561000823975
Iter #3829760:  Learning rate = 0.001060:   Batch Loss = 0.314974, Accuracy = 0.978515625
PERFORMANCE ON TEST SET:             Batch Loss = 0.3832770586013794, Accuracy = 0.9516605734825134
Iter #3833856:  Learning rate = 0.001060:   Batch Loss = 0.329036, Accuracy = 0.96875
PERFORMANCE ON TEST SET:             Batch Loss = 0.361187219619751, Accuracy = 0.9591375589370728
Iter #3837952:  Learning rate = 0.001060:   Batch Loss = 0.310127, Accuracy = 0.97265625
PERFORMANCE ON TEST SET:             Batch Loss = 0.39682355523109436, Accuracy = 0.9464440941810608
Iter #3842048:  Learning rate = 0.001060:   Batch Loss = 0.313633, Accuracy = 0.970703125
PERFORMANCE ON TEST SET:             Batch Loss = 0.36257413029670715, Accuracy = 0.9579203724861145
Iter #3846144:  Learning rate = 0.001060:   Batch Loss = 0.324587, Accuracy = 0.96875
PERFORMANCE ON TEST SET:             Batch Loss = 0.37605392932891846, Accuracy = 0.9528777599334717
Iter #3850240:  Learning rate = 0.001060:   Batch Loss = 0.309630, Accuracy = 0.970703125
PERFORMANCE ON TEST SET:             Batch Loss = 0.37696927785873413, Accuracy = 0.946965754032135
Iter #3854336:  Learning rate = 0.001060:   Batch Loss = 0.334555, Accuracy = 0.96484375
PERFORMANCE ON TEST SET:             Batch Loss = 0.37946683168411255, Accuracy = 0.9509650468826294
Iter #3858432:  Learning rate = 0.001060:   Batch Loss = 0.331257, Accuracy = 0.962890625
PERFORMANCE ON TEST SET:             Batch Loss = 0.36424919962882996, Accuracy = 0.9570509195327759
Iter #3862528:  Learning rate = 0.001060:   Batch Loss = 0.309664, Accuracy = 0.96875
PERFORMANCE ON TEST SET:             Batch Loss = 0.373138964176178, Accuracy = 0.9520083665847778
Iter #3866624:  Learning rate = 0.001060:   Batch Loss = 0.325185, Accuracy = 0.974609375
PERFORMANCE ON TEST SET:             Batch Loss = 0.399534672498703, Accuracy = 0.9426186680793762
Iter #3870720:  Learning rate = 0.001060:   Batch Loss = 0.347902, Accuracy = 0.9609375
PERFORMANCE ON TEST SET:             Batch Loss = 0.3881985545158386, Accuracy = 0.9412276148796082
Iter #3874816:  Learning rate = 0.001060:   Batch Loss = 0.303820, Accuracy = 0.974609375
PERFORMANCE ON TEST SET:             Batch Loss = 0.3978238105773926, Accuracy = 0.9422709345817566
Iter #3878912:  Learning rate = 0.001060:   Batch Loss = 0.311346, Accuracy = 0.974609375
PERFORMANCE ON TEST SET:             Batch Loss = 0.35760247707366943, Accuracy = 0.9579203724861145
Iter #3883008:  Learning rate = 0.001060:   Batch Loss = 0.312319, Accuracy = 0.97265625
PERFORMANCE ON TEST SET:             Batch Loss = 0.37396806478500366, Accuracy = 0.9481829404830933
Iter #3887104:  Learning rate = 0.001060:   Batch Loss = 0.304602, Accuracy = 0.98046875
PERFORMANCE ON TEST SET:             Batch Loss = 0.3785076141357422, Accuracy = 0.9523561000823975
Iter #3891200:  Learning rate = 0.001060:   Batch Loss = 0.321121, Accuracy = 0.978515625
PERFORMANCE ON TEST SET:             Batch Loss = 0.35977572202682495, Accuracy = 0.9598330855369568
Iter #3895296:  Learning rate = 0.001060:   Batch Loss = 0.401451, Accuracy = 0.9375
PERFORMANCE ON TEST SET:             Batch Loss = 0.40690290927886963, Accuracy = 0.9419231414794922
Iter #3899392:  Learning rate = 0.001060:   Batch Loss = 0.321876, Accuracy = 0.9765625
PERFORMANCE ON TEST SET:             Batch Loss = 0.40929514169692993, Accuracy = 0.9379238486289978
Iter #3903488:  Learning rate = 0.001018:   Batch Loss = 0.341222, Accuracy = 0.958984375
PERFORMANCE ON TEST SET:             Batch Loss = 0.3969586491584778, Accuracy = 0.941401481628418
Iter #3907584:  Learning rate = 0.001018:   Batch Loss = 0.506914, Accuracy = 0.890625
PERFORMANCE ON TEST SET:             Batch Loss = 0.6188125610351562, Accuracy = 0.8711528182029724
Iter #3911680:  Learning rate = 0.001018:   Batch Loss = 0.423182, Accuracy = 0.943359375
PERFORMANCE ON TEST SET:             Batch Loss = 0.4604635238647461, Accuracy = 0.9340984225273132
Iter #3915776:  Learning rate = 0.001018:   Batch Loss = 0.387702, Accuracy = 0.9453125
PERFORMANCE ON TEST SET:             Batch Loss = 0.44047126173973083, Accuracy = 0.9294036030769348
Iter #3919872:  Learning rate = 0.001018:   Batch Loss = 0.348225, Accuracy = 0.962890625
PERFORMANCE ON TEST SET:             Batch Loss = 0.3813493251800537, Accuracy = 0.9560076594352722
Iter #3923968:  Learning rate = 0.001018:   Batch Loss = 0.358488, Accuracy = 0.966796875
PERFORMANCE ON TEST SET:             Batch Loss = 0.4009236693382263, Accuracy = 0.9471396207809448
Iter #3928064:  Learning rate = 0.001018:   Batch Loss = 0.342630, Accuracy = 0.955078125
PERFORMANCE ON TEST SET:             Batch Loss = 0.4011174440383911, Accuracy = 0.9422709345817566
Iter #3932160:  Learning rate = 0.001018:   Batch Loss = 0.344256, Accuracy = 0.962890625
PERFORMANCE ON TEST SET:             Batch Loss = 0.39901018142700195, Accuracy = 0.9422709345817566
Iter #3936256:  Learning rate = 0.001018:   Batch Loss = 0.389654, Accuracy = 0.9453125
PERFORMANCE ON TEST SET:             Batch Loss = 0.436505526304245, Accuracy = 0.933576762676239
Iter #3940352:  Learning rate = 0.001018:   Batch Loss = 0.353860, Accuracy = 0.962890625
PERFORMANCE ON TEST SET:             Batch Loss = 0.37585365772247314, Accuracy = 0.9546166062355042
Iter #3944448:  Learning rate = 0.001018:   Batch Loss = 0.332313, Accuracy = 0.97265625
PERFORMANCE ON TEST SET:             Batch Loss = 0.38253486156463623, Accuracy = 0.9532255530357361
Iter #3948544:  Learning rate = 0.001018:   Batch Loss = 0.314018, Accuracy = 0.9765625
PERFORMANCE ON TEST SET:             Batch Loss = 0.3694538176059723, Accuracy = 0.9539210796356201
Iter #3952640:  Learning rate = 0.001018:   Batch Loss = 0.313583, Accuracy = 0.978515625
PERFORMANCE ON TEST SET:             Batch Loss = 0.36190634965896606, Accuracy = 0.9587897658348083
Iter #3956736:  Learning rate = 0.001018:   Batch Loss = 0.344836, Accuracy = 0.95703125
PERFORMANCE ON TEST SET:             Batch Loss = 0.3673798441886902, Accuracy = 0.9533994197845459
Iter #3960832:  Learning rate = 0.001018:   Batch Loss = 0.298102, Accuracy = 0.9765625
PERFORMANCE ON TEST SET:             Batch Loss = 0.35516366362571716, Accuracy = 0.9608763456344604
Iter #3964928:  Learning rate = 0.001018:   Batch Loss = 0.328462, Accuracy = 0.96484375
PERFORMANCE ON TEST SET:             Batch Loss = 0.3810410797595978, Accuracy = 0.9509650468826294
Iter #3969024:  Learning rate = 0.001018:   Batch Loss = 0.296315, Accuracy = 0.982421875
PERFORMANCE ON TEST SET:             Batch Loss = 0.3622104823589325, Accuracy = 0.9601808190345764
Iter #3973120:  Learning rate = 0.001018:   Batch Loss = 0.339145, Accuracy = 0.962890625
PERFORMANCE ON TEST SET:             Batch Loss = 0.36109229922294617, Accuracy = 0.956181526184082
Iter #3977216:  Learning rate = 0.001018:   Batch Loss = 0.291280, Accuracy = 0.982421875
PERFORMANCE ON TEST SET:             Batch Loss = 0.3572966456413269, Accuracy = 0.9591375589370728
Iter #3981312:  Learning rate = 0.001018:   Batch Loss = 0.318991, Accuracy = 0.970703125
PERFORMANCE ON TEST SET:             Batch Loss = 0.3642508387565613, Accuracy = 0.9530516266822815
Iter #3985408:  Learning rate = 0.001018:   Batch Loss = 0.315153, Accuracy = 0.98046875
PERFORMANCE ON TEST SET:             Batch Loss = 0.35291600227355957, Accuracy = 0.9594852924346924
Iter #3989504:  Learning rate = 0.001018:   Batch Loss = 0.309702, Accuracy = 0.9765625
PERFORMANCE ON TEST SET:             Batch Loss = 0.3773484528064728, Accuracy = 0.9525299668312073
Iter #3993600:  Learning rate = 0.001018:   Batch Loss = 0.303367, Accuracy = 0.9765625
PERFORMANCE ON TEST SET:             Batch Loss = 0.3648861050605774, Accuracy = 0.9514867067337036
Iter #3997696:  Learning rate = 0.001018:   Batch Loss = 0.305680, Accuracy = 0.97265625
PERFORMANCE ON TEST SET:             Batch Loss = 0.3730655908584595, Accuracy = 0.9556598663330078
Iter #4001792:  Learning rate = 0.000977:   Batch Loss = 0.304075, Accuracy = 0.974609375
PERFORMANCE ON TEST SET:             Batch Loss = 0.36521613597869873, Accuracy = 0.9523561000823975
Iter #4005888:  Learning rate = 0.000977:   Batch Loss = 0.297917, Accuracy = 0.974609375
PERFORMANCE ON TEST SET:             Batch Loss = 0.3714495897293091, Accuracy = 0.9528777599334717
Iter #4009984:  Learning rate = 0.000977:   Batch Loss = 0.313399, Accuracy = 0.97265625
PERFORMANCE ON TEST SET:             Batch Loss = 0.3756953477859497, Accuracy = 0.9490523338317871
Iter #4014080:  Learning rate = 0.000977:   Batch Loss = 0.328742, Accuracy = 0.966796875
PERFORMANCE ON TEST SET:             Batch Loss = 0.36861103773117065, Accuracy = 0.9568770527839661
Iter #4018176:  Learning rate = 0.000977:   Batch Loss = 0.323396, Accuracy = 0.96875
PERFORMANCE ON TEST SET:             Batch Loss = 0.365686297416687, Accuracy = 0.9540949463844299
Iter #4022272:  Learning rate = 0.000977:   Batch Loss = 0.335794, Accuracy = 0.974609375
PERFORMANCE ON TEST SET:             Batch Loss = 0.35358718037605286, Accuracy = 0.9608763456344604
Iter #4026368:  Learning rate = 0.000977:   Batch Loss = 0.324403, Accuracy = 0.97265625
PERFORMANCE ON TEST SET:             Batch Loss = 0.36909720301628113, Accuracy = 0.9530516266822815
Iter #4030464:  Learning rate = 0.000977:   Batch Loss = 0.338416, Accuracy = 0.96484375
PERFORMANCE ON TEST SET:             Batch Loss = 0.3847883641719818, Accuracy = 0.9509650468826294
Iter #4034560:  Learning rate = 0.000977:   Batch Loss = 0.295324, Accuracy = 0.982421875
PERFORMANCE ON TEST SET:             Batch Loss = 0.43432748317718506, Accuracy = 0.9353156089782715
Iter #4038656:  Learning rate = 0.000977:   Batch Loss = 0.299430, Accuracy = 0.978515625
PERFORMANCE ON TEST SET:             Batch Loss = 0.39511293172836304, Accuracy = 0.9447052478790283
Iter #4042752:  Learning rate = 0.000977:   Batch Loss = 0.335208, Accuracy = 0.9609375
PERFORMANCE ON TEST SET:             Batch Loss = 0.3904271125793457, Accuracy = 0.9504433870315552
Iter #4046848:  Learning rate = 0.000977:   Batch Loss = 0.287783, Accuracy = 0.98828125
PERFORMANCE ON TEST SET:             Batch Loss = 0.3603593409061432, Accuracy = 0.9567031860351562
Iter #4050944:  Learning rate = 0.000977:   Batch Loss = 0.319569, Accuracy = 0.974609375
PERFORMANCE ON TEST SET:             Batch Loss = 0.36820465326309204, Accuracy = 0.9582681059837341
Iter #4055040:  Learning rate = 0.000977:   Batch Loss = 0.307806, Accuracy = 0.97265625
PERFORMANCE ON TEST SET:             Batch Loss = 0.36588478088378906, Accuracy = 0.9532255530357361
Iter #4059136:  Learning rate = 0.000977:   Batch Loss = 0.305823, Accuracy = 0.9765625
PERFORMANCE ON TEST SET:             Batch Loss = 0.3745315670967102, Accuracy = 0.9523561000823975
Iter #4063232:  Learning rate = 0.000977:   Batch Loss = 0.324180, Accuracy = 0.97265625
PERFORMANCE ON TEST SET:             Batch Loss = 0.35721027851104736, Accuracy = 0.9615718722343445
Iter #4067328:  Learning rate = 0.000977:   Batch Loss = 0.306653, Accuracy = 0.98046875
PERFORMANCE ON TEST SET:             Batch Loss = 0.3658819794654846, Accuracy = 0.9507911801338196
Iter #4071424:  Learning rate = 0.000977:   Batch Loss = 0.294817, Accuracy = 0.984375
PERFORMANCE ON TEST SET:             Batch Loss = 0.3568064570426941, Accuracy = 0.9567031860351562
Iter #4075520:  Learning rate = 0.000977:   Batch Loss = 0.312320, Accuracy = 0.97265625
PERFORMANCE ON TEST SET:             Batch Loss = 0.3708527684211731, Accuracy = 0.9502695202827454
Iter #4079616:  Learning rate = 0.000977:   Batch Loss = 0.307211, Accuracy = 0.96875
PERFORMANCE ON TEST SET:             Batch Loss = 0.35846608877182007, Accuracy = 0.9575725793838501
Iter #4083712:  Learning rate = 0.000977:   Batch Loss = 0.348224, Accuracy = 0.96484375
PERFORMANCE ON TEST SET:             Batch Loss = 0.3902583122253418, Accuracy = 0.9471396207809448
Iter #4087808:  Learning rate = 0.000977:   Batch Loss = 0.359992, Accuracy = 0.96484375
PERFORMANCE ON TEST SET:             Batch Loss = 0.3840793967247009, Accuracy = 0.9481829404830933
Iter #4091904:  Learning rate = 0.000977:   Batch Loss = 0.301861, Accuracy = 0.97265625
PERFORMANCE ON TEST SET:             Batch Loss = 0.3646954298019409, Accuracy = 0.9570509195327759
Iter #4096000:  Learning rate = 0.000977:   Batch Loss = 0.327374, Accuracy = 0.97265625
PERFORMANCE ON TEST SET:             Batch Loss = 0.395694375038147, Accuracy = 0.9454007744789124
Iter #4100096:  Learning rate = 0.000938:   Batch Loss = 0.305120, Accuracy = 0.970703125
PERFORMANCE ON TEST SET:             Batch Loss = 0.3859561085700989, Accuracy = 0.9487046003341675
Iter #4104192:  Learning rate = 0.000938:   Batch Loss = 0.319933, Accuracy = 0.96875
PERFORMANCE ON TEST SET:             Batch Loss = 0.38225293159484863, Accuracy = 0.9487046003341675
Iter #4108288:  Learning rate = 0.000938:   Batch Loss = 0.336472, Accuracy = 0.966796875
PERFORMANCE ON TEST SET:             Batch Loss = 0.3740506172180176, Accuracy = 0.9551382660865784
Iter #4112384:  Learning rate = 0.000938:   Batch Loss = 0.301204, Accuracy = 0.970703125
PERFORMANCE ON TEST SET:             Batch Loss = 0.38565900921821594, Accuracy = 0.9483568072319031
Iter #4116480:  Learning rate = 0.000938:   Batch Loss = 0.308256, Accuracy = 0.974609375
PERFORMANCE ON TEST SET:             Batch Loss = 0.3655153810977936, Accuracy = 0.9575725793838501
Iter #4120576:  Learning rate = 0.000938:   Batch Loss = 0.328460, Accuracy = 0.9765625
PERFORMANCE ON TEST SET:             Batch Loss = 0.36128994822502136, Accuracy = 0.9542688131332397
Iter #4124672:  Learning rate = 0.000938:   Batch Loss = 0.324288, Accuracy = 0.966796875
PERFORMANCE ON TEST SET:             Batch Loss = 0.37144970893859863, Accuracy = 0.9523561000823975
Iter #4128768:  Learning rate = 0.000938:   Batch Loss = 0.306206, Accuracy = 0.982421875
PERFORMANCE ON TEST SET:             Batch Loss = 0.37184226512908936, Accuracy = 0.9539210796356201
Iter #4132864:  Learning rate = 0.000938:   Batch Loss = 0.317234, Accuracy = 0.96484375
PERFORMANCE ON TEST SET:             Batch Loss = 0.3764532506465912, Accuracy = 0.9556598663330078
Iter #4136960:  Learning rate = 0.000938:   Batch Loss = 0.301443, Accuracy = 0.9765625
PERFORMANCE ON TEST SET:             Batch Loss = 0.35765671730041504, Accuracy = 0.9591375589370728
Iter #4141056:  Learning rate = 0.000938:   Batch Loss = 0.305358, Accuracy = 0.974609375
PERFORMANCE ON TEST SET:             Batch Loss = 0.36151042580604553, Accuracy = 0.9553121328353882
Iter #4145152:  Learning rate = 0.000938:   Batch Loss = 0.305989, Accuracy = 0.982421875
PERFORMANCE ON TEST SET:             Batch Loss = 0.3503928482532501, Accuracy = 0.9582681059837341
Iter #4149248:  Learning rate = 0.000938:   Batch Loss = 0.291053, Accuracy = 0.974609375
PERFORMANCE ON TEST SET:             Batch Loss = 0.3601270318031311, Accuracy = 0.9556598663330078
Iter #4153344:  Learning rate = 0.000938:   Batch Loss = 0.297151, Accuracy = 0.9765625
PERFORMANCE ON TEST SET:             Batch Loss = 0.3481202721595764, Accuracy = 0.9598330855369568
Iter #4157440:  Learning rate = 0.000938:   Batch Loss = 1.297198, Accuracy = 0.72265625
PERFORMANCE ON TEST SET:             Batch Loss = 0.9359763860702515, Accuracy = 0.77742999792099
Iter #4161536:  Learning rate = 0.000938:   Batch Loss = 0.509700, Accuracy = 0.873046875
PERFORMANCE ON TEST SET:             Batch Loss = 0.5488497018814087, Accuracy = 0.8685445785522461
Iter #4165632:  Learning rate = 0.000938:   Batch Loss = 0.471379, Accuracy = 0.927734375
PERFORMANCE ON TEST SET:             Batch Loss = 0.5600566864013672, Accuracy = 0.889758288860321
Iter #4169728:  Learning rate = 0.000938:   Batch Loss = 0.461140, Accuracy = 0.927734375
PERFORMANCE ON TEST SET:             Batch Loss = 0.4701473116874695, Accuracy = 0.9203616976737976
Iter #4173824:  Learning rate = 0.000938:   Batch Loss = 0.435237, Accuracy = 0.93359375
PERFORMANCE ON TEST SET:             Batch Loss = 0.45876872539520264, Accuracy = 0.9287080764770508
Iter #4177920:  Learning rate = 0.000938:   Batch Loss = 0.401658, Accuracy = 0.939453125
PERFORMANCE ON TEST SET:             Batch Loss = 0.4264407753944397, Accuracy = 0.9339245557785034
Iter #4182016:  Learning rate = 0.000938:   Batch Loss = 0.347884, Accuracy = 0.9609375
PERFORMANCE ON TEST SET:             Batch Loss = 0.39338815212249756, Accuracy = 0.9466179609298706
Iter #4186112:  Learning rate = 0.000938:   Batch Loss = 0.334690, Accuracy = 0.97265625
PERFORMANCE ON TEST SET:             Batch Loss = 0.4164583086967468, Accuracy = 0.9454007744789124
Iter #4190208:  Learning rate = 0.000938:   Batch Loss = 0.367721, Accuracy = 0.953125
PERFORMANCE ON TEST SET:             Batch Loss = 0.3793175220489502, Accuracy = 0.9511389136314392
Iter #4194304:  Learning rate = 0.000938:   Batch Loss = 0.333261, Accuracy = 0.9609375
PERFORMANCE ON TEST SET:             Batch Loss = 0.3845800757408142, Accuracy = 0.947661280632019
Iter #4198400:  Learning rate = 0.000938:   Batch Loss = 0.345471, Accuracy = 0.9609375
PERFORMANCE ON TEST SET:             Batch Loss = 0.3742189109325409, Accuracy = 0.9504433870315552
Iter #4202496:  Learning rate = 0.000900:   Batch Loss = 0.343625, Accuracy = 0.9609375
PERFORMANCE ON TEST SET:             Batch Loss = 0.3687978982925415, Accuracy = 0.954790472984314
Iter #4206592:  Learning rate = 0.000900:   Batch Loss = 0.279824, Accuracy = 0.986328125
PERFORMANCE ON TEST SET:             Batch Loss = 0.3750520646572113, Accuracy = 0.9530516266822815
Iter #4210688:  Learning rate = 0.000900:   Batch Loss = 0.334831, Accuracy = 0.9609375
PERFORMANCE ON TEST SET:             Batch Loss = 0.360662579536438, Accuracy = 0.9533994197845459
Iter #4214784:  Learning rate = 0.000900:   Batch Loss = 0.303750, Accuracy = 0.98046875
PERFORMANCE ON TEST SET:             Batch Loss = 0.3820146918296814, Accuracy = 0.9509650468826294
Iter #4218880:  Learning rate = 0.000900:   Batch Loss = 0.352711, Accuracy = 0.958984375
PERFORMANCE ON TEST SET:             Batch Loss = 0.3668592572212219, Accuracy = 0.9518344402313232
Iter #4222976:  Learning rate = 0.000900:   Batch Loss = 0.348340, Accuracy = 0.95703125
PERFORMANCE ON TEST SET:             Batch Loss = 0.38135114312171936, Accuracy = 0.9464440941810608
Iter #4227072:  Learning rate = 0.000900:   Batch Loss = 0.298325, Accuracy = 0.978515625
PERFORMANCE ON TEST SET:             Batch Loss = 0.37178048491477966, Accuracy = 0.9537471532821655
Iter #4231168:  Learning rate = 0.000900:   Batch Loss = 0.340534, Accuracy = 0.958984375
PERFORMANCE ON TEST SET:             Batch Loss = 0.361461877822876, Accuracy = 0.9563553929328918
Iter #4235264:  Learning rate = 0.000900:   Batch Loss = 0.297604, Accuracy = 0.97265625
PERFORMANCE ON TEST SET:             Batch Loss = 0.3464195132255554, Accuracy = 0.960354745388031
Iter #4239360:  Learning rate = 0.000900:   Batch Loss = 0.328241, Accuracy = 0.966796875
PERFORMANCE ON TEST SET:             Batch Loss = 0.36693817377090454, Accuracy = 0.954790472984314
Iter #4243456:  Learning rate = 0.000900:   Batch Loss = 0.328895, Accuracy = 0.962890625
PERFORMANCE ON TEST SET:             Batch Loss = 0.3608238101005554, Accuracy = 0.9511389136314392
Iter #4247552:  Learning rate = 0.000900:   Batch Loss = 0.336252, Accuracy = 0.955078125
PERFORMANCE ON TEST SET:             Batch Loss = 0.35838618874549866, Accuracy = 0.9540949463844299
Iter #4251648:  Learning rate = 0.000900:   Batch Loss = 0.311517, Accuracy = 0.970703125
PERFORMANCE ON TEST SET:             Batch Loss = 0.3627226948738098, Accuracy = 0.9598330855369568
Iter #4255744:  Learning rate = 0.000900:   Batch Loss = 0.323927, Accuracy = 0.9765625
PERFORMANCE ON TEST SET:             Batch Loss = 0.3650360107421875, Accuracy = 0.9542688131332397
Iter #4259840:  Learning rate = 0.000900:   Batch Loss = 0.303258, Accuracy = 0.970703125
PERFORMANCE ON TEST SET:             Batch Loss = 0.36121028661727905, Accuracy = 0.955485999584198
Iter #4263936:  Learning rate = 0.000900:   Batch Loss = 0.292100, Accuracy = 0.98046875
PERFORMANCE ON TEST SET:             Batch Loss = 0.35844454169273376, Accuracy = 0.9580942392349243
Iter #4268032:  Learning rate = 0.000900:   Batch Loss = 0.307674, Accuracy = 0.982421875
PERFORMANCE ON TEST SET:             Batch Loss = 0.3387642800807953, Accuracy = 0.9662667512893677
Iter #4272128:  Learning rate = 0.000900:   Batch Loss = 0.300571, Accuracy = 0.974609375
PERFORMANCE ON TEST SET:             Batch Loss = 0.34619075059890747, Accuracy = 0.963310718536377
Iter #4276224:  Learning rate = 0.000900:   Batch Loss = 0.324236, Accuracy = 0.974609375
PERFORMANCE ON TEST SET:             Batch Loss = 0.3610532283782959, Accuracy = 0.9549643397331238
Iter #4280320:  Learning rate = 0.000900:   Batch Loss = 0.298294, Accuracy = 0.982421875
PERFORMANCE ON TEST SET:             Batch Loss = 0.35991784930229187, Accuracy = 0.9563553929328918
Iter #4284416:  Learning rate = 0.000900:   Batch Loss = 0.298266, Accuracy = 0.9765625
PERFORMANCE ON TEST SET:             Batch Loss = 0.35848015546798706, Accuracy = 0.9586158990859985
Iter #4288512:  Learning rate = 0.000900:   Batch Loss = 0.317420, Accuracy = 0.962890625
PERFORMANCE ON TEST SET:             Batch Loss = 0.3447423279285431, Accuracy = 0.9622674584388733
Iter #4292608:  Learning rate = 0.000900:   Batch Loss = 0.323551, Accuracy = 0.966796875
PERFORMANCE ON TEST SET:             Batch Loss = 0.3408307433128357, Accuracy = 0.9660928249359131
Iter #4296704:  Learning rate = 0.000900:   Batch Loss = 0.287873, Accuracy = 0.982421875
PERFORMANCE ON TEST SET:             Batch Loss = 0.3640308380126953, Accuracy = 0.9532255530357361
Iter #4300800:  Learning rate = 0.000864:   Batch Loss = 0.298684, Accuracy = 0.978515625
PERFORMANCE ON TEST SET:             Batch Loss = 0.3603631854057312, Accuracy = 0.9527038931846619
Iter #4304896:  Learning rate = 0.000864:   Batch Loss = 0.313394, Accuracy = 0.96875
PERFORMANCE ON TEST SET:             Batch Loss = 0.3423476219177246, Accuracy = 0.9652234315872192
Iter #4308992:  Learning rate = 0.000864:   Batch Loss = 0.299197, Accuracy = 0.97265625
PERFORMANCE ON TEST SET:             Batch Loss = 0.35078713297843933, Accuracy = 0.9613980054855347
Iter #4313088:  Learning rate = 0.000864:   Batch Loss = 0.284547, Accuracy = 0.978515625
PERFORMANCE ON TEST SET:             Batch Loss = 0.34652847051620483, Accuracy = 0.9598330855369568
Iter #4317184:  Learning rate = 0.000864:   Batch Loss = 0.289151, Accuracy = 0.978515625
PERFORMANCE ON TEST SET:             Batch Loss = 0.3288239538669586, Accuracy = 0.9669622778892517
Iter #4321280:  Learning rate = 0.000864:   Batch Loss = 0.284101, Accuracy = 0.984375
PERFORMANCE ON TEST SET:             Batch Loss = 0.34960854053497314, Accuracy = 0.9624413251876831
Iter #4325376:  Learning rate = 0.000864:   Batch Loss = 0.313202, Accuracy = 0.970703125
PERFORMANCE ON TEST SET:             Batch Loss = 0.3538329601287842, Accuracy = 0.961050271987915
Iter #4329472:  Learning rate = 0.000864:   Batch Loss = 0.299636, Accuracy = 0.98046875
PERFORMANCE ON TEST SET:             Batch Loss = 0.34715476632118225, Accuracy = 0.9615718722343445
Iter #4333568:  Learning rate = 0.000864:   Batch Loss = 0.319108, Accuracy = 0.958984375
PERFORMANCE ON TEST SET:             Batch Loss = 0.3599002957344055, Accuracy = 0.9488784670829773
Iter #4337664:  Learning rate = 0.000864:   Batch Loss = 0.285150, Accuracy = 0.98046875
PERFORMANCE ON TEST SET:             Batch Loss = 0.3421342968940735, Accuracy = 0.964701771736145
Iter #4341760:  Learning rate = 0.000864:   Batch Loss = 0.285426, Accuracy = 0.982421875
PERFORMANCE ON TEST SET:             Batch Loss = 0.34324902296066284, Accuracy = 0.9641801714897156
Iter #4345856:  Learning rate = 0.000864:   Batch Loss = 0.297826, Accuracy = 0.9765625
PERFORMANCE ON TEST SET:             Batch Loss = 0.3567633628845215, Accuracy = 0.9560076594352722
Iter #4349952:  Learning rate = 0.000864:   Batch Loss = 0.272688, Accuracy = 0.9921875
PERFORMANCE ON TEST SET:             Batch Loss = 0.3574158549308777, Accuracy = 0.9579203724861145
Iter #4354048:  Learning rate = 0.000864:   Batch Loss = 0.316161, Accuracy = 0.97265625
PERFORMANCE ON TEST SET:             Batch Loss = 0.33866429328918457, Accuracy = 0.9660928249359131
Iter #4358144:  Learning rate = 0.000864:   Batch Loss = 0.304247, Accuracy = 0.97265625
PERFORMANCE ON TEST SET:             Batch Loss = 0.34316086769104004, Accuracy = 0.964006245136261
Iter #4362240:  Learning rate = 0.000864:   Batch Loss = 0.302972, Accuracy = 0.97265625
PERFORMANCE ON TEST SET:             Batch Loss = 0.3635175824165344, Accuracy = 0.9544426798820496
Iter #4366336:  Learning rate = 0.000864:   Batch Loss = 0.290680, Accuracy = 0.984375
PERFORMANCE ON TEST SET:             Batch Loss = 0.352824866771698, Accuracy = 0.9655712246894836
Iter #4370432:  Learning rate = 0.000864:   Batch Loss = 0.318513, Accuracy = 0.966796875
PERFORMANCE ON TEST SET:             Batch Loss = 0.34796005487442017, Accuracy = 0.9617457985877991
Iter #4374528:  Learning rate = 0.000864:   Batch Loss = 0.262103, Accuracy = 0.994140625
PERFORMANCE ON TEST SET:             Batch Loss = 0.3458936810493469, Accuracy = 0.9615718722343445
Iter #4378624:  Learning rate = 0.000864:   Batch Loss = 0.289346, Accuracy = 0.98046875
PERFORMANCE ON TEST SET:             Batch Loss = 0.3466971218585968, Accuracy = 0.961050271987915
Iter #4382720:  Learning rate = 0.000864:   Batch Loss = 0.287134, Accuracy = 0.986328125
PERFORMANCE ON TEST SET:             Batch Loss = 0.35070496797561646, Accuracy = 0.9613980054855347
Iter #4386816:  Learning rate = 0.000864:   Batch Loss = 0.280572, Accuracy = 0.98046875
PERFORMANCE ON TEST SET:             Batch Loss = 0.3423195779323578, Accuracy = 0.9641801714897156
Iter #4390912:  Learning rate = 0.000864:   Batch Loss = 0.275310, Accuracy = 0.986328125
PERFORMANCE ON TEST SET:             Batch Loss = 0.34262338280677795, Accuracy = 0.964006245136261
Iter #4395008:  Learning rate = 0.000864:   Batch Loss = 0.279889, Accuracy = 0.978515625
PERFORMANCE ON TEST SET:             Batch Loss = 0.34407517313957214, Accuracy = 0.9636585116386414
Iter #4399104:  Learning rate = 0.000864:   Batch Loss = 0.275206, Accuracy = 0.9765625
PERFORMANCE ON TEST SET:             Batch Loss = 0.3396129906177521, Accuracy = 0.9619196653366089
Iter #4403200:  Learning rate = 0.000830:   Batch Loss = 0.284328, Accuracy = 0.978515625
PERFORMANCE ON TEST SET:             Batch Loss = 0.33990901708602905, Accuracy = 0.9655712246894836
Iter #4407296:  Learning rate = 0.000830:   Batch Loss = 0.281654, Accuracy = 0.978515625
PERFORMANCE ON TEST SET:             Batch Loss = 0.33678340911865234, Accuracy = 0.9655712246894836
Iter #4411392:  Learning rate = 0.000830:   Batch Loss = 0.291503, Accuracy = 0.970703125
PERFORMANCE ON TEST SET:             Batch Loss = 0.34122610092163086, Accuracy = 0.9622674584388733
Iter #4415488:  Learning rate = 0.000830:   Batch Loss = 0.316632, Accuracy = 0.966796875
PERFORMANCE ON TEST SET:             Batch Loss = 0.34324920177459717, Accuracy = 0.9643540382385254
Iter #4419584:  Learning rate = 0.000830:   Batch Loss = 0.271908, Accuracy = 0.984375
PERFORMANCE ON TEST SET:             Batch Loss = 0.35558468103408813, Accuracy = 0.9565293192863464
Iter #4423680:  Learning rate = 0.000830:   Batch Loss = 0.280610, Accuracy = 0.982421875
PERFORMANCE ON TEST SET:             Batch Loss = 0.3494051694869995, Accuracy = 0.9551382660865784
Iter #4427776:  Learning rate = 0.000830:   Batch Loss = 0.361659, Accuracy = 0.95703125
PERFORMANCE ON TEST SET:             Batch Loss = 0.3427887260913849, Accuracy = 0.9613980054855347
Iter #4431872:  Learning rate = 0.000830:   Batch Loss = 0.268496, Accuracy = 0.986328125
PERFORMANCE ON TEST SET:             Batch Loss = 0.345170795917511, Accuracy = 0.9584420323371887
Iter #4435968:  Learning rate = 0.000830:   Batch Loss = 0.277910, Accuracy = 0.986328125
PERFORMANCE ON TEST SET:             Batch Loss = 0.33701398968696594, Accuracy = 0.9634845852851868
Iter #4440064:  Learning rate = 0.000830:   Batch Loss = 0.302257, Accuracy = 0.9765625
PERFORMANCE ON TEST SET:             Batch Loss = 0.34608712792396545, Accuracy = 0.9594852924346924
Iter #4444160:  Learning rate = 0.000830:   Batch Loss = 0.297176, Accuracy = 0.982421875
PERFORMANCE ON TEST SET:             Batch Loss = 0.34032249450683594, Accuracy = 0.964006245136261
Iter #4448256:  Learning rate = 0.000830:   Batch Loss = 0.274435, Accuracy = 0.986328125
PERFORMANCE ON TEST SET:             Batch Loss = 0.3407359719276428, Accuracy = 0.9664406180381775
Iter #4452352:  Learning rate = 0.000830:   Batch Loss = 0.285907, Accuracy = 0.978515625
PERFORMANCE ON TEST SET:             Batch Loss = 0.3599507212638855, Accuracy = 0.9565293192863464
Iter #4456448:  Learning rate = 0.000830:   Batch Loss = 0.306083, Accuracy = 0.978515625
PERFORMANCE ON TEST SET:             Batch Loss = 0.3420262038707733, Accuracy = 0.9643540382385254
Iter #4460544:  Learning rate = 0.000830:   Batch Loss = 0.285199, Accuracy = 0.984375
PERFORMANCE ON TEST SET:             Batch Loss = 0.3374482989311218, Accuracy = 0.9655712246894836
Iter #4464640:  Learning rate = 0.000830:   Batch Loss = 0.281123, Accuracy = 0.982421875
PERFORMANCE ON TEST SET:             Batch Loss = 0.33492857217788696, Accuracy = 0.9669622778892517
Iter #4468736:  Learning rate = 0.000830:   Batch Loss = 0.274216, Accuracy = 0.986328125
PERFORMANCE ON TEST SET:             Batch Loss = 0.33748120069503784, Accuracy = 0.9636585116386414
Iter #4472832:  Learning rate = 0.000830:   Batch Loss = 0.283452, Accuracy = 0.978515625
PERFORMANCE ON TEST SET:             Batch Loss = 0.36065661907196045, Accuracy = 0.9560076594352722
Iter #4476928:  Learning rate = 0.000830:   Batch Loss = 0.295304, Accuracy = 0.9765625
PERFORMANCE ON TEST SET:             Batch Loss = 0.353066086769104, Accuracy = 0.9573987126350403
Iter #4481024:  Learning rate = 0.000830:   Batch Loss = 0.310003, Accuracy = 0.970703125
PERFORMANCE ON TEST SET:             Batch Loss = 0.3681583106517792, Accuracy = 0.9568770527839661
Iter #4485120:  Learning rate = 0.000830:   Batch Loss = 0.294231, Accuracy = 0.9765625
PERFORMANCE ON TEST SET:             Batch Loss = 0.3324267268180847, Accuracy = 0.9617457985877991
Iter #4489216:  Learning rate = 0.000830:   Batch Loss = 0.263176, Accuracy = 0.986328125
PERFORMANCE ON TEST SET:             Batch Loss = 0.3275824785232544, Accuracy = 0.9673100113868713
Iter #4493312:  Learning rate = 0.000830:   Batch Loss = 0.273033, Accuracy = 0.984375
PERFORMANCE ON TEST SET:             Batch Loss = 0.33240222930908203, Accuracy = 0.965397298336029
Iter #4497408:  Learning rate = 0.000830:   Batch Loss = 0.275371, Accuracy = 0.98046875
PERFORMANCE ON TEST SET:             Batch Loss = 0.35957151651382446, Accuracy = 0.9573987126350403
Iter #4501504:  Learning rate = 0.000796:   Batch Loss = 0.262555, Accuracy = 0.990234375
PERFORMANCE ON TEST SET:             Batch Loss = 0.34772738814353943, Accuracy = 0.959659218788147
Iter #4505600:  Learning rate = 0.000796:   Batch Loss = 0.271196, Accuracy = 0.986328125
PERFORMANCE ON TEST SET:             Batch Loss = 0.35457414388656616, Accuracy = 0.961050271987915
Iter #4509696:  Learning rate = 0.000796:   Batch Loss = 0.283130, Accuracy = 0.978515625
PERFORMANCE ON TEST SET:             Batch Loss = 0.35192084312438965, Accuracy = 0.9589636325836182
Iter #4513792:  Learning rate = 0.000796:   Batch Loss = 0.273751, Accuracy = 0.98046875
PERFORMANCE ON TEST SET:             Batch Loss = 0.3446059823036194, Accuracy = 0.9598330855369568
Iter #4517888:  Learning rate = 0.000796:   Batch Loss = 0.274810, Accuracy = 0.98828125
PERFORMANCE ON TEST SET:             Batch Loss = 0.3478344976902008, Accuracy = 0.9650495648384094
Iter #4521984:  Learning rate = 0.000796:   Batch Loss = 0.275576, Accuracy = 0.982421875
PERFORMANCE ON TEST SET:             Batch Loss = 0.3298299312591553, Accuracy = 0.9645279049873352
Iter #4526080:  Learning rate = 0.000796:   Batch Loss = 0.282966, Accuracy = 0.9765625
PERFORMANCE ON TEST SET:             Batch Loss = 0.3453480005264282, Accuracy = 0.9641801714897156
Iter #4530176:  Learning rate = 0.000796:   Batch Loss = 0.325882, Accuracy = 0.96484375
PERFORMANCE ON TEST SET:             Batch Loss = 0.3483354449272156, Accuracy = 0.9631368517875671
Iter #4534272:  Learning rate = 0.000796:   Batch Loss = 0.266413, Accuracy = 0.986328125
PERFORMANCE ON TEST SET:             Batch Loss = 0.33415108919143677, Accuracy = 0.964701771736145
Iter #4538368:  Learning rate = 0.000796:   Batch Loss = 0.289532, Accuracy = 0.97265625
PERFORMANCE ON TEST SET:             Batch Loss = 0.3327968716621399, Accuracy = 0.961050271987915
Iter #4542464:  Learning rate = 0.000796:   Batch Loss = 0.284042, Accuracy = 0.97265625
PERFORMANCE ON TEST SET:             Batch Loss = 0.336825430393219, Accuracy = 0.9624413251876831
Iter #4546560:  Learning rate = 0.000796:   Batch Loss = 0.285116, Accuracy = 0.982421875
PERFORMANCE ON TEST SET:             Batch Loss = 0.3413865268230438, Accuracy = 0.9629629850387573
Iter #4550656:  Learning rate = 0.000796:   Batch Loss = 0.288208, Accuracy = 0.982421875
PERFORMANCE ON TEST SET:             Batch Loss = 0.3338784873485565, Accuracy = 0.9685271978378296
Iter #4554752:  Learning rate = 0.000796:   Batch Loss = 0.273597, Accuracy = 0.982421875
PERFORMANCE ON TEST SET:             Batch Loss = 0.3454522490501404, Accuracy = 0.9627890586853027
Iter #4558848:  Learning rate = 0.000796:   Batch Loss = 0.271423, Accuracy = 0.982421875
PERFORMANCE ON TEST SET:             Batch Loss = 0.3671130836009979, Accuracy = 0.9582681059837341
Iter #4562944:  Learning rate = 0.000796:   Batch Loss = 0.292559, Accuracy = 0.9765625
PERFORMANCE ON TEST SET:             Batch Loss = 0.33788326382637024, Accuracy = 0.9608763456344604
Iter #4567040:  Learning rate = 0.000796:   Batch Loss = 0.280144, Accuracy = 0.978515625
PERFORMANCE ON TEST SET:             Batch Loss = 0.3493300676345825, Accuracy = 0.9567031860351562
Iter #4571136:  Learning rate = 0.000796:   Batch Loss = 0.280568, Accuracy = 0.978515625
PERFORMANCE ON TEST SET:             Batch Loss = 0.33783167600631714, Accuracy = 0.9627890586853027
Iter #4575232:  Learning rate = 0.000796:   Batch Loss = 0.269210, Accuracy = 0.982421875
PERFORMANCE ON TEST SET:             Batch Loss = 0.34109604358673096, Accuracy = 0.9669622778892517
Iter #4579328:  Learning rate = 0.000796:   Batch Loss = 0.279364, Accuracy = 0.9765625
PERFORMANCE ON TEST SET:             Batch Loss = 0.3319743871688843, Accuracy = 0.9673100113868713
Iter #4583424:  Learning rate = 0.000796:   Batch Loss = 0.267820, Accuracy = 0.984375
PERFORMANCE ON TEST SET:             Batch Loss = 0.3360627591609955, Accuracy = 0.9638323783874512
Iter #4587520:  Learning rate = 0.000796:   Batch Loss = 0.271270, Accuracy = 0.982421875
PERFORMANCE ON TEST SET:             Batch Loss = 0.3304345905780792, Accuracy = 0.9667884111404419
Iter #4591616:  Learning rate = 0.000796:   Batch Loss = 0.275266, Accuracy = 0.984375
PERFORMANCE ON TEST SET:             Batch Loss = 0.3426046073436737, Accuracy = 0.961050271987915
Iter #4595712:  Learning rate = 0.000796:   Batch Loss = 0.292152, Accuracy = 0.982421875
PERFORMANCE ON TEST SET:             Batch Loss = 0.34233736991882324, Accuracy = 0.9598330855369568
Iter #4599808:  Learning rate = 0.000796:   Batch Loss = 0.280535, Accuracy = 0.974609375
PERFORMANCE ON TEST SET:             Batch Loss = 0.3516526222229004, Accuracy = 0.9612241387367249
Iter #4603904:  Learning rate = 0.000765:   Batch Loss = 0.271952, Accuracy = 0.98046875
PERFORMANCE ON TEST SET:             Batch Loss = 0.3336477279663086, Accuracy = 0.9660928249359131
Iter #4608000:  Learning rate = 0.000765:   Batch Loss = 0.288465, Accuracy = 0.97265625
PERFORMANCE ON TEST SET:             Batch Loss = 0.34711477160453796, Accuracy = 0.9577465057373047
Iter #4612096:  Learning rate = 0.000765:   Batch Loss = 0.257887, Accuracy = 0.986328125
PERFORMANCE ON TEST SET:             Batch Loss = 0.3595213294029236, Accuracy = 0.9584420323371887
Iter #4616192:  Learning rate = 0.000765:   Batch Loss = 0.292313, Accuracy = 0.98046875
PERFORMANCE ON TEST SET:             Batch Loss = 0.34798967838287354, Accuracy = 0.9600069522857666
Iter #4620288:  Learning rate = 0.000765:   Batch Loss = 0.277091, Accuracy = 0.978515625
PERFORMANCE ON TEST SET:             Batch Loss = 0.3335314393043518, Accuracy = 0.9660928249359131
Iter #4624384:  Learning rate = 0.000765:   Batch Loss = 0.264216, Accuracy = 0.990234375
PERFORMANCE ON TEST SET:             Batch Loss = 0.326519638299942, Accuracy = 0.9700921773910522
Iter #4628480:  Learning rate = 0.000765:   Batch Loss = 0.262987, Accuracy = 0.986328125
PERFORMANCE ON TEST SET:             Batch Loss = 0.33907920122146606, Accuracy = 0.9655712246894836
Iter #4632576:  Learning rate = 0.000765:   Batch Loss = 0.277987, Accuracy = 0.978515625
PERFORMANCE ON TEST SET:             Batch Loss = 0.3312840461730957, Accuracy = 0.9666144847869873
Iter #4636672:  Learning rate = 0.000765:   Batch Loss = 0.266361, Accuracy = 0.986328125
PERFORMANCE ON TEST SET:             Batch Loss = 0.3291369378566742, Accuracy = 0.9666144847869873
Iter #4640768:  Learning rate = 0.000765:   Batch Loss = 0.303827, Accuracy = 0.96875
PERFORMANCE ON TEST SET:             Batch Loss = 0.35731813311576843, Accuracy = 0.9607024788856506
Iter #4644864:  Learning rate = 0.000765:   Batch Loss = 0.267746, Accuracy = 0.982421875
PERFORMANCE ON TEST SET:             Batch Loss = 0.3257187008857727, Accuracy = 0.9643540382385254
Iter #4648960:  Learning rate = 0.000765:   Batch Loss = 0.297480, Accuracy = 0.97265625
PERFORMANCE ON TEST SET:             Batch Loss = 0.3321114778518677, Accuracy = 0.964701771736145
Iter #4653056:  Learning rate = 0.000765:   Batch Loss = 0.273615, Accuracy = 0.982421875
PERFORMANCE ON TEST SET:             Batch Loss = 0.3164176642894745, Accuracy = 0.9697443842887878
Iter #4657152:  Learning rate = 0.000765:   Batch Loss = 0.275935, Accuracy = 0.986328125
PERFORMANCE ON TEST SET:             Batch Loss = 0.32418930530548096, Accuracy = 0.9699182510375977
Iter #4661248:  Learning rate = 0.000765:   Batch Loss = 0.301625, Accuracy = 0.97265625
PERFORMANCE ON TEST SET:             Batch Loss = 0.3459804058074951, Accuracy = 0.9587897658348083
Iter #4665344:  Learning rate = 0.000765:   Batch Loss = 0.280193, Accuracy = 0.9765625
PERFORMANCE ON TEST SET:             Batch Loss = 0.3445747494697571, Accuracy = 0.9620935320854187
Iter #4669440:  Learning rate = 0.000765:   Batch Loss = 0.274467, Accuracy = 0.98046875
PERFORMANCE ON TEST SET:             Batch Loss = 0.3393556773662567, Accuracy = 0.9622674584388733
Iter #4673536:  Learning rate = 0.000765:   Batch Loss = 0.274366, Accuracy = 0.98828125
PERFORMANCE ON TEST SET:             Batch Loss = 0.3335539400577545, Accuracy = 0.9638323783874512
Iter #4677632:  Learning rate = 0.000765:   Batch Loss = 0.290066, Accuracy = 0.982421875
PERFORMANCE ON TEST SET:             Batch Loss = 0.34643054008483887, Accuracy = 0.965397298336029
Iter #4681728:  Learning rate = 0.000765:   Batch Loss = 0.277498, Accuracy = 0.982421875
PERFORMANCE ON TEST SET:             Batch Loss = 0.3180187940597534, Accuracy = 0.9692227244377136
Iter #4685824:  Learning rate = 0.000765:   Batch Loss = 0.267790, Accuracy = 0.984375
PERFORMANCE ON TEST SET:             Batch Loss = 0.33249446749687195, Accuracy = 0.9671361446380615
Iter #4689920:  Learning rate = 0.000765:   Batch Loss = 0.272940, Accuracy = 0.98046875
PERFORMANCE ON TEST SET:             Batch Loss = 0.33802077174186707, Accuracy = 0.964006245136261
Iter #4694016:  Learning rate = 0.000765:   Batch Loss = 0.309685, Accuracy = 0.974609375
PERFORMANCE ON TEST SET:             Batch Loss = 0.3354875147342682, Accuracy = 0.9669622778892517
Iter #4698112:  Learning rate = 0.000765:   Batch Loss = 0.257091, Accuracy = 0.98828125
PERFORMANCE ON TEST SET:             Batch Loss = 0.34463435411453247, Accuracy = 0.9641801714897156
Iter #4702208:  Learning rate = 0.000734:   Batch Loss = 0.303219, Accuracy = 0.9765625
PERFORMANCE ON TEST SET:             Batch Loss = 0.3235511779785156, Accuracy = 0.9664406180381775
Iter #4706304:  Learning rate = 0.000734:   Batch Loss = 0.291627, Accuracy = 0.978515625
PERFORMANCE ON TEST SET:             Batch Loss = 0.348051518201828, Accuracy = 0.9605286121368408
Iter #4710400:  Learning rate = 0.000734:   Batch Loss = 0.284081, Accuracy = 0.982421875
PERFORMANCE ON TEST SET:             Batch Loss = 0.3324909210205078, Accuracy = 0.9643540382385254
Iter #4714496:  Learning rate = 0.000734:   Batch Loss = 0.293425, Accuracy = 0.970703125
PERFORMANCE ON TEST SET:             Batch Loss = 0.3448793888092041, Accuracy = 0.9643540382385254
Iter #4718592:  Learning rate = 0.000734:   Batch Loss = 0.273004, Accuracy = 0.978515625
PERFORMANCE ON TEST SET:             Batch Loss = 0.34075334668159485, Accuracy = 0.9584420323371887
Iter #4722688:  Learning rate = 0.000734:   Batch Loss = 0.294205, Accuracy = 0.970703125
PERFORMANCE ON TEST SET:             Batch Loss = 0.34557151794433594, Accuracy = 0.960354745388031
Iter #4726784:  Learning rate = 0.000734:   Batch Loss = 0.283718, Accuracy = 0.98046875
PERFORMANCE ON TEST SET:             Batch Loss = 0.3393937647342682, Accuracy = 0.961050271987915
Iter #4730880:  Learning rate = 0.000734:   Batch Loss = 0.287635, Accuracy = 0.9765625
PERFORMANCE ON TEST SET:             Batch Loss = 0.32450976967811584, Accuracy = 0.9662667512893677
Iter #4734976:  Learning rate = 0.000734:   Batch Loss = 0.274715, Accuracy = 0.986328125
PERFORMANCE ON TEST SET:             Batch Loss = 0.32523930072784424, Accuracy = 0.9650495648384094
Iter #4739072:  Learning rate = 0.000734:   Batch Loss = 0.273605, Accuracy = 0.982421875
PERFORMANCE ON TEST SET:             Batch Loss = 0.3322184979915619, Accuracy = 0.9650495648384094
Iter #4743168:  Learning rate = 0.000734:   Batch Loss = 0.261952, Accuracy = 0.984375
PERFORMANCE ON TEST SET:             Batch Loss = 0.3411303758621216, Accuracy = 0.9570509195327759
Iter #4747264:  Learning rate = 0.000734:   Batch Loss = 0.265984, Accuracy = 0.986328125
PERFORMANCE ON TEST SET:             Batch Loss = 0.3468862771987915, Accuracy = 0.9598330855369568
Iter #4751360:  Learning rate = 0.000734:   Batch Loss = 0.286722, Accuracy = 0.974609375
PERFORMANCE ON TEST SET:             Batch Loss = 0.3297361135482788, Accuracy = 0.9667884111404419
Iter #4755456:  Learning rate = 0.000734:   Batch Loss = 0.272153, Accuracy = 0.982421875
PERFORMANCE ON TEST SET:             Batch Loss = 0.32927340269088745, Accuracy = 0.9638323783874512
Iter #4759552:  Learning rate = 0.000734:   Batch Loss = 0.308550, Accuracy = 0.962890625
PERFORMANCE ON TEST SET:             Batch Loss = 0.33160269260406494, Accuracy = 0.9641801714897156
Iter #4763648:  Learning rate = 0.000734:   Batch Loss = 0.284675, Accuracy = 0.9765625
PERFORMANCE ON TEST SET:             Batch Loss = 0.3339003622531891, Accuracy = 0.9626151919364929
Iter #4767744:  Learning rate = 0.000734:   Batch Loss = 0.284504, Accuracy = 0.978515625
PERFORMANCE ON TEST SET:             Batch Loss = 0.3345617353916168, Accuracy = 0.9655712246894836
Iter #4771840:  Learning rate = 0.000734:   Batch Loss = 0.270600, Accuracy = 0.986328125
PERFORMANCE ON TEST SET:             Batch Loss = 0.32215943932533264, Accuracy = 0.9702660441398621
Iter #4775936:  Learning rate = 0.000734:   Batch Loss = 0.253183, Accuracy = 0.9921875
PERFORMANCE ON TEST SET:             Batch Loss = 0.3250100016593933, Accuracy = 0.9662667512893677
Iter #4780032:  Learning rate = 0.000734:   Batch Loss = 0.284411, Accuracy = 0.9765625
PERFORMANCE ON TEST SET:             Batch Loss = 0.34789901971817017, Accuracy = 0.9624413251876831
Iter #4784128:  Learning rate = 0.000734:   Batch Loss = 0.285905, Accuracy = 0.97265625
PERFORMANCE ON TEST SET:             Batch Loss = 0.34364867210388184, Accuracy = 0.9565293192863464
Iter #4788224:  Learning rate = 0.000734:   Batch Loss = 0.267108, Accuracy = 0.982421875
PERFORMANCE ON TEST SET:             Batch Loss = 0.34168118238449097, Accuracy = 0.9613980054855347
Iter #4792320:  Learning rate = 0.000734:   Batch Loss = 0.274876, Accuracy = 0.978515625
PERFORMANCE ON TEST SET:             Batch Loss = 0.3388749361038208, Accuracy = 0.9657450914382935
Iter #4796416:  Learning rate = 0.000734:   Batch Loss = 0.279873, Accuracy = 0.982421875
PERFORMANCE ON TEST SET:             Batch Loss = 0.34216344356536865, Accuracy = 0.9619196653366089
Iter #4800512:  Learning rate = 0.000705:   Batch Loss = 0.288366, Accuracy = 0.9765625
PERFORMANCE ON TEST SET:             Batch Loss = 0.3331563174724579, Accuracy = 0.9650495648384094
Iter #4804608:  Learning rate = 0.000705:   Batch Loss = 0.281854, Accuracy = 0.98046875
PERFORMANCE ON TEST SET:             Batch Loss = 0.32017064094543457, Accuracy = 0.9706137776374817
Iter #4808704:  Learning rate = 0.000705:   Batch Loss = 0.269024, Accuracy = 0.984375
PERFORMANCE ON TEST SET:             Batch Loss = 0.3281111419200897, Accuracy = 0.9666144847869873
Iter #4812800:  Learning rate = 0.000705:   Batch Loss = 0.262294, Accuracy = 0.978515625
PERFORMANCE ON TEST SET:             Batch Loss = 0.3260965645313263, Accuracy = 0.9671361446380615
Iter #4816896:  Learning rate = 0.000705:   Batch Loss = 0.263990, Accuracy = 0.986328125
PERFORMANCE ON TEST SET:             Batch Loss = 0.32541191577911377, Accuracy = 0.9678316712379456
Iter #4820992:  Learning rate = 0.000705:   Batch Loss = 0.267606, Accuracy = 0.984375
PERFORMANCE ON TEST SET:             Batch Loss = 0.3305460810661316, Accuracy = 0.965397298336029
Iter #4825088:  Learning rate = 0.000705:   Batch Loss = 0.257119, Accuracy = 0.98828125
PERFORMANCE ON TEST SET:             Batch Loss = 0.3360062539577484, Accuracy = 0.9634845852851868
Iter #4829184:  Learning rate = 0.000705:   Batch Loss = 0.284939, Accuracy = 0.97265625
PERFORMANCE ON TEST SET:             Batch Loss = 0.33132022619247437, Accuracy = 0.9627890586853027
Iter #4833280:  Learning rate = 0.000705:   Batch Loss = 0.261159, Accuracy = 0.98046875
PERFORMANCE ON TEST SET:             Batch Loss = 0.3327157497406006, Accuracy = 0.9652234315872192
Iter #4837376:  Learning rate = 0.000705:   Batch Loss = 0.252813, Accuracy = 0.9921875
PERFORMANCE ON TEST SET:             Batch Loss = 0.3178178369998932, Accuracy = 0.9685271978378296
Iter #4841472:  Learning rate = 0.000705:   Batch Loss = 0.261059, Accuracy = 0.98828125
PERFORMANCE ON TEST SET:             Batch Loss = 0.3346204161643982, Accuracy = 0.9667884111404419
Iter #4845568:  Learning rate = 0.000705:   Batch Loss = 0.250741, Accuracy = 0.9921875
PERFORMANCE ON TEST SET:             Batch Loss = 0.3238535225391388, Accuracy = 0.9648756980895996
Iter #4849664:  Learning rate = 0.000705:   Batch Loss = 0.269808, Accuracy = 0.984375
PERFORMANCE ON TEST SET:             Batch Loss = 0.32923465967178345, Accuracy = 0.9690488576889038
Iter #4853760:  Learning rate = 0.000705:   Batch Loss = 0.272833, Accuracy = 0.982421875
PERFORMANCE ON TEST SET:             Batch Loss = 0.3240710198879242, Accuracy = 0.9673100113868713
Iter #4857856:  Learning rate = 0.000705:   Batch Loss = 0.273009, Accuracy = 0.98046875
PERFORMANCE ON TEST SET:             Batch Loss = 0.3319282829761505, Accuracy = 0.964006245136261
Iter #4861952:  Learning rate = 0.000705:   Batch Loss = 0.257861, Accuracy = 0.990234375
PERFORMANCE ON TEST SET:             Batch Loss = 0.3365115523338318, Accuracy = 0.9622674584388733
Iter #4866048:  Learning rate = 0.000705:   Batch Loss = 0.275502, Accuracy = 0.974609375
PERFORMANCE ON TEST SET:             Batch Loss = 0.330443412065506, Accuracy = 0.9676578044891357
Iter #4870144:  Learning rate = 0.000705:   Batch Loss = 0.243996, Accuracy = 0.994140625
PERFORMANCE ON TEST SET:             Batch Loss = 0.3249748647212982, Accuracy = 0.9659189581871033
Iter #4874240:  Learning rate = 0.000705:   Batch Loss = 0.263953, Accuracy = 0.9921875
PERFORMANCE ON TEST SET:             Batch Loss = 0.3356378674507141, Accuracy = 0.9673100113868713
Iter #4878336:  Learning rate = 0.000705:   Batch Loss = 0.262529, Accuracy = 0.98828125
PERFORMANCE ON TEST SET:             Batch Loss = 0.31452012062072754, Accuracy = 0.96817946434021
Iter #4882432:  Learning rate = 0.000705:   Batch Loss = 0.258816, Accuracy = 0.990234375
PERFORMANCE ON TEST SET:             Batch Loss = 0.3110370337963104, Accuracy = 0.9704399108886719
Iter #4886528:  Learning rate = 0.000705:   Batch Loss = 0.238794, Accuracy = 0.994140625
PERFORMANCE ON TEST SET:             Batch Loss = 0.31833332777023315, Accuracy = 0.9700921773910522
Iter #4890624:  Learning rate = 0.000705:   Batch Loss = 0.269964, Accuracy = 0.9765625
PERFORMANCE ON TEST SET:             Batch Loss = 0.3165198564529419, Accuracy = 0.9690488576889038
Iter #4894720:  Learning rate = 0.000705:   Batch Loss = 0.269681, Accuracy = 0.974609375
PERFORMANCE ON TEST SET:             Batch Loss = 0.33597755432128906, Accuracy = 0.9622674584388733
Iter #4898816:  Learning rate = 0.000705:   Batch Loss = 0.264009, Accuracy = 0.98828125
PERFORMANCE ON TEST SET:             Batch Loss = 0.34349048137664795, Accuracy = 0.9612241387367249
Iter #4902912:  Learning rate = 0.000676:   Batch Loss = 0.278248, Accuracy = 0.9765625
PERFORMANCE ON TEST SET:             Batch Loss = 0.36100897192955017, Accuracy = 0.960354745388031
Iter #4907008:  Learning rate = 0.000676:   Batch Loss = 0.295751, Accuracy = 0.970703125
PERFORMANCE ON TEST SET:             Batch Loss = 0.33203816413879395, Accuracy = 0.9629629850387573
Iter #4911104:  Learning rate = 0.000676:   Batch Loss = 0.293443, Accuracy = 0.966796875
PERFORMANCE ON TEST SET:             Batch Loss = 0.3347018361091614, Accuracy = 0.960354745388031
Iter #4915200:  Learning rate = 0.000676:   Batch Loss = 0.271141, Accuracy = 0.982421875
PERFORMANCE ON TEST SET:             Batch Loss = 0.33848676085472107, Accuracy = 0.963310718536377
Iter #4919296:  Learning rate = 0.000676:   Batch Loss = 0.286540, Accuracy = 0.984375
PERFORMANCE ON TEST SET:             Batch Loss = 0.33181217312812805, Accuracy = 0.960354745388031
Iter #4923392:  Learning rate = 0.000676:   Batch Loss = 0.275124, Accuracy = 0.982421875
PERFORMANCE ON TEST SET:             Batch Loss = 0.3312560021877289, Accuracy = 0.9636585116386414
Iter #4927488:  Learning rate = 0.000676:   Batch Loss = 0.270256, Accuracy = 0.98046875
PERFORMANCE ON TEST SET:             Batch Loss = 0.33409398794174194, Accuracy = 0.9582681059837341
Iter #4931584:  Learning rate = 0.000676:   Batch Loss = 0.278100, Accuracy = 0.982421875
PERFORMANCE ON TEST SET:             Batch Loss = 0.3222659230232239, Accuracy = 0.9704399108886719
Iter #4935680:  Learning rate = 0.000676:   Batch Loss = 0.268408, Accuracy = 0.986328125
PERFORMANCE ON TEST SET:             Batch Loss = 0.3432598114013672, Accuracy = 0.9600069522857666
Iter #4939776:  Learning rate = 0.000676:   Batch Loss = 0.254948, Accuracy = 0.98828125
PERFORMANCE ON TEST SET:             Batch Loss = 0.3229183852672577, Accuracy = 0.9659189581871033
Iter #4943872:  Learning rate = 0.000676:   Batch Loss = 0.275186, Accuracy = 0.982421875
PERFORMANCE ON TEST SET:             Batch Loss = 0.33775025606155396, Accuracy = 0.9641801714897156
Iter #4947968:  Learning rate = 0.000676:   Batch Loss = 0.269906, Accuracy = 0.984375
PERFORMANCE ON TEST SET:             Batch Loss = 0.32626771926879883, Accuracy = 0.9643540382385254
Iter #4952064:  Learning rate = 0.000676:   Batch Loss = 0.268013, Accuracy = 0.98046875
PERFORMANCE ON TEST SET:             Batch Loss = 0.33361005783081055, Accuracy = 0.9607024788856506
Iter #4956160:  Learning rate = 0.000676:   Batch Loss = 0.277466, Accuracy = 0.982421875
PERFORMANCE ON TEST SET:             Batch Loss = 0.3277634382247925, Accuracy = 0.9636585116386414
Iter #4960256:  Learning rate = 0.000676:   Batch Loss = 0.247492, Accuracy = 0.990234375
PERFORMANCE ON TEST SET:             Batch Loss = 0.3333798944950104, Accuracy = 0.959659218788147
Iter #4964352:  Learning rate = 0.000676:   Batch Loss = 0.266182, Accuracy = 0.986328125
PERFORMANCE ON TEST SET:             Batch Loss = 0.32222825288772583, Accuracy = 0.9676578044891357
Iter #4968448:  Learning rate = 0.000676:   Batch Loss = 0.257339, Accuracy = 0.984375
PERFORMANCE ON TEST SET:             Batch Loss = 0.320848286151886, Accuracy = 0.9702660441398621
Iter #4972544:  Learning rate = 0.000676:   Batch Loss = 0.252506, Accuracy = 0.986328125
PERFORMANCE ON TEST SET:             Batch Loss = 0.3259287178516388, Accuracy = 0.9626151919364929
Iter #4976640:  Learning rate = 0.000676:   Batch Loss = 0.284834, Accuracy = 0.97265625
PERFORMANCE ON TEST SET:             Batch Loss = 0.32615527510643005, Accuracy = 0.96817946434021
Iter #4980736:  Learning rate = 0.000676:   Batch Loss = 0.265809, Accuracy = 0.986328125
PERFORMANCE ON TEST SET:             Batch Loss = 0.3076227903366089, Accuracy = 0.9671361446380615
Iter #4984832:  Learning rate = 0.000676:   Batch Loss = 0.244910, Accuracy = 0.990234375
PERFORMANCE ON TEST SET:             Batch Loss = 0.31657281517982483, Accuracy = 0.9650495648384094
Iter #4988928:  Learning rate = 0.000676:   Batch Loss = 0.250377, Accuracy = 0.994140625
PERFORMANCE ON TEST SET:             Batch Loss = 0.325259268283844, Accuracy = 0.9666144847869873
Iter #4993024:  Learning rate = 0.000676:   Batch Loss = 0.269487, Accuracy = 0.98046875
PERFORMANCE ON TEST SET:             Batch Loss = 0.3244340121746063, Accuracy = 0.9659189581871033
Iter #4997120:  Learning rate = 0.000676:   Batch Loss = 0.277207, Accuracy = 0.984375
PERFORMANCE ON TEST SET:             Batch Loss = 0.3177834451198578, Accuracy = 0.9660928249359131
Iter #5001216:  Learning rate = 0.000649:   Batch Loss = 0.251778, Accuracy = 0.98828125
PERFORMANCE ON TEST SET:             Batch Loss = 0.3241705298423767, Accuracy = 0.9657450914382935
Iter #5005312:  Learning rate = 0.000649:   Batch Loss = 0.247863, Accuracy = 0.990234375
PERFORMANCE ON TEST SET:             Batch Loss = 0.33121293783187866, Accuracy = 0.9605286121368408
Iter #5009408:  Learning rate = 0.000649:   Batch Loss = 0.284722, Accuracy = 0.9765625
PERFORMANCE ON TEST SET:             Batch Loss = 0.3343892991542816, Accuracy = 0.9601808190345764
Iter #5013504:  Learning rate = 0.000649:   Batch Loss = 0.285146, Accuracy = 0.978515625
PERFORMANCE ON TEST SET:             Batch Loss = 0.3266950249671936, Accuracy = 0.9667884111404419
Iter #5017600:  Learning rate = 0.000649:   Batch Loss = 0.255499, Accuracy = 0.986328125
PERFORMANCE ON TEST SET:             Batch Loss = 0.323929101228714, Accuracy = 0.9667884111404419
Iter #5021696:  Learning rate = 0.000649:   Batch Loss = 0.261366, Accuracy = 0.984375
PERFORMANCE ON TEST SET:             Batch Loss = 0.3140549063682556, Accuracy = 0.9678316712379456
Iter #5025792:  Learning rate = 0.000649:   Batch Loss = 0.291995, Accuracy = 0.9765625
PERFORMANCE ON TEST SET:             Batch Loss = 0.3334085941314697, Accuracy = 0.9627890586853027
Iter #5029888:  Learning rate = 0.000649:   Batch Loss = 0.272409, Accuracy = 0.982421875
PERFORMANCE ON TEST SET:             Batch Loss = 0.3339831531047821, Accuracy = 0.9631368517875671
Iter #5033984:  Learning rate = 0.000649:   Batch Loss = 0.280275, Accuracy = 0.98046875
PERFORMANCE ON TEST SET:             Batch Loss = 0.3178013265132904, Accuracy = 0.9687011241912842
Iter #5038080:  Learning rate = 0.000649:   Batch Loss = 0.236967, Accuracy = 0.99609375
PERFORMANCE ON TEST SET:             Batch Loss = 0.3250289559364319, Accuracy = 0.9671361446380615
Iter #5042176:  Learning rate = 0.000649:   Batch Loss = 0.258094, Accuracy = 0.982421875
PERFORMANCE ON TEST SET:             Batch Loss = 0.33473968505859375, Accuracy = 0.9631368517875671
Iter #5046272:  Learning rate = 0.000649:   Batch Loss = 0.245676, Accuracy = 0.994140625
PERFORMANCE ON TEST SET:             Batch Loss = 0.32343989610671997, Accuracy = 0.9638323783874512
Iter #5050368:  Learning rate = 0.000649:   Batch Loss = 0.243956, Accuracy = 0.98828125
PERFORMANCE ON TEST SET:             Batch Loss = 0.31853485107421875, Accuracy = 0.9676578044891357
Iter #5054464:  Learning rate = 0.000649:   Batch Loss = 0.249327, Accuracy = 0.984375
PERFORMANCE ON TEST SET:             Batch Loss = 0.3200926184654236, Accuracy = 0.9667884111404419
Iter #5058560:  Learning rate = 0.000649:   Batch Loss = 0.277534, Accuracy = 0.98046875
PERFORMANCE ON TEST SET:             Batch Loss = 0.3265630900859833, Accuracy = 0.9657450914382935
Iter #5062656:  Learning rate = 0.000649:   Batch Loss = 0.263027, Accuracy = 0.98828125
PERFORMANCE ON TEST SET:             Batch Loss = 0.3216630220413208, Accuracy = 0.9683533310890198
Iter #5066752:  Learning rate = 0.000649:   Batch Loss = 0.247785, Accuracy = 0.984375
PERFORMANCE ON TEST SET:             Batch Loss = 0.33286476135253906, Accuracy = 0.9613980054855347
Iter #5070848:  Learning rate = 0.000649:   Batch Loss = 0.238666, Accuracy = 0.9921875
PERFORMANCE ON TEST SET:             Batch Loss = 0.3202776312828064, Accuracy = 0.9669622778892517
Iter #5074944:  Learning rate = 0.000649:   Batch Loss = 0.267810, Accuracy = 0.986328125
PERFORMANCE ON TEST SET:             Batch Loss = 0.3289616107940674, Accuracy = 0.965397298336029
Iter #5079040:  Learning rate = 0.000649:   Batch Loss = 0.257675, Accuracy = 0.990234375
PERFORMANCE ON TEST SET:             Batch Loss = 0.31119638681411743, Accuracy = 0.9707877039909363
Iter #5083136:  Learning rate = 0.000649:   Batch Loss = 0.250058, Accuracy = 0.990234375
PERFORMANCE ON TEST SET:             Batch Loss = 0.3216884434223175, Accuracy = 0.96817946434021
Iter #5087232:  Learning rate = 0.000649:   Batch Loss = 0.269911, Accuracy = 0.986328125
PERFORMANCE ON TEST SET:             Batch Loss = 0.32956069707870483, Accuracy = 0.9627890586853027
Iter #5091328:  Learning rate = 0.000649:   Batch Loss = 0.254888, Accuracy = 0.9921875
PERFORMANCE ON TEST SET:             Batch Loss = 0.3267669081687927, Accuracy = 0.9652234315872192
Iter #5095424:  Learning rate = 0.000649:   Batch Loss = 0.252901, Accuracy = 0.98828125
PERFORMANCE ON TEST SET:             Batch Loss = 0.3225574493408203, Accuracy = 0.9657450914382935
Iter #5099520:  Learning rate = 0.000649:   Batch Loss = 0.253668, Accuracy = 0.986328125
PERFORMANCE ON TEST SET:             Batch Loss = 0.3302948474884033, Accuracy = 0.9643540382385254
Iter #5103616:  Learning rate = 0.000623:   Batch Loss = 0.252991, Accuracy = 0.982421875
PERFORMANCE ON TEST SET:             Batch Loss = 0.3201723098754883, Accuracy = 0.9645279049873352
Iter #5107712:  Learning rate = 0.000623:   Batch Loss = 0.253033, Accuracy = 0.990234375
PERFORMANCE ON TEST SET:             Batch Loss = 0.3529652953147888, Accuracy = 0.9584420323371887
Iter #5111808:  Learning rate = 0.000623:   Batch Loss = 0.242334, Accuracy = 0.994140625
PERFORMANCE ON TEST SET:             Batch Loss = 0.32897382974624634, Accuracy = 0.9648756980895996
Iter #5115904:  Learning rate = 0.000623:   Batch Loss = 0.266683, Accuracy = 0.984375
PERFORMANCE ON TEST SET:             Batch Loss = 0.32042059302330017, Accuracy = 0.9685271978378296
Iter #5120000:  Learning rate = 0.000623:   Batch Loss = 0.287984, Accuracy = 0.97265625
PERFORMANCE ON TEST SET:             Batch Loss = 0.32324671745300293, Accuracy = 0.9706137776374817
Iter #5124096:  Learning rate = 0.000623:   Batch Loss = 0.272064, Accuracy = 0.982421875
PERFORMANCE ON TEST SET:             Batch Loss = 0.32610148191452026, Accuracy = 0.9624413251876831
Iter #5128192:  Learning rate = 0.000623:   Batch Loss = 0.284997, Accuracy = 0.978515625
PERFORMANCE ON TEST SET:             Batch Loss = 0.3346088230609894, Accuracy = 0.9593114256858826
Iter #5132288:  Learning rate = 0.000623:   Batch Loss = 0.243814, Accuracy = 0.98828125
PERFORMANCE ON TEST SET:             Batch Loss = 0.33163630962371826, Accuracy = 0.9619196653366089
Iter #5136384:  Learning rate = 0.000623:   Batch Loss = 0.263189, Accuracy = 0.982421875
PERFORMANCE ON TEST SET:             Batch Loss = 0.32686281204223633, Accuracy = 0.9643540382385254
Iter #5140480:  Learning rate = 0.000623:   Batch Loss = 0.256595, Accuracy = 0.986328125
PERFORMANCE ON TEST SET:             Batch Loss = 0.3193216919898987, Accuracy = 0.9676578044891357
Iter #5144576:  Learning rate = 0.000623:   Batch Loss = 0.242870, Accuracy = 0.994140625
PERFORMANCE ON TEST SET:             Batch Loss = 0.31699466705322266, Accuracy = 0.9648756980895996
Iter #5148672:  Learning rate = 0.000623:   Batch Loss = 0.244153, Accuracy = 0.990234375
PERFORMANCE ON TEST SET:             Batch Loss = 0.3328893780708313, Accuracy = 0.9634845852851868
Iter #5152768:  Learning rate = 0.000623:   Batch Loss = 0.253637, Accuracy = 0.98828125
PERFORMANCE ON TEST SET:             Batch Loss = 0.32721954584121704, Accuracy = 0.9669622778892517
Iter #5156864:  Learning rate = 0.000623:   Batch Loss = 0.292358, Accuracy = 0.9765625
PERFORMANCE ON TEST SET:             Batch Loss = 0.3305302560329437, Accuracy = 0.9627890586853027
Iter #5160960:  Learning rate = 0.000623:   Batch Loss = 0.256773, Accuracy = 0.98046875
PERFORMANCE ON TEST SET:             Batch Loss = 0.32005929946899414, Accuracy = 0.9657450914382935
Iter #5165056:  Learning rate = 0.000623:   Batch Loss = 0.252530, Accuracy = 0.9921875
PERFORMANCE ON TEST SET:             Batch Loss = 0.3391280770301819, Accuracy = 0.9613980054855347
Iter #5169152:  Learning rate = 0.000623:   Batch Loss = 0.260289, Accuracy = 0.982421875
PERFORMANCE ON TEST SET:             Batch Loss = 0.3170866370201111, Accuracy = 0.9657450914382935
Iter #5173248:  Learning rate = 0.000623:   Batch Loss = 0.264846, Accuracy = 0.982421875
PERFORMANCE ON TEST SET:             Batch Loss = 0.3241279125213623, Accuracy = 0.9662667512893677
Iter #5177344:  Learning rate = 0.000623:   Batch Loss = 0.249245, Accuracy = 0.990234375
PERFORMANCE ON TEST SET:             Batch Loss = 0.3217375576496124, Accuracy = 0.9669622778892517
Iter #5181440:  Learning rate = 0.000623:   Batch Loss = 0.275927, Accuracy = 0.9765625
PERFORMANCE ON TEST SET:             Batch Loss = 0.32819050550460815, Accuracy = 0.9643540382385254
Iter #5185536:  Learning rate = 0.000623:   Batch Loss = 0.235754, Accuracy = 0.994140625
PERFORMANCE ON TEST SET:             Batch Loss = 0.31463631987571716, Accuracy = 0.9685271978378296
Iter #5189632:  Learning rate = 0.000623:   Batch Loss = 0.261530, Accuracy = 0.98828125
PERFORMANCE ON TEST SET:             Batch Loss = 0.3213811218738556, Accuracy = 0.9683533310890198
Iter #5193728:  Learning rate = 0.000623:   Batch Loss = 0.252010, Accuracy = 0.98828125
PERFORMANCE ON TEST SET:             Batch Loss = 0.31738904118537903, Accuracy = 0.9671361446380615
Iter #5197824:  Learning rate = 0.000623:   Batch Loss = 0.252025, Accuracy = 0.986328125
PERFORMANCE ON TEST SET:             Batch Loss = 0.3234625458717346, Accuracy = 0.9645279049873352
Iter #5201920:  Learning rate = 0.000599:   Batch Loss = 0.250262, Accuracy = 0.982421875
PERFORMANCE ON TEST SET:             Batch Loss = 0.3146142065525055, Accuracy = 0.9674839377403259
Iter #5206016:  Learning rate = 0.000599:   Batch Loss = 0.236454, Accuracy = 0.99609375
PERFORMANCE ON TEST SET:             Batch Loss = 0.32110124826431274, Accuracy = 0.9660928249359131
Iter #5210112:  Learning rate = 0.000599:   Batch Loss = 0.249691, Accuracy = 0.986328125
PERFORMANCE ON TEST SET:             Batch Loss = 0.314174622297287, Accuracy = 0.9666144847869873
Iter #5214208:  Learning rate = 0.000599:   Batch Loss = 0.263203, Accuracy = 0.986328125
PERFORMANCE ON TEST SET:             Batch Loss = 0.3225173354148865, Accuracy = 0.9673100113868713
Iter #5218304:  Learning rate = 0.000599:   Batch Loss = 0.252256, Accuracy = 0.984375
PERFORMANCE ON TEST SET:             Batch Loss = 0.31294962763786316, Accuracy = 0.9680055379867554
Iter #5222400:  Learning rate = 0.000599:   Batch Loss = 0.243648, Accuracy = 0.990234375
PERFORMANCE ON TEST SET:             Batch Loss = 0.32349705696105957, Accuracy = 0.9664406180381775
Iter #5226496:  Learning rate = 0.000599:   Batch Loss = 0.246530, Accuracy = 0.990234375
PERFORMANCE ON TEST SET:             Batch Loss = 0.3092007040977478, Accuracy = 0.9693966507911682
Iter #5230592:  Learning rate = 0.000599:   Batch Loss = 0.259927, Accuracy = 0.986328125
PERFORMANCE ON TEST SET:             Batch Loss = 0.32369154691696167, Accuracy = 0.9678316712379456
Iter #5234688:  Learning rate = 0.000599:   Batch Loss = 0.248159, Accuracy = 0.986328125
PERFORMANCE ON TEST SET:             Batch Loss = 0.31129056215286255, Accuracy = 0.9683533310890198
Iter #5238784:  Learning rate = 0.000599:   Batch Loss = 0.254524, Accuracy = 0.9921875
PERFORMANCE ON TEST SET:             Batch Loss = 0.3186319172382355, Accuracy = 0.9666144847869873
Iter #5242880:  Learning rate = 0.000599:   Batch Loss = 0.240089, Accuracy = 0.990234375
PERFORMANCE ON TEST SET:             Batch Loss = 0.31615668535232544, Accuracy = 0.9683533310890198
Iter #5246976:  Learning rate = 0.000599:   Batch Loss = 0.249345, Accuracy = 0.98828125
PERFORMANCE ON TEST SET:             Batch Loss = 0.31040194630622864, Accuracy = 0.9700921773910522
Iter #5251072:  Learning rate = 0.000599:   Batch Loss = 0.242877, Accuracy = 0.98828125
PERFORMANCE ON TEST SET:             Batch Loss = 0.31255707144737244, Accuracy = 0.9683533310890198
Iter #5255168:  Learning rate = 0.000599:   Batch Loss = 0.243151, Accuracy = 0.994140625
PERFORMANCE ON TEST SET:             Batch Loss = 0.3151516616344452, Accuracy = 0.9692227244377136
Iter #5259264:  Learning rate = 0.000599:   Batch Loss = 0.251894, Accuracy = 0.990234375
PERFORMANCE ON TEST SET:             Batch Loss = 0.31548845767974854, Accuracy = 0.9666144847869873
Iter #5263360:  Learning rate = 0.000599:   Batch Loss = 0.235918, Accuracy = 0.99609375
PERFORMANCE ON TEST SET:             Batch Loss = 0.3265035152435303, Accuracy = 0.9641801714897156
Iter #5267456:  Learning rate = 0.000599:   Batch Loss = 0.238319, Accuracy = 0.994140625
PERFORMANCE ON TEST SET:             Batch Loss = 0.3177799880504608, Accuracy = 0.964701771736145
Iter #5271552:  Learning rate = 0.000599:   Batch Loss = 0.243564, Accuracy = 0.99609375
PERFORMANCE ON TEST SET:             Batch Loss = 0.30367404222488403, Accuracy = 0.9699182510375977
Iter #5275648:  Learning rate = 0.000599:   Batch Loss = 0.256404, Accuracy = 0.982421875
PERFORMANCE ON TEST SET:             Batch Loss = 0.31617051362991333, Accuracy = 0.9666144847869873
Iter #5279744:  Learning rate = 0.000599:   Batch Loss = 0.263978, Accuracy = 0.990234375
PERFORMANCE ON TEST SET:             Batch Loss = 0.32343313097953796, Accuracy = 0.9662667512893677
Iter #5283840:  Learning rate = 0.000599:   Batch Loss = 0.251323, Accuracy = 0.9921875
PERFORMANCE ON TEST SET:             Batch Loss = 0.3302130401134491, Accuracy = 0.959659218788147
Iter #5287936:  Learning rate = 0.000599:   Batch Loss = 0.258874, Accuracy = 0.986328125
PERFORMANCE ON TEST SET:             Batch Loss = 0.3177715241909027, Accuracy = 0.9700921773910522
Iter #5292032:  Learning rate = 0.000599:   Batch Loss = 0.232173, Accuracy = 0.998046875
PERFORMANCE ON TEST SET:             Batch Loss = 0.3114194869995117, Accuracy = 0.9660928249359131
Iter #5296128:  Learning rate = 0.000599:   Batch Loss = 0.259690, Accuracy = 0.98828125
PERFORMANCE ON TEST SET:             Batch Loss = 0.31890785694122314, Accuracy = 0.9652234315872192
Iter #5300224:  Learning rate = 0.000575:   Batch Loss = 0.242305, Accuracy = 0.994140625
PERFORMANCE ON TEST SET:             Batch Loss = 0.3115011751651764, Accuracy = 0.9697443842887878
Iter #5304320:  Learning rate = 0.000575:   Batch Loss = 0.234163, Accuracy = 0.990234375
PERFORMANCE ON TEST SET:             Batch Loss = 0.3131447434425354, Accuracy = 0.9667884111404419
Iter #5308416:  Learning rate = 0.000575:   Batch Loss = 0.245219, Accuracy = 0.98828125
PERFORMANCE ON TEST SET:             Batch Loss = 0.3221331238746643, Accuracy = 0.9657450914382935
Iter #5312512:  Learning rate = 0.000575:   Batch Loss = 0.261067, Accuracy = 0.98046875
PERFORMANCE ON TEST SET:             Batch Loss = 0.3464241623878479, Accuracy = 0.9627890586853027
Iter #5316608:  Learning rate = 0.000575:   Batch Loss = 0.242906, Accuracy = 0.990234375
PERFORMANCE ON TEST SET:             Batch Loss = 0.31130626797676086, Accuracy = 0.9666144847869873
Iter #5320704:  Learning rate = 0.000575:   Batch Loss = 0.237501, Accuracy = 0.99609375
PERFORMANCE ON TEST SET:             Batch Loss = 0.3081793189048767, Accuracy = 0.9685271978378296
Iter #5324800:  Learning rate = 0.000575:   Batch Loss = 0.253819, Accuracy = 0.990234375
PERFORMANCE ON TEST SET:             Batch Loss = 0.30959606170654297, Accuracy = 0.9690488576889038
Iter #5328896:  Learning rate = 0.000575:   Batch Loss = 0.264424, Accuracy = 0.9765625
PERFORMANCE ON TEST SET:             Batch Loss = 0.32783034443855286, Accuracy = 0.9612241387367249
Iter #5332992:  Learning rate = 0.000575:   Batch Loss = 0.274883, Accuracy = 0.9765625
PERFORMANCE ON TEST SET:             Batch Loss = 0.32570526003837585, Accuracy = 0.9615718722343445
Iter #5337088:  Learning rate = 0.000575:   Batch Loss = 0.238084, Accuracy = 0.9921875
PERFORMANCE ON TEST SET:             Batch Loss = 0.33037495613098145, Accuracy = 0.9629629850387573
Iter #5341184:  Learning rate = 0.000575:   Batch Loss = 0.232846, Accuracy = 0.99609375
PERFORMANCE ON TEST SET:             Batch Loss = 0.3257589042186737, Accuracy = 0.965397298336029
Iter #5345280:  Learning rate = 0.000575:   Batch Loss = 0.238780, Accuracy = 0.986328125
PERFORMANCE ON TEST SET:             Batch Loss = 0.3150535225868225, Accuracy = 0.9666144847869873
Iter #5349376:  Learning rate = 0.000575:   Batch Loss = 0.241001, Accuracy = 0.990234375
PERFORMANCE ON TEST SET:             Batch Loss = 0.29707950353622437, Accuracy = 0.9728742837905884
Iter #5353472:  Learning rate = 0.000575:   Batch Loss = 0.245350, Accuracy = 0.9921875
PERFORMANCE ON TEST SET:             Batch Loss = 0.30655449628829956, Accuracy = 0.9685271978378296
Iter #5357568:  Learning rate = 0.000575:   Batch Loss = 0.255487, Accuracy = 0.986328125
PERFORMANCE ON TEST SET:             Batch Loss = 0.31292468309402466, Accuracy = 0.9660928249359131
Iter #5361664:  Learning rate = 0.000575:   Batch Loss = 0.247666, Accuracy = 0.986328125
PERFORMANCE ON TEST SET:             Batch Loss = 0.32023346424102783, Accuracy = 0.9645279049873352
Iter #5365760:  Learning rate = 0.000575:   Batch Loss = 0.270221, Accuracy = 0.970703125
PERFORMANCE ON TEST SET:             Batch Loss = 0.31029418110847473, Accuracy = 0.9693966507911682
Iter #5369856:  Learning rate = 0.000575:   Batch Loss = 0.243763, Accuracy = 0.9921875
PERFORMANCE ON TEST SET:             Batch Loss = 0.3160099983215332, Accuracy = 0.9683533310890198
Iter #5373952:  Learning rate = 0.000575:   Batch Loss = 0.266240, Accuracy = 0.98046875
PERFORMANCE ON TEST SET:             Batch Loss = 0.31362593173980713, Accuracy = 0.9662667512893677
Iter #5378048:  Learning rate = 0.000575:   Batch Loss = 0.237101, Accuracy = 0.994140625
PERFORMANCE ON TEST SET:             Batch Loss = 0.3258183002471924, Accuracy = 0.9657450914382935
Iter #5382144:  Learning rate = 0.000575:   Batch Loss = 0.248051, Accuracy = 0.986328125
PERFORMANCE ON TEST SET:             Batch Loss = 0.3200087249279022, Accuracy = 0.964701771736145
Iter #5386240:  Learning rate = 0.000575:   Batch Loss = 0.256289, Accuracy = 0.982421875
PERFORMANCE ON TEST SET:             Batch Loss = 0.3142778277397156, Accuracy = 0.9692227244377136
Iter #5390336:  Learning rate = 0.000575:   Batch Loss = 0.252483, Accuracy = 0.986328125
PERFORMANCE ON TEST SET:             Batch Loss = 0.3157932162284851, Accuracy = 0.9683533310890198
Iter #5394432:  Learning rate = 0.000575:   Batch Loss = 0.237075, Accuracy = 0.994140625
PERFORMANCE ON TEST SET:             Batch Loss = 0.3052161931991577, Accuracy = 0.9690488576889038
Iter #5398528:  Learning rate = 0.000575:   Batch Loss = 0.240424, Accuracy = 0.98828125
PERFORMANCE ON TEST SET:             Batch Loss = 0.310947984457016, Accuracy = 0.9674839377403259
Iter #5402624:  Learning rate = 0.000552:   Batch Loss = 0.246161, Accuracy = 0.9921875
PERFORMANCE ON TEST SET:             Batch Loss = 0.3450345993041992, Accuracy = 0.9605286121368408
Iter #5406720:  Learning rate = 0.000552:   Batch Loss = 0.241554, Accuracy = 0.990234375
PERFORMANCE ON TEST SET:             Batch Loss = 0.3153340518474579, Accuracy = 0.9674839377403259
Iter #5410816:  Learning rate = 0.000552:   Batch Loss = 0.260364, Accuracy = 0.9921875
PERFORMANCE ON TEST SET:             Batch Loss = 0.3282686471939087, Accuracy = 0.9617457985877991
Iter #5414912:  Learning rate = 0.000552:   Batch Loss = 0.243903, Accuracy = 0.990234375
PERFORMANCE ON TEST SET:             Batch Loss = 0.312112420797348, Accuracy = 0.9683533310890198
Iter #5419008:  Learning rate = 0.000552:   Batch Loss = 0.232621, Accuracy = 0.994140625
PERFORMANCE ON TEST SET:             Batch Loss = 0.29805049300193787, Accuracy = 0.9735698103904724
Iter #5423104:  Learning rate = 0.000552:   Batch Loss = 0.244991, Accuracy = 0.98828125
PERFORMANCE ON TEST SET:             Batch Loss = 0.3032844662666321, Accuracy = 0.9714832305908203
Iter #5427200:  Learning rate = 0.000552:   Batch Loss = 0.252540, Accuracy = 0.986328125
PERFORMANCE ON TEST SET:             Batch Loss = 0.31693339347839355, Accuracy = 0.9678316712379456
Iter #5431296:  Learning rate = 0.000552:   Batch Loss = 0.244947, Accuracy = 0.98828125
PERFORMANCE ON TEST SET:             Batch Loss = 0.3179461359977722, Accuracy = 0.9669622778892517
Iter #5435392:  Learning rate = 0.000552:   Batch Loss = 0.238646, Accuracy = 0.98828125
PERFORMANCE ON TEST SET:             Batch Loss = 0.3124154210090637, Accuracy = 0.9676578044891357
Iter #5439488:  Learning rate = 0.000552:   Batch Loss = 0.224105, Accuracy = 0.998046875
PERFORMANCE ON TEST SET:             Batch Loss = 0.3183581531047821, Accuracy = 0.9659189581871033
Iter #5443584:  Learning rate = 0.000552:   Batch Loss = 0.242872, Accuracy = 0.9921875
PERFORMANCE ON TEST SET:             Batch Loss = 0.29209110140800476, Accuracy = 0.9739176034927368
Iter #5447680:  Learning rate = 0.000552:   Batch Loss = 0.233451, Accuracy = 0.994140625
PERFORMANCE ON TEST SET:             Batch Loss = 0.29229819774627686, Accuracy = 0.9749608635902405
Iter #5451776:  Learning rate = 0.000552:   Batch Loss = 0.254997, Accuracy = 0.98828125
PERFORMANCE ON TEST SET:             Batch Loss = 0.3108236789703369, Accuracy = 0.9669622778892517
Iter #5455872:  Learning rate = 0.000552:   Batch Loss = 0.244886, Accuracy = 0.98828125
PERFORMANCE ON TEST SET:             Batch Loss = 0.31606170535087585, Accuracy = 0.96817946434021
Iter #5459968:  Learning rate = 0.000552:   Batch Loss = 0.240758, Accuracy = 0.990234375
PERFORMANCE ON TEST SET:             Batch Loss = 0.3142926096916199, Accuracy = 0.9659189581871033
Iter #5464064:  Learning rate = 0.000552:   Batch Loss = 0.243379, Accuracy = 0.990234375
PERFORMANCE ON TEST SET:             Batch Loss = 0.31543219089508057, Accuracy = 0.9660928249359131
Iter #5468160:  Learning rate = 0.000552:   Batch Loss = 0.248638, Accuracy = 0.990234375
PERFORMANCE ON TEST SET:             Batch Loss = 0.31123605370521545, Accuracy = 0.9685271978378296
Iter #5472256:  Learning rate = 0.000552:   Batch Loss = 0.242736, Accuracy = 0.990234375
PERFORMANCE ON TEST SET:             Batch Loss = 0.31761202216148376, Accuracy = 0.9666144847869873
Iter #5476352:  Learning rate = 0.000552:   Batch Loss = 0.264581, Accuracy = 0.98046875
PERFORMANCE ON TEST SET:             Batch Loss = 0.3087867498397827, Accuracy = 0.9673100113868713
Iter #5480448:  Learning rate = 0.000552:   Batch Loss = 0.227528, Accuracy = 0.99609375
PERFORMANCE ON TEST SET:             Batch Loss = 0.3070925176143646, Accuracy = 0.969570517539978
Iter #5484544:  Learning rate = 0.000552:   Batch Loss = 0.235033, Accuracy = 0.990234375
PERFORMANCE ON TEST SET:             Batch Loss = 0.32387110590934753, Accuracy = 0.9627890586853027
Iter #5488640:  Learning rate = 0.000552:   Batch Loss = 0.257500, Accuracy = 0.98828125
PERFORMANCE ON TEST SET:             Batch Loss = 0.3058624863624573, Accuracy = 0.9680055379867554
Iter #5492736:  Learning rate = 0.000552:   Batch Loss = 0.234536, Accuracy = 0.994140625
PERFORMANCE ON TEST SET:             Batch Loss = 0.3024994432926178, Accuracy = 0.9700921773910522
Iter #5496832:  Learning rate = 0.000552:   Batch Loss = 0.231215, Accuracy = 0.9921875
PERFORMANCE ON TEST SET:             Batch Loss = 0.32022523880004883, Accuracy = 0.9624413251876831
Iter #5500928:  Learning rate = 0.000530:   Batch Loss = 0.233678, Accuracy = 0.994140625
PERFORMANCE ON TEST SET:             Batch Loss = 0.3161030411720276, Accuracy = 0.9659189581871033
Iter #5505024:  Learning rate = 0.000530:   Batch Loss = 0.252374, Accuracy = 0.986328125
PERFORMANCE ON TEST SET:             Batch Loss = 0.31760528683662415, Accuracy = 0.9648756980895996
Iter #5509120:  Learning rate = 0.000530:   Batch Loss = 0.255501, Accuracy = 0.98046875
PERFORMANCE ON TEST SET:             Batch Loss = 0.3025893568992615, Accuracy = 0.9704399108886719
Iter #5513216:  Learning rate = 0.000530:   Batch Loss = 0.245440, Accuracy = 0.98828125
PERFORMANCE ON TEST SET:             Batch Loss = 0.32985514402389526, Accuracy = 0.965397298336029
Iter #5517312:  Learning rate = 0.000530:   Batch Loss = 0.256574, Accuracy = 0.98046875
PERFORMANCE ON TEST SET:             Batch Loss = 0.30374324321746826, Accuracy = 0.972526490688324
Iter #5521408:  Learning rate = 0.000530:   Batch Loss = 0.240482, Accuracy = 0.990234375
PERFORMANCE ON TEST SET:             Batch Loss = 0.3089575171470642, Accuracy = 0.9674839377403259
Iter #5525504:  Learning rate = 0.000530:   Batch Loss = 0.244401, Accuracy = 0.990234375
PERFORMANCE ON TEST SET:             Batch Loss = 0.3121108412742615, Accuracy = 0.965397298336029
Iter #5529600:  Learning rate = 0.000530:   Batch Loss = 0.258040, Accuracy = 0.982421875
PERFORMANCE ON TEST SET:             Batch Loss = 0.3154039978981018, Accuracy = 0.9680055379867554
Iter #5533696:  Learning rate = 0.000530:   Batch Loss = 0.233878, Accuracy = 0.98828125
PERFORMANCE ON TEST SET:             Batch Loss = 0.3071373701095581, Accuracy = 0.9690488576889038
Iter #5537792:  Learning rate = 0.000530:   Batch Loss = 0.265049, Accuracy = 0.98046875
PERFORMANCE ON TEST SET:             Batch Loss = 0.3003768026828766, Accuracy = 0.9721787571907043
Iter #5541888:  Learning rate = 0.000530:   Batch Loss = 0.253667, Accuracy = 0.98828125
PERFORMANCE ON TEST SET:             Batch Loss = 0.30951255559921265, Accuracy = 0.9699182510375977
Iter #5545984:  Learning rate = 0.000530:   Batch Loss = 0.242057, Accuracy = 0.98828125
PERFORMANCE ON TEST SET:             Batch Loss = 0.29672181606292725, Accuracy = 0.9678316712379456
Iter #5550080:  Learning rate = 0.000530:   Batch Loss = 0.233723, Accuracy = 0.994140625
PERFORMANCE ON TEST SET:             Batch Loss = 0.31133145093917847, Accuracy = 0.9648756980895996
Iter #5554176:  Learning rate = 0.000530:   Batch Loss = 0.241960, Accuracy = 0.9921875
PERFORMANCE ON TEST SET:             Batch Loss = 0.30294597148895264, Accuracy = 0.9704399108886719
Iter #5558272:  Learning rate = 0.000530:   Batch Loss = 0.258250, Accuracy = 0.984375
PERFORMANCE ON TEST SET:             Batch Loss = 0.30775195360183716, Accuracy = 0.9692227244377136
Iter #5562368:  Learning rate = 0.000530:   Batch Loss = 0.239652, Accuracy = 0.994140625
PERFORMANCE ON TEST SET:             Batch Loss = 0.308032751083374, Accuracy = 0.9669622778892517
Iter #5566464:  Learning rate = 0.000530:   Batch Loss = 0.279214, Accuracy = 0.978515625
PERFORMANCE ON TEST SET:             Batch Loss = 0.32488924264907837, Accuracy = 0.9619196653366089
Iter #5570560:  Learning rate = 0.000530:   Batch Loss = 0.271046, Accuracy = 0.982421875
PERFORMANCE ON TEST SET:             Batch Loss = 0.30905672907829285, Accuracy = 0.9669622778892517
